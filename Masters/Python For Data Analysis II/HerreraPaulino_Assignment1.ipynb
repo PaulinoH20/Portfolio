{
 "cells": [
  {
   "cell_type": "markdown",
   "id": "b0f0edf6-ef97-4b60-bb2b-542a6d869c0f",
   "metadata": {},
   "source": [
    "# **Individual Assingment**: Default Credit Cards Clients"
   ]
  },
  {
   "cell_type": "markdown",
   "id": "6c69f0e3-e89e-4e1b-ae19-98b58bbdd494",
   "metadata": {},
   "source": [
    "A bank in you region want to build a model to predict credit card defaulters more accurately in order minimize money loss. For this task we have a set of data on default payments and demographic data to help us do our task. Data is comprised in the following CSV files:"
   ]
  },
  {
   "cell_type": "markdown",
   "id": "1956996c-b1c6-4eae-a697-5471a0133a17",
   "metadata": {},
   "source": [
    "\n",
    "**TRAINING**\n",
    "\n",
    "**`train_customers.csv`**\n",
    " - `ID`: ID of each client\n",
    " - `LIMIT_BAL`: Amount of given credit in NT dollars (includes individual and family/supplementary credit\n",
    " - `SEX`: Gender (1=male, 2=female)\n",
    " - `EDUCATION`: (1=graduate school, 2=university, 3=high school, 4=others, 5=unknown, 6=unknown)\n",
    " - `MARRIAGE`: Marital status (1=married, 2=single, 3=others)\n",
    " - `AGE`: Age in years\n",
    " \n",
    "**`train_series.csv`**\n",
    " - `ID`: ID of each client\n",
    " - `MONTH`: The month to wich data is refering\n",
    " - `PAY`: Repayment status in the corresponding month (-1=pay duly, 1=payment delay for one month, 2=payment delay for two months, … 8=payment delay for eight months, 9=payment delay for nine months and above)\n",
    " - `BILL_AMT`: Amount of bill statement in the corresponding month (NT dollar)\n",
    " - `PAY_AMT`: Amount of previous payment in the corresponding month (NT dollar)\n",
    " \n",
    "**`train_target.csv`**\n",
    " - `DEFAULT_JULY`: Default payment in July (1=yes, 0=no)\n",
    " \n",
    " \n",
    "**TEST** (For PART 3)\n",
    " - **`test_data.csv`**\n",
    " \n",
    "**SUBMISSION** (For PART 3)\n",
    " - **`submission_features.csv`**\n",
    " \n",
    "**BACKUP**\n",
    " - **`train_data.csv`**"
   ]
  },
  {
   "cell_type": "markdown",
   "id": "2fb6107f-37c2-4740-9bb1-966909b113f1",
   "metadata": {},
   "source": [
    "Load all data and answer the following questions"
   ]
  },
  {
   "cell_type": "markdown",
   "id": "f314b742",
   "metadata": {},
   "source": [
    "Libraries used for the development of this project"
   ]
  },
  {
   "cell_type": "code",
   "execution_count": 2,
   "id": "5089a350",
   "metadata": {},
   "outputs": [],
   "source": [
    "#Libraries for manipulating dataframes.\n",
    "import pandas as pd\n",
    "import numpy as np\n",
    "\n",
    "#Libraries for graphical interface\n",
    "import plotly.express as px\n",
    "from matplotlib import pyplot as plt\n",
    "import seaborn as sns\n",
    "\n",
    "#Libraries for preprocessing data\\\n",
    "from sklearn.preprocessing import StandardScaler, OneHotEncoder\n",
    "from sklearn.model_selection import train_test_split\n",
    "from sklearn.model_selection import cross_val_score, KFold\n",
    "from sklearn.metrics import confusion_matrix\n",
    "\n",
    "#Libraries for modeling\n",
    "from sklearn.model_selection import RandomizedSearchCV\n",
    "from sklearn.model_selection import StratifiedKFold\n",
    "import xgboost as xgb\n",
    "from sklearn.linear_model import LogisticRegression\n",
    "from sklearn.ensemble import RandomForestClassifier"
   ]
  },
  {
   "cell_type": "markdown",
   "id": "d8c0fb2b-6f5c-47a9-ae11-e007e6f81ac1",
   "metadata": {},
   "source": [
    "## **A. DATA ENGINEERING (3 points)**"
   ]
  },
  {
   "cell_type": "markdown",
   "id": "a27d2e93-7ff5-4e98-bb19-48bb2bae34ec",
   "metadata": {},
   "source": [
    "### **Question 1**\n",
    "\n",
    "(2 points)"
   ]
  },
  {
   "cell_type": "code",
   "execution_count": 3,
   "id": "a5799127",
   "metadata": {},
   "outputs": [],
   "source": [
    "#Reading the train_series.sv\n",
    "data_train = pd.read_csv('data/train_series.csv')"
   ]
  },
  {
   "cell_type": "code",
   "execution_count": 4,
   "id": "91ef8052",
   "metadata": {},
   "outputs": [
    {
     "name": "stdout",
     "output_type": "stream",
     "text": [
      "<class 'pandas.core.frame.DataFrame'>\n",
      "RangeIndex: 120000 entries, 0 to 119999\n",
      "Data columns (total 5 columns):\n",
      " #   Column    Non-Null Count   Dtype  \n",
      "---  ------    --------------   -----  \n",
      " 0   ID        120000 non-null  int64  \n",
      " 1   MONTH     120000 non-null  object \n",
      " 2   PAY       120000 non-null  float64\n",
      " 3   BILL_AMT  120000 non-null  float64\n",
      " 4   PAY_AMT   120000 non-null  float64\n",
      "dtypes: float64(3), int64(1), object(1)\n",
      "memory usage: 4.6+ MB\n"
     ]
    }
   ],
   "source": [
    "data_train.info()"
   ]
  },
  {
   "cell_type": "code",
   "execution_count": 5,
   "id": "f4ed375a",
   "metadata": {},
   "outputs": [
    {
     "data": {
      "text/html": [
       "<div>\n",
       "<style scoped>\n",
       "    .dataframe tbody tr th:only-of-type {\n",
       "        vertical-align: middle;\n",
       "    }\n",
       "\n",
       "    .dataframe tbody tr th {\n",
       "        vertical-align: top;\n",
       "    }\n",
       "\n",
       "    .dataframe thead th {\n",
       "        text-align: right;\n",
       "    }\n",
       "</style>\n",
       "<table border=\"1\" class=\"dataframe\">\n",
       "  <thead>\n",
       "    <tr style=\"text-align: right;\">\n",
       "      <th></th>\n",
       "      <th>count</th>\n",
       "      <th>mean</th>\n",
       "      <th>std</th>\n",
       "      <th>min</th>\n",
       "      <th>25%</th>\n",
       "      <th>50%</th>\n",
       "      <th>75%</th>\n",
       "      <th>max</th>\n",
       "    </tr>\n",
       "  </thead>\n",
       "  <tbody>\n",
       "    <tr>\n",
       "      <th>ID</th>\n",
       "      <td>120000.0</td>\n",
       "      <td>14940.658750</td>\n",
       "      <td>8652.639329</td>\n",
       "      <td>0.0</td>\n",
       "      <td>7460.75</td>\n",
       "      <td>14952.5</td>\n",
       "      <td>22439.5</td>\n",
       "      <td>29999.0</td>\n",
       "    </tr>\n",
       "    <tr>\n",
       "      <th>PAY</th>\n",
       "      <td>120000.0</td>\n",
       "      <td>-0.184108</td>\n",
       "      <td>1.162214</td>\n",
       "      <td>-2.0</td>\n",
       "      <td>-1.00</td>\n",
       "      <td>0.0</td>\n",
       "      <td>0.0</td>\n",
       "      <td>8.0</td>\n",
       "    </tr>\n",
       "    <tr>\n",
       "      <th>BILL_AMT</th>\n",
       "      <td>120000.0</td>\n",
       "      <td>45149.829742</td>\n",
       "      <td>67202.434963</td>\n",
       "      <td>-170000.0</td>\n",
       "      <td>2400.00</td>\n",
       "      <td>19373.5</td>\n",
       "      <td>57304.0</td>\n",
       "      <td>1664089.0</td>\n",
       "    </tr>\n",
       "    <tr>\n",
       "      <th>PAY_AMT</th>\n",
       "      <td>120000.0</td>\n",
       "      <td>5288.666108</td>\n",
       "      <td>18032.628836</td>\n",
       "      <td>0.0</td>\n",
       "      <td>390.00</td>\n",
       "      <td>1904.5</td>\n",
       "      <td>4610.0</td>\n",
       "      <td>1684259.0</td>\n",
       "    </tr>\n",
       "  </tbody>\n",
       "</table>\n",
       "</div>"
      ],
      "text/plain": [
       "             count          mean           std       min      25%      50%  \\\n",
       "ID        120000.0  14940.658750   8652.639329       0.0  7460.75  14952.5   \n",
       "PAY       120000.0     -0.184108      1.162214      -2.0    -1.00      0.0   \n",
       "BILL_AMT  120000.0  45149.829742  67202.434963 -170000.0  2400.00  19373.5   \n",
       "PAY_AMT   120000.0   5288.666108  18032.628836       0.0   390.00   1904.5   \n",
       "\n",
       "              75%        max  \n",
       "ID        22439.5    29999.0  \n",
       "PAY           0.0        8.0  \n",
       "BILL_AMT  57304.0  1664089.0  \n",
       "PAY_AMT    4610.0  1684259.0  "
      ]
     },
     "execution_count": 5,
     "metadata": {},
     "output_type": "execute_result"
    }
   ],
   "source": [
    "data_train.describe().T"
   ]
  },
  {
   "cell_type": "code",
   "execution_count": 6,
   "id": "c37bde2d",
   "metadata": {},
   "outputs": [
    {
     "data": {
      "text/html": [
       "<div>\n",
       "<style scoped>\n",
       "    .dataframe tbody tr th:only-of-type {\n",
       "        vertical-align: middle;\n",
       "    }\n",
       "\n",
       "    .dataframe tbody tr th {\n",
       "        vertical-align: top;\n",
       "    }\n",
       "\n",
       "    .dataframe thead th {\n",
       "        text-align: right;\n",
       "    }\n",
       "</style>\n",
       "<table border=\"1\" class=\"dataframe\">\n",
       "  <thead>\n",
       "    <tr style=\"text-align: right;\">\n",
       "      <th></th>\n",
       "      <th>ID</th>\n",
       "      <th>MONTH</th>\n",
       "      <th>PAY</th>\n",
       "      <th>BILL_AMT</th>\n",
       "      <th>PAY_AMT</th>\n",
       "    </tr>\n",
       "  </thead>\n",
       "  <tbody>\n",
       "    <tr>\n",
       "      <th>0</th>\n",
       "      <td>9910</td>\n",
       "      <td>JUNE</td>\n",
       "      <td>0.0</td>\n",
       "      <td>76885.0</td>\n",
       "      <td>3500.0</td>\n",
       "    </tr>\n",
       "    <tr>\n",
       "      <th>1</th>\n",
       "      <td>9910</td>\n",
       "      <td>MAY</td>\n",
       "      <td>0.0</td>\n",
       "      <td>79106.0</td>\n",
       "      <td>4000.0</td>\n",
       "    </tr>\n",
       "    <tr>\n",
       "      <th>2</th>\n",
       "      <td>9910</td>\n",
       "      <td>APRIL</td>\n",
       "      <td>0.0</td>\n",
       "      <td>81231.0</td>\n",
       "      <td>3000.0</td>\n",
       "    </tr>\n",
       "    <tr>\n",
       "      <th>3</th>\n",
       "      <td>9910</td>\n",
       "      <td>MARCH</td>\n",
       "      <td>0.0</td>\n",
       "      <td>81983.0</td>\n",
       "      <td>3146.0</td>\n",
       "    </tr>\n",
       "    <tr>\n",
       "      <th>4</th>\n",
       "      <td>9910</td>\n",
       "      <td>FEBRUARY</td>\n",
       "      <td>0.0</td>\n",
       "      <td>83773.0</td>\n",
       "      <td>3260.0</td>\n",
       "    </tr>\n",
       "    <tr>\n",
       "      <th>5</th>\n",
       "      <td>9910</td>\n",
       "      <td>JANUARY</td>\n",
       "      <td>0.0</td>\n",
       "      <td>85532.0</td>\n",
       "      <td>3200.0</td>\n",
       "    </tr>\n",
       "  </tbody>\n",
       "</table>\n",
       "</div>"
      ],
      "text/plain": [
       "     ID     MONTH  PAY  BILL_AMT  PAY_AMT\n",
       "0  9910      JUNE  0.0   76885.0   3500.0\n",
       "1  9910       MAY  0.0   79106.0   4000.0\n",
       "2  9910     APRIL  0.0   81231.0   3000.0\n",
       "3  9910     MARCH  0.0   81983.0   3146.0\n",
       "4  9910  FEBRUARY  0.0   83773.0   3260.0\n",
       "5  9910   JANUARY  0.0   85532.0   3200.0"
      ]
     },
     "execution_count": 6,
     "metadata": {},
     "output_type": "execute_result"
    }
   ],
   "source": [
    "data_train.head(n=6)"
   ]
  },
  {
   "cell_type": "code",
   "execution_count": 7,
   "id": "7770c32c",
   "metadata": {},
   "outputs": [
    {
     "data": {
      "text/html": [
       "<div>\n",
       "<style scoped>\n",
       "    .dataframe tbody tr th:only-of-type {\n",
       "        vertical-align: middle;\n",
       "    }\n",
       "\n",
       "    .dataframe tbody tr th {\n",
       "        vertical-align: top;\n",
       "    }\n",
       "\n",
       "    .dataframe thead th {\n",
       "        text-align: right;\n",
       "    }\n",
       "</style>\n",
       "<table border=\"1\" class=\"dataframe\">\n",
       "  <thead>\n",
       "    <tr style=\"text-align: right;\">\n",
       "      <th></th>\n",
       "      <th>ID</th>\n",
       "      <th>MONTH</th>\n",
       "      <th>PAY</th>\n",
       "      <th>BILL_AMT</th>\n",
       "      <th>PAY_AMT</th>\n",
       "    </tr>\n",
       "  </thead>\n",
       "  <tbody>\n",
       "    <tr>\n",
       "      <th>86110</th>\n",
       "      <td>19850</td>\n",
       "      <td>FEBRUARY</td>\n",
       "      <td>0.0</td>\n",
       "      <td>19456.0</td>\n",
       "      <td>636.0</td>\n",
       "    </tr>\n",
       "    <tr>\n",
       "      <th>74390</th>\n",
       "      <td>8375</td>\n",
       "      <td>APRIL</td>\n",
       "      <td>0.0</td>\n",
       "      <td>21103.0</td>\n",
       "      <td>0.0</td>\n",
       "    </tr>\n",
       "    <tr>\n",
       "      <th>77491</th>\n",
       "      <td>28659</td>\n",
       "      <td>MAY</td>\n",
       "      <td>-2.0</td>\n",
       "      <td>0.0</td>\n",
       "      <td>3500.0</td>\n",
       "    </tr>\n",
       "    <tr>\n",
       "      <th>27497</th>\n",
       "      <td>8301</td>\n",
       "      <td>JANUARY</td>\n",
       "      <td>-2.0</td>\n",
       "      <td>0.0</td>\n",
       "      <td>0.0</td>\n",
       "    </tr>\n",
       "    <tr>\n",
       "      <th>47492</th>\n",
       "      <td>5642</td>\n",
       "      <td>APRIL</td>\n",
       "      <td>-2.0</td>\n",
       "      <td>1258.0</td>\n",
       "      <td>2577.0</td>\n",
       "    </tr>\n",
       "    <tr>\n",
       "      <th>97893</th>\n",
       "      <td>24240</td>\n",
       "      <td>MARCH</td>\n",
       "      <td>-1.0</td>\n",
       "      <td>610.0</td>\n",
       "      <td>0.0</td>\n",
       "    </tr>\n",
       "    <tr>\n",
       "      <th>106279</th>\n",
       "      <td>28380</td>\n",
       "      <td>MAY</td>\n",
       "      <td>0.0</td>\n",
       "      <td>135210.0</td>\n",
       "      <td>7003.0</td>\n",
       "    </tr>\n",
       "    <tr>\n",
       "      <th>9590</th>\n",
       "      <td>23328</td>\n",
       "      <td>APRIL</td>\n",
       "      <td>0.0</td>\n",
       "      <td>133868.0</td>\n",
       "      <td>5004.0</td>\n",
       "    </tr>\n",
       "    <tr>\n",
       "      <th>69691</th>\n",
       "      <td>14064</td>\n",
       "      <td>MAY</td>\n",
       "      <td>-2.0</td>\n",
       "      <td>7818.0</td>\n",
       "      <td>8091.0</td>\n",
       "    </tr>\n",
       "    <tr>\n",
       "      <th>16733</th>\n",
       "      <td>1635</td>\n",
       "      <td>JANUARY</td>\n",
       "      <td>-2.0</td>\n",
       "      <td>0.0</td>\n",
       "      <td>18774.0</td>\n",
       "    </tr>\n",
       "  </tbody>\n",
       "</table>\n",
       "</div>"
      ],
      "text/plain": [
       "           ID     MONTH  PAY  BILL_AMT  PAY_AMT\n",
       "86110   19850  FEBRUARY  0.0   19456.0    636.0\n",
       "74390    8375     APRIL  0.0   21103.0      0.0\n",
       "77491   28659       MAY -2.0       0.0   3500.0\n",
       "27497    8301   JANUARY -2.0       0.0      0.0\n",
       "47492    5642     APRIL -2.0    1258.0   2577.0\n",
       "97893   24240     MARCH -1.0     610.0      0.0\n",
       "106279  28380       MAY  0.0  135210.0   7003.0\n",
       "9590    23328     APRIL  0.0  133868.0   5004.0\n",
       "69691   14064       MAY -2.0    7818.0   8091.0\n",
       "16733    1635   JANUARY -2.0       0.0  18774.0"
      ]
     },
     "execution_count": 7,
     "metadata": {},
     "output_type": "execute_result"
    }
   ],
   "source": [
    "data_train.sample(n = 10, random_state= 1337)"
   ]
  },
  {
   "cell_type": "code",
   "execution_count": 8,
   "id": "c9824641",
   "metadata": {},
   "outputs": [],
   "source": [
    "#Generating the pivot table\n",
    "data_train_pivot = data_train.pivot_table(\n",
    "    index = 'ID',\n",
    "    columns = 'MONTH',\n",
    "    values = ['PAY','BILL_AMT', 'PAY_AMT']\n",
    ")\n",
    "\n",
    "#Adjusting the columns into a tuple\n",
    "data_train_pivot.columns = data_train_pivot.columns.to_flat_index()\n",
    "\n",
    "#Renaming the tuples a single value\n",
    "data_train_pivot.columns = ['_'.join(col) for col in data_train_pivot.columns.values] #Answer Question 1"
   ]
  },
  {
   "cell_type": "markdown",
   "id": "f4eb1756-ee53-4b4a-ad19-08fc9e144340",
   "metadata": {},
   "source": [
    "### **Question 2**\n",
    "\n",
    "(0.5 points)"
   ]
  },
  {
   "cell_type": "code",
   "execution_count": 9,
   "id": "34142b87",
   "metadata": {},
   "outputs": [],
   "source": [
    "#Reading the train_customers.csv file\n",
    "data_train_customers = pd.read_csv('data/train_customers.csv')"
   ]
  },
  {
   "cell_type": "code",
   "execution_count": 10,
   "id": "f637e7c1",
   "metadata": {},
   "outputs": [
    {
     "name": "stdout",
     "output_type": "stream",
     "text": [
      "<class 'pandas.core.frame.DataFrame'>\n",
      "RangeIndex: 20000 entries, 0 to 19999\n",
      "Data columns (total 6 columns):\n",
      " #   Column     Non-Null Count  Dtype  \n",
      "---  ------     --------------  -----  \n",
      " 0   ID         20000 non-null  int64  \n",
      " 1   LIMIT_BAL  20000 non-null  float64\n",
      " 2   SEX        20000 non-null  int64  \n",
      " 3   EDUCATION  20000 non-null  int64  \n",
      " 4   MARRIAGE   20000 non-null  int64  \n",
      " 5   AGE        20000 non-null  int64  \n",
      "dtypes: float64(1), int64(5)\n",
      "memory usage: 937.6 KB\n"
     ]
    }
   ],
   "source": [
    "data_train_customers.info()"
   ]
  },
  {
   "cell_type": "code",
   "execution_count": 11,
   "id": "5564545b",
   "metadata": {},
   "outputs": [
    {
     "data": {
      "text/html": [
       "<div>\n",
       "<style scoped>\n",
       "    .dataframe tbody tr th:only-of-type {\n",
       "        vertical-align: middle;\n",
       "    }\n",
       "\n",
       "    .dataframe tbody tr th {\n",
       "        vertical-align: top;\n",
       "    }\n",
       "\n",
       "    .dataframe thead th {\n",
       "        text-align: right;\n",
       "    }\n",
       "</style>\n",
       "<table border=\"1\" class=\"dataframe\">\n",
       "  <thead>\n",
       "    <tr style=\"text-align: right;\">\n",
       "      <th></th>\n",
       "      <th>ID</th>\n",
       "      <th>LIMIT_BAL</th>\n",
       "      <th>SEX</th>\n",
       "      <th>EDUCATION</th>\n",
       "      <th>MARRIAGE</th>\n",
       "      <th>AGE</th>\n",
       "    </tr>\n",
       "  </thead>\n",
       "  <tbody>\n",
       "    <tr>\n",
       "      <th>0</th>\n",
       "      <td>9910</td>\n",
       "      <td>130000.0</td>\n",
       "      <td>2</td>\n",
       "      <td>2</td>\n",
       "      <td>1</td>\n",
       "      <td>27</td>\n",
       "    </tr>\n",
       "    <tr>\n",
       "      <th>1</th>\n",
       "      <td>15561</td>\n",
       "      <td>60000.0</td>\n",
       "      <td>2</td>\n",
       "      <td>3</td>\n",
       "      <td>1</td>\n",
       "      <td>48</td>\n",
       "    </tr>\n",
       "    <tr>\n",
       "      <th>2</th>\n",
       "      <td>23607</td>\n",
       "      <td>330000.0</td>\n",
       "      <td>2</td>\n",
       "      <td>1</td>\n",
       "      <td>2</td>\n",
       "      <td>44</td>\n",
       "    </tr>\n",
       "    <tr>\n",
       "      <th>3</th>\n",
       "      <td>6314</td>\n",
       "      <td>60000.0</td>\n",
       "      <td>2</td>\n",
       "      <td>2</td>\n",
       "      <td>2</td>\n",
       "      <td>24</td>\n",
       "    </tr>\n",
       "    <tr>\n",
       "      <th>4</th>\n",
       "      <td>27534</td>\n",
       "      <td>180000.0</td>\n",
       "      <td>2</td>\n",
       "      <td>1</td>\n",
       "      <td>2</td>\n",
       "      <td>33</td>\n",
       "    </tr>\n",
       "  </tbody>\n",
       "</table>\n",
       "</div>"
      ],
      "text/plain": [
       "      ID  LIMIT_BAL  SEX  EDUCATION  MARRIAGE  AGE\n",
       "0   9910   130000.0    2          2         1   27\n",
       "1  15561    60000.0    2          3         1   48\n",
       "2  23607   330000.0    2          1         2   44\n",
       "3   6314    60000.0    2          2         2   24\n",
       "4  27534   180000.0    2          1         2   33"
      ]
     },
     "execution_count": 11,
     "metadata": {},
     "output_type": "execute_result"
    }
   ],
   "source": [
    "data_train_customers.head()"
   ]
  },
  {
   "cell_type": "code",
   "execution_count": 12,
   "id": "ddd88fae",
   "metadata": {},
   "outputs": [
    {
     "data": {
      "text/html": [
       "<div>\n",
       "<style scoped>\n",
       "    .dataframe tbody tr th:only-of-type {\n",
       "        vertical-align: middle;\n",
       "    }\n",
       "\n",
       "    .dataframe tbody tr th {\n",
       "        vertical-align: top;\n",
       "    }\n",
       "\n",
       "    .dataframe thead th {\n",
       "        text-align: right;\n",
       "    }\n",
       "</style>\n",
       "<table border=\"1\" class=\"dataframe\">\n",
       "  <thead>\n",
       "    <tr style=\"text-align: right;\">\n",
       "      <th></th>\n",
       "      <th>count</th>\n",
       "      <th>mean</th>\n",
       "      <th>std</th>\n",
       "      <th>min</th>\n",
       "      <th>25%</th>\n",
       "      <th>50%</th>\n",
       "      <th>75%</th>\n",
       "      <th>max</th>\n",
       "    </tr>\n",
       "  </thead>\n",
       "  <tbody>\n",
       "    <tr>\n",
       "      <th>ID</th>\n",
       "      <td>20000.0</td>\n",
       "      <td>14940.65875</td>\n",
       "      <td>8652.819600</td>\n",
       "      <td>0.0</td>\n",
       "      <td>7460.75</td>\n",
       "      <td>14952.5</td>\n",
       "      <td>22439.50</td>\n",
       "      <td>29999.0</td>\n",
       "    </tr>\n",
       "    <tr>\n",
       "      <th>LIMIT_BAL</th>\n",
       "      <td>20000.0</td>\n",
       "      <td>167954.60000</td>\n",
       "      <td>129789.561234</td>\n",
       "      <td>10000.0</td>\n",
       "      <td>50000.00</td>\n",
       "      <td>140000.0</td>\n",
       "      <td>240000.00</td>\n",
       "      <td>1000000.0</td>\n",
       "    </tr>\n",
       "    <tr>\n",
       "      <th>SEX</th>\n",
       "      <td>20000.0</td>\n",
       "      <td>1.60580</td>\n",
       "      <td>0.488690</td>\n",
       "      <td>1.0</td>\n",
       "      <td>1.00</td>\n",
       "      <td>2.0</td>\n",
       "      <td>2.00</td>\n",
       "      <td>2.0</td>\n",
       "    </tr>\n",
       "    <tr>\n",
       "      <th>EDUCATION</th>\n",
       "      <td>20000.0</td>\n",
       "      <td>1.85385</td>\n",
       "      <td>0.791847</td>\n",
       "      <td>0.0</td>\n",
       "      <td>1.00</td>\n",
       "      <td>2.0</td>\n",
       "      <td>2.00</td>\n",
       "      <td>6.0</td>\n",
       "    </tr>\n",
       "    <tr>\n",
       "      <th>MARRIAGE</th>\n",
       "      <td>20000.0</td>\n",
       "      <td>1.55005</td>\n",
       "      <td>0.522215</td>\n",
       "      <td>0.0</td>\n",
       "      <td>1.00</td>\n",
       "      <td>2.0</td>\n",
       "      <td>2.00</td>\n",
       "      <td>3.0</td>\n",
       "    </tr>\n",
       "    <tr>\n",
       "      <th>AGE</th>\n",
       "      <td>20000.0</td>\n",
       "      <td>35.49430</td>\n",
       "      <td>9.230733</td>\n",
       "      <td>21.0</td>\n",
       "      <td>28.00</td>\n",
       "      <td>34.0</td>\n",
       "      <td>41.25</td>\n",
       "      <td>79.0</td>\n",
       "    </tr>\n",
       "  </tbody>\n",
       "</table>\n",
       "</div>"
      ],
      "text/plain": [
       "             count          mean            std      min       25%       50%  \\\n",
       "ID         20000.0   14940.65875    8652.819600      0.0   7460.75   14952.5   \n",
       "LIMIT_BAL  20000.0  167954.60000  129789.561234  10000.0  50000.00  140000.0   \n",
       "SEX        20000.0       1.60580       0.488690      1.0      1.00       2.0   \n",
       "EDUCATION  20000.0       1.85385       0.791847      0.0      1.00       2.0   \n",
       "MARRIAGE   20000.0       1.55005       0.522215      0.0      1.00       2.0   \n",
       "AGE        20000.0      35.49430       9.230733     21.0     28.00      34.0   \n",
       "\n",
       "                 75%        max  \n",
       "ID          22439.50    29999.0  \n",
       "LIMIT_BAL  240000.00  1000000.0  \n",
       "SEX             2.00        2.0  \n",
       "EDUCATION       2.00        6.0  \n",
       "MARRIAGE        2.00        3.0  \n",
       "AGE            41.25       79.0  "
      ]
     },
     "execution_count": 12,
     "metadata": {},
     "output_type": "execute_result"
    }
   ],
   "source": [
    "data_train_customers.describe().T"
   ]
  },
  {
   "cell_type": "code",
   "execution_count": 13,
   "id": "bd6f1c83",
   "metadata": {},
   "outputs": [
    {
     "data": {
      "text/html": [
       "<div>\n",
       "<style scoped>\n",
       "    .dataframe tbody tr th:only-of-type {\n",
       "        vertical-align: middle;\n",
       "    }\n",
       "\n",
       "    .dataframe tbody tr th {\n",
       "        vertical-align: top;\n",
       "    }\n",
       "\n",
       "    .dataframe thead th {\n",
       "        text-align: right;\n",
       "    }\n",
       "</style>\n",
       "<table border=\"1\" class=\"dataframe\">\n",
       "  <thead>\n",
       "    <tr style=\"text-align: right;\">\n",
       "      <th></th>\n",
       "      <th>ID</th>\n",
       "      <th>LIMIT_BAL</th>\n",
       "      <th>SEX</th>\n",
       "      <th>EDUCATION</th>\n",
       "      <th>MARRIAGE</th>\n",
       "      <th>AGE</th>\n",
       "    </tr>\n",
       "  </thead>\n",
       "  <tbody>\n",
       "    <tr>\n",
       "      <th>19463</th>\n",
       "      <td>29341</td>\n",
       "      <td>60000.0</td>\n",
       "      <td>1</td>\n",
       "      <td>1</td>\n",
       "      <td>2</td>\n",
       "      <td>23</td>\n",
       "    </tr>\n",
       "    <tr>\n",
       "      <th>10054</th>\n",
       "      <td>12891</td>\n",
       "      <td>230000.0</td>\n",
       "      <td>2</td>\n",
       "      <td>2</td>\n",
       "      <td>1</td>\n",
       "      <td>30</td>\n",
       "    </tr>\n",
       "    <tr>\n",
       "      <th>1149</th>\n",
       "      <td>1535</td>\n",
       "      <td>290000.0</td>\n",
       "      <td>1</td>\n",
       "      <td>1</td>\n",
       "      <td>2</td>\n",
       "      <td>43</td>\n",
       "    </tr>\n",
       "    <tr>\n",
       "      <th>3772</th>\n",
       "      <td>15668</td>\n",
       "      <td>30000.0</td>\n",
       "      <td>1</td>\n",
       "      <td>2</td>\n",
       "      <td>2</td>\n",
       "      <td>34</td>\n",
       "    </tr>\n",
       "    <tr>\n",
       "      <th>5210</th>\n",
       "      <td>1680</td>\n",
       "      <td>50000.0</td>\n",
       "      <td>2</td>\n",
       "      <td>3</td>\n",
       "      <td>1</td>\n",
       "      <td>43</td>\n",
       "    </tr>\n",
       "    <tr>\n",
       "      <th>15153</th>\n",
       "      <td>14034</td>\n",
       "      <td>30000.0</td>\n",
       "      <td>2</td>\n",
       "      <td>3</td>\n",
       "      <td>1</td>\n",
       "      <td>56</td>\n",
       "    </tr>\n",
       "    <tr>\n",
       "      <th>2144</th>\n",
       "      <td>21573</td>\n",
       "      <td>20000.0</td>\n",
       "      <td>1</td>\n",
       "      <td>2</td>\n",
       "      <td>2</td>\n",
       "      <td>34</td>\n",
       "    </tr>\n",
       "    <tr>\n",
       "      <th>304</th>\n",
       "      <td>15271</td>\n",
       "      <td>130000.0</td>\n",
       "      <td>2</td>\n",
       "      <td>1</td>\n",
       "      <td>2</td>\n",
       "      <td>27</td>\n",
       "    </tr>\n",
       "    <tr>\n",
       "      <th>15194</th>\n",
       "      <td>14930</td>\n",
       "      <td>160000.0</td>\n",
       "      <td>2</td>\n",
       "      <td>4</td>\n",
       "      <td>1</td>\n",
       "      <td>28</td>\n",
       "    </tr>\n",
       "    <tr>\n",
       "      <th>4224</th>\n",
       "      <td>11289</td>\n",
       "      <td>170000.0</td>\n",
       "      <td>2</td>\n",
       "      <td>2</td>\n",
       "      <td>1</td>\n",
       "      <td>39</td>\n",
       "    </tr>\n",
       "  </tbody>\n",
       "</table>\n",
       "</div>"
      ],
      "text/plain": [
       "          ID  LIMIT_BAL  SEX  EDUCATION  MARRIAGE  AGE\n",
       "19463  29341    60000.0    1          1         2   23\n",
       "10054  12891   230000.0    2          2         1   30\n",
       "1149    1535   290000.0    1          1         2   43\n",
       "3772   15668    30000.0    1          2         2   34\n",
       "5210    1680    50000.0    2          3         1   43\n",
       "15153  14034    30000.0    2          3         1   56\n",
       "2144   21573    20000.0    1          2         2   34\n",
       "304    15271   130000.0    2          1         2   27\n",
       "15194  14930   160000.0    2          4         1   28\n",
       "4224   11289   170000.0    2          2         1   39"
      ]
     },
     "execution_count": 13,
     "metadata": {},
     "output_type": "execute_result"
    }
   ],
   "source": [
    "data_train_customers.sample(n = 10, random_state= 1337)"
   ]
  },
  {
   "cell_type": "code",
   "execution_count": 14,
   "id": "dc0ebfb1",
   "metadata": {},
   "outputs": [
    {
     "data": {
      "text/html": [
       "<div>\n",
       "<style scoped>\n",
       "    .dataframe tbody tr th:only-of-type {\n",
       "        vertical-align: middle;\n",
       "    }\n",
       "\n",
       "    .dataframe tbody tr th {\n",
       "        vertical-align: top;\n",
       "    }\n",
       "\n",
       "    .dataframe thead th {\n",
       "        text-align: right;\n",
       "    }\n",
       "</style>\n",
       "<table border=\"1\" class=\"dataframe\">\n",
       "  <thead>\n",
       "    <tr style=\"text-align: right;\">\n",
       "      <th></th>\n",
       "      <th>ID</th>\n",
       "      <th>LIMIT_BAL</th>\n",
       "      <th>SEX</th>\n",
       "      <th>EDUCATION</th>\n",
       "      <th>MARRIAGE</th>\n",
       "      <th>AGE</th>\n",
       "      <th>BILL_AMT_APRIL</th>\n",
       "      <th>BILL_AMT_FEBRUARY</th>\n",
       "      <th>BILL_AMT_JANUARY</th>\n",
       "      <th>BILL_AMT_JUNE</th>\n",
       "      <th>...</th>\n",
       "      <th>PAY_JANUARY</th>\n",
       "      <th>PAY_JUNE</th>\n",
       "      <th>PAY_MARCH</th>\n",
       "      <th>PAY_MAY</th>\n",
       "      <th>PAY_AMT_APRIL</th>\n",
       "      <th>PAY_AMT_FEBRUARY</th>\n",
       "      <th>PAY_AMT_JANUARY</th>\n",
       "      <th>PAY_AMT_JUNE</th>\n",
       "      <th>PAY_AMT_MARCH</th>\n",
       "      <th>PAY_AMT_MAY</th>\n",
       "    </tr>\n",
       "  </thead>\n",
       "  <tbody>\n",
       "    <tr>\n",
       "      <th>19463</th>\n",
       "      <td>29341</td>\n",
       "      <td>60000.0</td>\n",
       "      <td>1</td>\n",
       "      <td>1</td>\n",
       "      <td>2</td>\n",
       "      <td>23</td>\n",
       "      <td>53407.0</td>\n",
       "      <td>16597.0</td>\n",
       "      <td>18423.0</td>\n",
       "      <td>31348.0</td>\n",
       "      <td>...</td>\n",
       "      <td>0.0</td>\n",
       "      <td>0.0</td>\n",
       "      <td>0.0</td>\n",
       "      <td>0.0</td>\n",
       "      <td>2000.0</td>\n",
       "      <td>2000.0</td>\n",
       "      <td>1000.0</td>\n",
       "      <td>20109.0</td>\n",
       "      <td>1000.0</td>\n",
       "      <td>5000.0</td>\n",
       "    </tr>\n",
       "    <tr>\n",
       "      <th>10054</th>\n",
       "      <td>12891</td>\n",
       "      <td>230000.0</td>\n",
       "      <td>2</td>\n",
       "      <td>2</td>\n",
       "      <td>1</td>\n",
       "      <td>30</td>\n",
       "      <td>1249.0</td>\n",
       "      <td>7079.0</td>\n",
       "      <td>1880.0</td>\n",
       "      <td>4942.0</td>\n",
       "      <td>...</td>\n",
       "      <td>0.0</td>\n",
       "      <td>0.0</td>\n",
       "      <td>-1.0</td>\n",
       "      <td>-1.0</td>\n",
       "      <td>2959.0</td>\n",
       "      <td>1000.0</td>\n",
       "      <td>0.0</td>\n",
       "      <td>2554.0</td>\n",
       "      <td>5000.0</td>\n",
       "      <td>1000.0</td>\n",
       "    </tr>\n",
       "    <tr>\n",
       "      <th>1149</th>\n",
       "      <td>1535</td>\n",
       "      <td>290000.0</td>\n",
       "      <td>1</td>\n",
       "      <td>1</td>\n",
       "      <td>2</td>\n",
       "      <td>43</td>\n",
       "      <td>217394.0</td>\n",
       "      <td>228203.0</td>\n",
       "      <td>233974.0</td>\n",
       "      <td>197175.0</td>\n",
       "      <td>...</td>\n",
       "      <td>0.0</td>\n",
       "      <td>0.0</td>\n",
       "      <td>0.0</td>\n",
       "      <td>0.0</td>\n",
       "      <td>10000.0</td>\n",
       "      <td>10000.0</td>\n",
       "      <td>5000.0</td>\n",
       "      <td>17000.0</td>\n",
       "      <td>10000.0</td>\n",
       "      <td>10000.0</td>\n",
       "    </tr>\n",
       "    <tr>\n",
       "      <th>3772</th>\n",
       "      <td>15668</td>\n",
       "      <td>30000.0</td>\n",
       "      <td>1</td>\n",
       "      <td>2</td>\n",
       "      <td>2</td>\n",
       "      <td>34</td>\n",
       "      <td>29248.0</td>\n",
       "      <td>19837.0</td>\n",
       "      <td>14793.0</td>\n",
       "      <td>26774.0</td>\n",
       "      <td>...</td>\n",
       "      <td>0.0</td>\n",
       "      <td>0.0</td>\n",
       "      <td>0.0</td>\n",
       "      <td>0.0</td>\n",
       "      <td>1200.0</td>\n",
       "      <td>2000.0</td>\n",
       "      <td>1000.0</td>\n",
       "      <td>2000.0</td>\n",
       "      <td>8697.0</td>\n",
       "      <td>1694.0</td>\n",
       "    </tr>\n",
       "    <tr>\n",
       "      <th>5210</th>\n",
       "      <td>1680</td>\n",
       "      <td>50000.0</td>\n",
       "      <td>2</td>\n",
       "      <td>3</td>\n",
       "      <td>1</td>\n",
       "      <td>43</td>\n",
       "      <td>2865.0</td>\n",
       "      <td>4809.0</td>\n",
       "      <td>5726.0</td>\n",
       "      <td>3238.0</td>\n",
       "      <td>...</td>\n",
       "      <td>0.0</td>\n",
       "      <td>0.0</td>\n",
       "      <td>0.0</td>\n",
       "      <td>0.0</td>\n",
       "      <td>1069.0</td>\n",
       "      <td>1000.0</td>\n",
       "      <td>255.0</td>\n",
       "      <td>1500.0</td>\n",
       "      <td>1000.0</td>\n",
       "      <td>1056.0</td>\n",
       "    </tr>\n",
       "    <tr>\n",
       "      <th>15153</th>\n",
       "      <td>14034</td>\n",
       "      <td>30000.0</td>\n",
       "      <td>2</td>\n",
       "      <td>3</td>\n",
       "      <td>1</td>\n",
       "      <td>56</td>\n",
       "      <td>24087.0</td>\n",
       "      <td>25175.0</td>\n",
       "      <td>26870.0</td>\n",
       "      <td>25158.0</td>\n",
       "      <td>...</td>\n",
       "      <td>2.0</td>\n",
       "      <td>1.0</td>\n",
       "      <td>2.0</td>\n",
       "      <td>3.0</td>\n",
       "      <td>2500.0</td>\n",
       "      <td>2100.0</td>\n",
       "      <td>0.0</td>\n",
       "      <td>0.0</td>\n",
       "      <td>0.0</td>\n",
       "      <td>300.0</td>\n",
       "    </tr>\n",
       "    <tr>\n",
       "      <th>2144</th>\n",
       "      <td>21573</td>\n",
       "      <td>20000.0</td>\n",
       "      <td>1</td>\n",
       "      <td>2</td>\n",
       "      <td>2</td>\n",
       "      <td>34</td>\n",
       "      <td>1530.0</td>\n",
       "      <td>2280.0</td>\n",
       "      <td>1500.0</td>\n",
       "      <td>2216.0</td>\n",
       "      <td>...</td>\n",
       "      <td>-2.0</td>\n",
       "      <td>-2.0</td>\n",
       "      <td>-2.0</td>\n",
       "      <td>-2.0</td>\n",
       "      <td>750.0</td>\n",
       "      <td>3000.0</td>\n",
       "      <td>780.0</td>\n",
       "      <td>2199.0</td>\n",
       "      <td>1140.0</td>\n",
       "      <td>1530.0</td>\n",
       "    </tr>\n",
       "    <tr>\n",
       "      <th>304</th>\n",
       "      <td>15271</td>\n",
       "      <td>130000.0</td>\n",
       "      <td>2</td>\n",
       "      <td>1</td>\n",
       "      <td>2</td>\n",
       "      <td>27</td>\n",
       "      <td>26491.0</td>\n",
       "      <td>22297.0</td>\n",
       "      <td>25986.0</td>\n",
       "      <td>19486.0</td>\n",
       "      <td>...</td>\n",
       "      <td>0.0</td>\n",
       "      <td>-1.0</td>\n",
       "      <td>0.0</td>\n",
       "      <td>0.0</td>\n",
       "      <td>8000.0</td>\n",
       "      <td>6000.0</td>\n",
       "      <td>8000.0</td>\n",
       "      <td>35000.0</td>\n",
       "      <td>5000.0</td>\n",
       "      <td>10048.0</td>\n",
       "    </tr>\n",
       "    <tr>\n",
       "      <th>15194</th>\n",
       "      <td>14930</td>\n",
       "      <td>160000.0</td>\n",
       "      <td>2</td>\n",
       "      <td>4</td>\n",
       "      <td>1</td>\n",
       "      <td>28</td>\n",
       "      <td>165.0</td>\n",
       "      <td>165.0</td>\n",
       "      <td>165.0</td>\n",
       "      <td>819.0</td>\n",
       "      <td>...</td>\n",
       "      <td>-1.0</td>\n",
       "      <td>-1.0</td>\n",
       "      <td>-1.0</td>\n",
       "      <td>-1.0</td>\n",
       "      <td>165.0</td>\n",
       "      <td>165.0</td>\n",
       "      <td>165.0</td>\n",
       "      <td>162.0</td>\n",
       "      <td>165.0</td>\n",
       "      <td>168.0</td>\n",
       "    </tr>\n",
       "    <tr>\n",
       "      <th>4224</th>\n",
       "      <td>11289</td>\n",
       "      <td>170000.0</td>\n",
       "      <td>2</td>\n",
       "      <td>2</td>\n",
       "      <td>1</td>\n",
       "      <td>39</td>\n",
       "      <td>10274.0</td>\n",
       "      <td>16578.0</td>\n",
       "      <td>20487.0</td>\n",
       "      <td>100849.0</td>\n",
       "      <td>...</td>\n",
       "      <td>0.0</td>\n",
       "      <td>0.0</td>\n",
       "      <td>0.0</td>\n",
       "      <td>0.0</td>\n",
       "      <td>6446.0</td>\n",
       "      <td>10487.0</td>\n",
       "      <td>5000.0</td>\n",
       "      <td>2000.0</td>\n",
       "      <td>332.0</td>\n",
       "      <td>10274.0</td>\n",
       "    </tr>\n",
       "  </tbody>\n",
       "</table>\n",
       "<p>10 rows × 24 columns</p>\n",
       "</div>"
      ],
      "text/plain": [
       "          ID  LIMIT_BAL  SEX  EDUCATION  MARRIAGE  AGE  BILL_AMT_APRIL  \\\n",
       "19463  29341    60000.0    1          1         2   23         53407.0   \n",
       "10054  12891   230000.0    2          2         1   30          1249.0   \n",
       "1149    1535   290000.0    1          1         2   43        217394.0   \n",
       "3772   15668    30000.0    1          2         2   34         29248.0   \n",
       "5210    1680    50000.0    2          3         1   43          2865.0   \n",
       "15153  14034    30000.0    2          3         1   56         24087.0   \n",
       "2144   21573    20000.0    1          2         2   34          1530.0   \n",
       "304    15271   130000.0    2          1         2   27         26491.0   \n",
       "15194  14930   160000.0    2          4         1   28           165.0   \n",
       "4224   11289   170000.0    2          2         1   39         10274.0   \n",
       "\n",
       "       BILL_AMT_FEBRUARY  BILL_AMT_JANUARY  BILL_AMT_JUNE  ...  PAY_JANUARY  \\\n",
       "19463            16597.0           18423.0        31348.0  ...          0.0   \n",
       "10054             7079.0            1880.0         4942.0  ...          0.0   \n",
       "1149            228203.0          233974.0       197175.0  ...          0.0   \n",
       "3772             19837.0           14793.0        26774.0  ...          0.0   \n",
       "5210              4809.0            5726.0         3238.0  ...          0.0   \n",
       "15153            25175.0           26870.0        25158.0  ...          2.0   \n",
       "2144              2280.0            1500.0         2216.0  ...         -2.0   \n",
       "304              22297.0           25986.0        19486.0  ...          0.0   \n",
       "15194              165.0             165.0          819.0  ...         -1.0   \n",
       "4224             16578.0           20487.0       100849.0  ...          0.0   \n",
       "\n",
       "       PAY_JUNE  PAY_MARCH  PAY_MAY  PAY_AMT_APRIL  PAY_AMT_FEBRUARY  \\\n",
       "19463       0.0        0.0      0.0         2000.0            2000.0   \n",
       "10054       0.0       -1.0     -1.0         2959.0            1000.0   \n",
       "1149        0.0        0.0      0.0        10000.0           10000.0   \n",
       "3772        0.0        0.0      0.0         1200.0            2000.0   \n",
       "5210        0.0        0.0      0.0         1069.0            1000.0   \n",
       "15153       1.0        2.0      3.0         2500.0            2100.0   \n",
       "2144       -2.0       -2.0     -2.0          750.0            3000.0   \n",
       "304        -1.0        0.0      0.0         8000.0            6000.0   \n",
       "15194      -1.0       -1.0     -1.0          165.0             165.0   \n",
       "4224        0.0        0.0      0.0         6446.0           10487.0   \n",
       "\n",
       "       PAY_AMT_JANUARY  PAY_AMT_JUNE  PAY_AMT_MARCH  PAY_AMT_MAY  \n",
       "19463           1000.0       20109.0         1000.0       5000.0  \n",
       "10054              0.0        2554.0         5000.0       1000.0  \n",
       "1149            5000.0       17000.0        10000.0      10000.0  \n",
       "3772            1000.0        2000.0         8697.0       1694.0  \n",
       "5210             255.0        1500.0         1000.0       1056.0  \n",
       "15153              0.0           0.0            0.0        300.0  \n",
       "2144             780.0        2199.0         1140.0       1530.0  \n",
       "304             8000.0       35000.0         5000.0      10048.0  \n",
       "15194            165.0         162.0          165.0        168.0  \n",
       "4224            5000.0        2000.0          332.0      10274.0  \n",
       "\n",
       "[10 rows x 24 columns]"
      ]
     },
     "execution_count": 14,
     "metadata": {},
     "output_type": "execute_result"
    }
   ],
   "source": [
    "# Mergin the files\n",
    "data_train_CustSer = pd.merge(data_train_customers, data_train_pivot, on = 'ID', how = 'left') #Answer Question 2\n",
    "\n",
    "data_train_CustSer.sample(n = 10, random_state= 1337)"
   ]
  },
  {
   "cell_type": "markdown",
   "id": "e11fa323-565d-4467-a10a-82c203adc269",
   "metadata": {},
   "source": [
    "### **Question 3**\n",
    "\n",
    "(0.5 points)"
   ]
  },
  {
   "cell_type": "code",
   "execution_count": 15,
   "id": "b900f942",
   "metadata": {},
   "outputs": [],
   "source": [
    "#Reading the train_traget.csv file\n",
    "data_train_target = pd.read_csv('data/train_target.csv')"
   ]
  },
  {
   "cell_type": "code",
   "execution_count": 16,
   "id": "3b48a257",
   "metadata": {},
   "outputs": [
    {
     "name": "stdout",
     "output_type": "stream",
     "text": [
      "<class 'pandas.core.frame.DataFrame'>\n",
      "RangeIndex: 20000 entries, 0 to 19999\n",
      "Data columns (total 2 columns):\n",
      " #   Column        Non-Null Count  Dtype\n",
      "---  ------        --------------  -----\n",
      " 0   ID            20000 non-null  int64\n",
      " 1   DEFAULT_JULY  20000 non-null  int64\n",
      "dtypes: int64(2)\n",
      "memory usage: 312.6 KB\n"
     ]
    }
   ],
   "source": [
    "data_train_target.info()"
   ]
  },
  {
   "cell_type": "code",
   "execution_count": 17,
   "id": "ce913d83",
   "metadata": {},
   "outputs": [
    {
     "data": {
      "text/html": [
       "<div>\n",
       "<style scoped>\n",
       "    .dataframe tbody tr th:only-of-type {\n",
       "        vertical-align: middle;\n",
       "    }\n",
       "\n",
       "    .dataframe tbody tr th {\n",
       "        vertical-align: top;\n",
       "    }\n",
       "\n",
       "    .dataframe thead th {\n",
       "        text-align: right;\n",
       "    }\n",
       "</style>\n",
       "<table border=\"1\" class=\"dataframe\">\n",
       "  <thead>\n",
       "    <tr style=\"text-align: right;\">\n",
       "      <th></th>\n",
       "      <th>count</th>\n",
       "      <th>mean</th>\n",
       "      <th>std</th>\n",
       "      <th>min</th>\n",
       "      <th>25%</th>\n",
       "      <th>50%</th>\n",
       "      <th>75%</th>\n",
       "      <th>max</th>\n",
       "    </tr>\n",
       "  </thead>\n",
       "  <tbody>\n",
       "    <tr>\n",
       "      <th>ID</th>\n",
       "      <td>20000.0</td>\n",
       "      <td>14940.65875</td>\n",
       "      <td>8652.819600</td>\n",
       "      <td>0.0</td>\n",
       "      <td>7460.75</td>\n",
       "      <td>14952.5</td>\n",
       "      <td>22439.5</td>\n",
       "      <td>29999.0</td>\n",
       "    </tr>\n",
       "    <tr>\n",
       "      <th>DEFAULT_JULY</th>\n",
       "      <td>20000.0</td>\n",
       "      <td>0.22100</td>\n",
       "      <td>0.414931</td>\n",
       "      <td>0.0</td>\n",
       "      <td>0.00</td>\n",
       "      <td>0.0</td>\n",
       "      <td>0.0</td>\n",
       "      <td>1.0</td>\n",
       "    </tr>\n",
       "  </tbody>\n",
       "</table>\n",
       "</div>"
      ],
      "text/plain": [
       "                count         mean          std  min      25%      50%  \\\n",
       "ID            20000.0  14940.65875  8652.819600  0.0  7460.75  14952.5   \n",
       "DEFAULT_JULY  20000.0      0.22100     0.414931  0.0     0.00      0.0   \n",
       "\n",
       "                  75%      max  \n",
       "ID            22439.5  29999.0  \n",
       "DEFAULT_JULY      0.0      1.0  "
      ]
     },
     "execution_count": 17,
     "metadata": {},
     "output_type": "execute_result"
    }
   ],
   "source": [
    "data_train_target.describe().T"
   ]
  },
  {
   "cell_type": "code",
   "execution_count": 18,
   "id": "7199ceac",
   "metadata": {},
   "outputs": [
    {
     "data": {
      "text/html": [
       "<div>\n",
       "<style scoped>\n",
       "    .dataframe tbody tr th:only-of-type {\n",
       "        vertical-align: middle;\n",
       "    }\n",
       "\n",
       "    .dataframe tbody tr th {\n",
       "        vertical-align: top;\n",
       "    }\n",
       "\n",
       "    .dataframe thead th {\n",
       "        text-align: right;\n",
       "    }\n",
       "</style>\n",
       "<table border=\"1\" class=\"dataframe\">\n",
       "  <thead>\n",
       "    <tr style=\"text-align: right;\">\n",
       "      <th></th>\n",
       "      <th>ID</th>\n",
       "      <th>DEFAULT_JULY</th>\n",
       "    </tr>\n",
       "  </thead>\n",
       "  <tbody>\n",
       "    <tr>\n",
       "      <th>19463</th>\n",
       "      <td>29341</td>\n",
       "      <td>0</td>\n",
       "    </tr>\n",
       "    <tr>\n",
       "      <th>10054</th>\n",
       "      <td>12891</td>\n",
       "      <td>0</td>\n",
       "    </tr>\n",
       "    <tr>\n",
       "      <th>1149</th>\n",
       "      <td>1535</td>\n",
       "      <td>0</td>\n",
       "    </tr>\n",
       "    <tr>\n",
       "      <th>3772</th>\n",
       "      <td>15668</td>\n",
       "      <td>0</td>\n",
       "    </tr>\n",
       "    <tr>\n",
       "      <th>5210</th>\n",
       "      <td>1680</td>\n",
       "      <td>0</td>\n",
       "    </tr>\n",
       "    <tr>\n",
       "      <th>15153</th>\n",
       "      <td>14034</td>\n",
       "      <td>0</td>\n",
       "    </tr>\n",
       "    <tr>\n",
       "      <th>2144</th>\n",
       "      <td>21573</td>\n",
       "      <td>0</td>\n",
       "    </tr>\n",
       "    <tr>\n",
       "      <th>304</th>\n",
       "      <td>15271</td>\n",
       "      <td>0</td>\n",
       "    </tr>\n",
       "    <tr>\n",
       "      <th>15194</th>\n",
       "      <td>14930</td>\n",
       "      <td>0</td>\n",
       "    </tr>\n",
       "    <tr>\n",
       "      <th>4224</th>\n",
       "      <td>11289</td>\n",
       "      <td>0</td>\n",
       "    </tr>\n",
       "  </tbody>\n",
       "</table>\n",
       "</div>"
      ],
      "text/plain": [
       "          ID  DEFAULT_JULY\n",
       "19463  29341             0\n",
       "10054  12891             0\n",
       "1149    1535             0\n",
       "3772   15668             0\n",
       "5210    1680             0\n",
       "15153  14034             0\n",
       "2144   21573             0\n",
       "304    15271             0\n",
       "15194  14930             0\n",
       "4224   11289             0"
      ]
     },
     "execution_count": 18,
     "metadata": {},
     "output_type": "execute_result"
    }
   ],
   "source": [
    "data_train_target.sample(n = 10, random_state= 1337)"
   ]
  },
  {
   "cell_type": "code",
   "execution_count": 19,
   "id": "0a9d0b0b",
   "metadata": {},
   "outputs": [],
   "source": [
    "# Merging the datasets\n",
    "data_train_CustSerTar = pd.merge(data_train_CustSer, data_train_target, on = 'ID', how = 'left')"
   ]
  },
  {
   "cell_type": "code",
   "execution_count": 20,
   "id": "55525fca",
   "metadata": {},
   "outputs": [
    {
     "name": "stdout",
     "output_type": "stream",
     "text": [
      "<class 'pandas.core.frame.DataFrame'>\n",
      "Int64Index: 20000 entries, 0 to 19999\n",
      "Data columns (total 25 columns):\n",
      " #   Column             Non-Null Count  Dtype  \n",
      "---  ------             --------------  -----  \n",
      " 0   ID                 20000 non-null  int64  \n",
      " 1   LIMIT_BAL          20000 non-null  float64\n",
      " 2   SEX                20000 non-null  int64  \n",
      " 3   EDUCATION          20000 non-null  int64  \n",
      " 4   MARRIAGE           20000 non-null  int64  \n",
      " 5   AGE                20000 non-null  int64  \n",
      " 6   BILL_AMT_APRIL     20000 non-null  float64\n",
      " 7   BILL_AMT_FEBRUARY  20000 non-null  float64\n",
      " 8   BILL_AMT_JANUARY   20000 non-null  float64\n",
      " 9   BILL_AMT_JUNE      20000 non-null  float64\n",
      " 10  BILL_AMT_MARCH     20000 non-null  float64\n",
      " 11  BILL_AMT_MAY       20000 non-null  float64\n",
      " 12  PAY_APRIL          20000 non-null  float64\n",
      " 13  PAY_FEBRUARY       20000 non-null  float64\n",
      " 14  PAY_JANUARY        20000 non-null  float64\n",
      " 15  PAY_JUNE           20000 non-null  float64\n",
      " 16  PAY_MARCH          20000 non-null  float64\n",
      " 17  PAY_MAY            20000 non-null  float64\n",
      " 18  PAY_AMT_APRIL      20000 non-null  float64\n",
      " 19  PAY_AMT_FEBRUARY   20000 non-null  float64\n",
      " 20  PAY_AMT_JANUARY    20000 non-null  float64\n",
      " 21  PAY_AMT_JUNE       20000 non-null  float64\n",
      " 22  PAY_AMT_MARCH      20000 non-null  float64\n",
      " 23  PAY_AMT_MAY        20000 non-null  float64\n",
      " 24  DEFAULT_JULY       20000 non-null  int64  \n",
      "dtypes: float64(19), int64(6)\n",
      "memory usage: 4.0 MB\n"
     ]
    }
   ],
   "source": [
    "data_train_CustSerTar.info()"
   ]
  },
  {
   "cell_type": "code",
   "execution_count": 21,
   "id": "e09af274",
   "metadata": {},
   "outputs": [
    {
     "data": {
      "text/html": [
       "<div>\n",
       "<style scoped>\n",
       "    .dataframe tbody tr th:only-of-type {\n",
       "        vertical-align: middle;\n",
       "    }\n",
       "\n",
       "    .dataframe tbody tr th {\n",
       "        vertical-align: top;\n",
       "    }\n",
       "\n",
       "    .dataframe thead th {\n",
       "        text-align: right;\n",
       "    }\n",
       "</style>\n",
       "<table border=\"1\" class=\"dataframe\">\n",
       "  <thead>\n",
       "    <tr style=\"text-align: right;\">\n",
       "      <th></th>\n",
       "      <th>ID</th>\n",
       "      <th>LIMIT_BAL</th>\n",
       "      <th>SEX</th>\n",
       "      <th>EDUCATION</th>\n",
       "      <th>MARRIAGE</th>\n",
       "      <th>AGE</th>\n",
       "      <th>BILL_AMT_APRIL</th>\n",
       "      <th>BILL_AMT_FEBRUARY</th>\n",
       "      <th>BILL_AMT_JANUARY</th>\n",
       "      <th>BILL_AMT_JUNE</th>\n",
       "      <th>...</th>\n",
       "      <th>PAY_JUNE</th>\n",
       "      <th>PAY_MARCH</th>\n",
       "      <th>PAY_MAY</th>\n",
       "      <th>PAY_AMT_APRIL</th>\n",
       "      <th>PAY_AMT_FEBRUARY</th>\n",
       "      <th>PAY_AMT_JANUARY</th>\n",
       "      <th>PAY_AMT_JUNE</th>\n",
       "      <th>PAY_AMT_MARCH</th>\n",
       "      <th>PAY_AMT_MAY</th>\n",
       "      <th>DEFAULT_JULY</th>\n",
       "    </tr>\n",
       "  </thead>\n",
       "  <tbody>\n",
       "    <tr>\n",
       "      <th>1</th>\n",
       "      <td>15561</td>\n",
       "      <td>60000.0</td>\n",
       "      <td>2</td>\n",
       "      <td>3</td>\n",
       "      <td>1</td>\n",
       "      <td>48</td>\n",
       "      <td>8422.0</td>\n",
       "      <td>3910.0</td>\n",
       "      <td>2431.0</td>\n",
       "      <td>4823.0</td>\n",
       "      <td>...</td>\n",
       "      <td>-1.0</td>\n",
       "      <td>-1.0</td>\n",
       "      <td>-1.0</td>\n",
       "      <td>4377.0</td>\n",
       "      <td>2431.0</td>\n",
       "      <td>2120.0</td>\n",
       "      <td>5491.0</td>\n",
       "      <td>3918.0</td>\n",
       "      <td>9683.0</td>\n",
       "      <td>1</td>\n",
       "    </tr>\n",
       "    <tr>\n",
       "      <th>2</th>\n",
       "      <td>23607</td>\n",
       "      <td>330000.0</td>\n",
       "      <td>2</td>\n",
       "      <td>1</td>\n",
       "      <td>2</td>\n",
       "      <td>44</td>\n",
       "      <td>253863.0</td>\n",
       "      <td>262753.0</td>\n",
       "      <td>268145.0</td>\n",
       "      <td>243621.0</td>\n",
       "      <td>...</td>\n",
       "      <td>0.0</td>\n",
       "      <td>0.0</td>\n",
       "      <td>0.0</td>\n",
       "      <td>9400.0</td>\n",
       "      <td>9766.0</td>\n",
       "      <td>9786.0</td>\n",
       "      <td>21400.0</td>\n",
       "      <td>9542.0</td>\n",
       "      <td>0.0</td>\n",
       "      <td>1</td>\n",
       "    </tr>\n",
       "    <tr>\n",
       "      <th>5</th>\n",
       "      <td>21078</td>\n",
       "      <td>30000.0</td>\n",
       "      <td>1</td>\n",
       "      <td>2</td>\n",
       "      <td>2</td>\n",
       "      <td>23</td>\n",
       "      <td>23321.0</td>\n",
       "      <td>24985.0</td>\n",
       "      <td>700.0</td>\n",
       "      <td>19321.0</td>\n",
       "      <td>...</td>\n",
       "      <td>0.0</td>\n",
       "      <td>2.0</td>\n",
       "      <td>0.0</td>\n",
       "      <td>3316.0</td>\n",
       "      <td>700.0</td>\n",
       "      <td>0.0</td>\n",
       "      <td>5320.0</td>\n",
       "      <td>0.0</td>\n",
       "      <td>0.0</td>\n",
       "      <td>1</td>\n",
       "    </tr>\n",
       "    <tr>\n",
       "      <th>17</th>\n",
       "      <td>28876</td>\n",
       "      <td>140000.0</td>\n",
       "      <td>1</td>\n",
       "      <td>2</td>\n",
       "      <td>1</td>\n",
       "      <td>52</td>\n",
       "      <td>31809.0</td>\n",
       "      <td>33522.0</td>\n",
       "      <td>34481.0</td>\n",
       "      <td>31511.0</td>\n",
       "      <td>...</td>\n",
       "      <td>1.0</td>\n",
       "      <td>0.0</td>\n",
       "      <td>2.0</td>\n",
       "      <td>3100.0</td>\n",
       "      <td>1500.0</td>\n",
       "      <td>1500.0</td>\n",
       "      <td>0.0</td>\n",
       "      <td>0.0</td>\n",
       "      <td>1600.0</td>\n",
       "      <td>1</td>\n",
       "    </tr>\n",
       "    <tr>\n",
       "      <th>19</th>\n",
       "      <td>26048</td>\n",
       "      <td>260000.0</td>\n",
       "      <td>2</td>\n",
       "      <td>3</td>\n",
       "      <td>1</td>\n",
       "      <td>52</td>\n",
       "      <td>18488.0</td>\n",
       "      <td>28402.0</td>\n",
       "      <td>800.0</td>\n",
       "      <td>9979.0</td>\n",
       "      <td>...</td>\n",
       "      <td>1.0</td>\n",
       "      <td>0.0</td>\n",
       "      <td>2.0</td>\n",
       "      <td>11264.0</td>\n",
       "      <td>2.0</td>\n",
       "      <td>1098.0</td>\n",
       "      <td>0.0</td>\n",
       "      <td>1580.0</td>\n",
       "      <td>10000.0</td>\n",
       "      <td>1</td>\n",
       "    </tr>\n",
       "    <tr>\n",
       "      <th>...</th>\n",
       "      <td>...</td>\n",
       "      <td>...</td>\n",
       "      <td>...</td>\n",
       "      <td>...</td>\n",
       "      <td>...</td>\n",
       "      <td>...</td>\n",
       "      <td>...</td>\n",
       "      <td>...</td>\n",
       "      <td>...</td>\n",
       "      <td>...</td>\n",
       "      <td>...</td>\n",
       "      <td>...</td>\n",
       "      <td>...</td>\n",
       "      <td>...</td>\n",
       "      <td>...</td>\n",
       "      <td>...</td>\n",
       "      <td>...</td>\n",
       "      <td>...</td>\n",
       "      <td>...</td>\n",
       "      <td>...</td>\n",
       "      <td>...</td>\n",
       "    </tr>\n",
       "    <tr>\n",
       "      <th>19988</th>\n",
       "      <td>22241</td>\n",
       "      <td>200000.0</td>\n",
       "      <td>1</td>\n",
       "      <td>1</td>\n",
       "      <td>2</td>\n",
       "      <td>29</td>\n",
       "      <td>9318.0</td>\n",
       "      <td>17321.0</td>\n",
       "      <td>21263.0</td>\n",
       "      <td>7885.0</td>\n",
       "      <td>...</td>\n",
       "      <td>1.0</td>\n",
       "      <td>0.0</td>\n",
       "      <td>2.0</td>\n",
       "      <td>2063.0</td>\n",
       "      <td>4033.0</td>\n",
       "      <td>2199.0</td>\n",
       "      <td>0.0</td>\n",
       "      <td>8000.0</td>\n",
       "      <td>2003.0</td>\n",
       "      <td>1</td>\n",
       "    </tr>\n",
       "    <tr>\n",
       "      <th>19989</th>\n",
       "      <td>23766</td>\n",
       "      <td>290000.0</td>\n",
       "      <td>2</td>\n",
       "      <td>2</td>\n",
       "      <td>2</td>\n",
       "      <td>34</td>\n",
       "      <td>227698.0</td>\n",
       "      <td>227226.0</td>\n",
       "      <td>241556.0</td>\n",
       "      <td>219757.0</td>\n",
       "      <td>...</td>\n",
       "      <td>2.0</td>\n",
       "      <td>2.0</td>\n",
       "      <td>2.0</td>\n",
       "      <td>10000.0</td>\n",
       "      <td>18000.0</td>\n",
       "      <td>0.0</td>\n",
       "      <td>0.0</td>\n",
       "      <td>0.0</td>\n",
       "      <td>18000.0</td>\n",
       "      <td>1</td>\n",
       "    </tr>\n",
       "    <tr>\n",
       "      <th>19990</th>\n",
       "      <td>26169</td>\n",
       "      <td>20000.0</td>\n",
       "      <td>2</td>\n",
       "      <td>1</td>\n",
       "      <td>2</td>\n",
       "      <td>25</td>\n",
       "      <td>0.0</td>\n",
       "      <td>17976.0</td>\n",
       "      <td>17980.0</td>\n",
       "      <td>2521.0</td>\n",
       "      <td>...</td>\n",
       "      <td>1.0</td>\n",
       "      <td>-2.0</td>\n",
       "      <td>-1.0</td>\n",
       "      <td>200.0</td>\n",
       "      <td>4.0</td>\n",
       "      <td>2170.0</td>\n",
       "      <td>17388.0</td>\n",
       "      <td>17976.0</td>\n",
       "      <td>0.0</td>\n",
       "      <td>1</td>\n",
       "    </tr>\n",
       "    <tr>\n",
       "      <th>19996</th>\n",
       "      <td>17730</td>\n",
       "      <td>50000.0</td>\n",
       "      <td>1</td>\n",
       "      <td>2</td>\n",
       "      <td>2</td>\n",
       "      <td>49</td>\n",
       "      <td>48551.0</td>\n",
       "      <td>18077.0</td>\n",
       "      <td>18815.0</td>\n",
       "      <td>59236.0</td>\n",
       "      <td>...</td>\n",
       "      <td>0.0</td>\n",
       "      <td>0.0</td>\n",
       "      <td>0.0</td>\n",
       "      <td>2047.0</td>\n",
       "      <td>1000.0</td>\n",
       "      <td>2000.0</td>\n",
       "      <td>2000.0</td>\n",
       "      <td>5618.0</td>\n",
       "      <td>2124.0</td>\n",
       "      <td>1</td>\n",
       "    </tr>\n",
       "    <tr>\n",
       "      <th>19999</th>\n",
       "      <td>19966</td>\n",
       "      <td>60000.0</td>\n",
       "      <td>1</td>\n",
       "      <td>2</td>\n",
       "      <td>2</td>\n",
       "      <td>25</td>\n",
       "      <td>15444.0</td>\n",
       "      <td>17598.0</td>\n",
       "      <td>17472.0</td>\n",
       "      <td>36090.0</td>\n",
       "      <td>...</td>\n",
       "      <td>2.0</td>\n",
       "      <td>0.0</td>\n",
       "      <td>2.0</td>\n",
       "      <td>1000.0</td>\n",
       "      <td>1000.0</td>\n",
       "      <td>603.0</td>\n",
       "      <td>2017.0</td>\n",
       "      <td>5000.0</td>\n",
       "      <td>5.0</td>\n",
       "      <td>1</td>\n",
       "    </tr>\n",
       "  </tbody>\n",
       "</table>\n",
       "<p>4420 rows × 25 columns</p>\n",
       "</div>"
      ],
      "text/plain": [
       "          ID  LIMIT_BAL  SEX  EDUCATION  MARRIAGE  AGE  BILL_AMT_APRIL  \\\n",
       "1      15561    60000.0    2          3         1   48          8422.0   \n",
       "2      23607   330000.0    2          1         2   44        253863.0   \n",
       "5      21078    30000.0    1          2         2   23         23321.0   \n",
       "17     28876   140000.0    1          2         1   52         31809.0   \n",
       "19     26048   260000.0    2          3         1   52         18488.0   \n",
       "...      ...        ...  ...        ...       ...  ...             ...   \n",
       "19988  22241   200000.0    1          1         2   29          9318.0   \n",
       "19989  23766   290000.0    2          2         2   34        227698.0   \n",
       "19990  26169    20000.0    2          1         2   25             0.0   \n",
       "19996  17730    50000.0    1          2         2   49         48551.0   \n",
       "19999  19966    60000.0    1          2         2   25         15444.0   \n",
       "\n",
       "       BILL_AMT_FEBRUARY  BILL_AMT_JANUARY  BILL_AMT_JUNE  ...  PAY_JUNE  \\\n",
       "1                 3910.0            2431.0         4823.0  ...      -1.0   \n",
       "2               262753.0          268145.0       243621.0  ...       0.0   \n",
       "5                24985.0             700.0        19321.0  ...       0.0   \n",
       "17               33522.0           34481.0        31511.0  ...       1.0   \n",
       "19               28402.0             800.0         9979.0  ...       1.0   \n",
       "...                  ...               ...            ...  ...       ...   \n",
       "19988            17321.0           21263.0         7885.0  ...       1.0   \n",
       "19989           227226.0          241556.0       219757.0  ...       2.0   \n",
       "19990            17976.0           17980.0         2521.0  ...       1.0   \n",
       "19996            18077.0           18815.0        59236.0  ...       0.0   \n",
       "19999            17598.0           17472.0        36090.0  ...       2.0   \n",
       "\n",
       "       PAY_MARCH  PAY_MAY  PAY_AMT_APRIL  PAY_AMT_FEBRUARY  PAY_AMT_JANUARY  \\\n",
       "1           -1.0     -1.0         4377.0            2431.0           2120.0   \n",
       "2            0.0      0.0         9400.0            9766.0           9786.0   \n",
       "5            2.0      0.0         3316.0             700.0              0.0   \n",
       "17           0.0      2.0         3100.0            1500.0           1500.0   \n",
       "19           0.0      2.0        11264.0               2.0           1098.0   \n",
       "...          ...      ...            ...               ...              ...   \n",
       "19988        0.0      2.0         2063.0            4033.0           2199.0   \n",
       "19989        2.0      2.0        10000.0           18000.0              0.0   \n",
       "19990       -2.0     -1.0          200.0               4.0           2170.0   \n",
       "19996        0.0      0.0         2047.0            1000.0           2000.0   \n",
       "19999        0.0      2.0         1000.0            1000.0            603.0   \n",
       "\n",
       "       PAY_AMT_JUNE  PAY_AMT_MARCH  PAY_AMT_MAY  DEFAULT_JULY  \n",
       "1            5491.0         3918.0       9683.0             1  \n",
       "2           21400.0         9542.0          0.0             1  \n",
       "5            5320.0            0.0          0.0             1  \n",
       "17              0.0            0.0       1600.0             1  \n",
       "19              0.0         1580.0      10000.0             1  \n",
       "...             ...            ...          ...           ...  \n",
       "19988           0.0         8000.0       2003.0             1  \n",
       "19989           0.0            0.0      18000.0             1  \n",
       "19990       17388.0        17976.0          0.0             1  \n",
       "19996        2000.0         5618.0       2124.0             1  \n",
       "19999        2017.0         5000.0          5.0             1  \n",
       "\n",
       "[4420 rows x 25 columns]"
      ]
     },
     "execution_count": 21,
     "metadata": {},
     "output_type": "execute_result"
    }
   ],
   "source": [
    "data_train_CustSerTar[data_train_CustSerTar['DEFAULT_JULY'] == 1]"
   ]
  },
  {
   "cell_type": "code",
   "execution_count": 22,
   "id": "9b5c37ba",
   "metadata": {},
   "outputs": [],
   "source": [
    "data_train_CustSerTar = data_train_CustSerTar.set_index('ID')"
   ]
  },
  {
   "cell_type": "code",
   "execution_count": 23,
   "id": "776350b0",
   "metadata": {},
   "outputs": [
    {
     "ename": "PermissionError",
     "evalue": "[Errno 13] Permission denied: 'HerreraPaulino_A_train.csv'",
     "output_type": "error",
     "traceback": [
      "\u001b[1;31m---------------------------------------------------------------------------\u001b[0m",
      "\u001b[1;31mPermissionError\u001b[0m                           Traceback (most recent call last)",
      "Input \u001b[1;32mIn [23]\u001b[0m, in \u001b[0;36m<cell line: 2>\u001b[1;34m()\u001b[0m\n\u001b[0;32m      1\u001b[0m \u001b[38;5;66;03m# Setting ID as the index\u001b[39;00m\n\u001b[1;32m----> 2\u001b[0m \u001b[43mdata_train_CustSerTar\u001b[49m\u001b[38;5;241;43m.\u001b[39;49m\u001b[43mto_csv\u001b[49m\u001b[43m(\u001b[49m\u001b[38;5;124;43m'\u001b[39;49m\u001b[38;5;124;43mHerreraPaulino_A_train.csv\u001b[39;49m\u001b[38;5;124;43m'\u001b[39;49m\u001b[43m)\u001b[49m\n",
      "File \u001b[1;32m~\\anaconda3\\lib\\site-packages\\pandas\\core\\generic.py:3551\u001b[0m, in \u001b[0;36mNDFrame.to_csv\u001b[1;34m(self, path_or_buf, sep, na_rep, float_format, columns, header, index, index_label, mode, encoding, compression, quoting, quotechar, line_terminator, chunksize, date_format, doublequote, escapechar, decimal, errors, storage_options)\u001b[0m\n\u001b[0;32m   3540\u001b[0m df \u001b[38;5;241m=\u001b[39m \u001b[38;5;28mself\u001b[39m \u001b[38;5;28;01mif\u001b[39;00m \u001b[38;5;28misinstance\u001b[39m(\u001b[38;5;28mself\u001b[39m, ABCDataFrame) \u001b[38;5;28;01melse\u001b[39;00m \u001b[38;5;28mself\u001b[39m\u001b[38;5;241m.\u001b[39mto_frame()\n\u001b[0;32m   3542\u001b[0m formatter \u001b[38;5;241m=\u001b[39m DataFrameFormatter(\n\u001b[0;32m   3543\u001b[0m     frame\u001b[38;5;241m=\u001b[39mdf,\n\u001b[0;32m   3544\u001b[0m     header\u001b[38;5;241m=\u001b[39mheader,\n\u001b[1;32m   (...)\u001b[0m\n\u001b[0;32m   3548\u001b[0m     decimal\u001b[38;5;241m=\u001b[39mdecimal,\n\u001b[0;32m   3549\u001b[0m )\n\u001b[1;32m-> 3551\u001b[0m \u001b[38;5;28;01mreturn\u001b[39;00m \u001b[43mDataFrameRenderer\u001b[49m\u001b[43m(\u001b[49m\u001b[43mformatter\u001b[49m\u001b[43m)\u001b[49m\u001b[38;5;241;43m.\u001b[39;49m\u001b[43mto_csv\u001b[49m\u001b[43m(\u001b[49m\n\u001b[0;32m   3552\u001b[0m \u001b[43m    \u001b[49m\u001b[43mpath_or_buf\u001b[49m\u001b[43m,\u001b[49m\n\u001b[0;32m   3553\u001b[0m \u001b[43m    \u001b[49m\u001b[43mline_terminator\u001b[49m\u001b[38;5;241;43m=\u001b[39;49m\u001b[43mline_terminator\u001b[49m\u001b[43m,\u001b[49m\n\u001b[0;32m   3554\u001b[0m \u001b[43m    \u001b[49m\u001b[43msep\u001b[49m\u001b[38;5;241;43m=\u001b[39;49m\u001b[43msep\u001b[49m\u001b[43m,\u001b[49m\n\u001b[0;32m   3555\u001b[0m \u001b[43m    \u001b[49m\u001b[43mencoding\u001b[49m\u001b[38;5;241;43m=\u001b[39;49m\u001b[43mencoding\u001b[49m\u001b[43m,\u001b[49m\n\u001b[0;32m   3556\u001b[0m \u001b[43m    \u001b[49m\u001b[43merrors\u001b[49m\u001b[38;5;241;43m=\u001b[39;49m\u001b[43merrors\u001b[49m\u001b[43m,\u001b[49m\n\u001b[0;32m   3557\u001b[0m \u001b[43m    \u001b[49m\u001b[43mcompression\u001b[49m\u001b[38;5;241;43m=\u001b[39;49m\u001b[43mcompression\u001b[49m\u001b[43m,\u001b[49m\n\u001b[0;32m   3558\u001b[0m \u001b[43m    \u001b[49m\u001b[43mquoting\u001b[49m\u001b[38;5;241;43m=\u001b[39;49m\u001b[43mquoting\u001b[49m\u001b[43m,\u001b[49m\n\u001b[0;32m   3559\u001b[0m \u001b[43m    \u001b[49m\u001b[43mcolumns\u001b[49m\u001b[38;5;241;43m=\u001b[39;49m\u001b[43mcolumns\u001b[49m\u001b[43m,\u001b[49m\n\u001b[0;32m   3560\u001b[0m \u001b[43m    \u001b[49m\u001b[43mindex_label\u001b[49m\u001b[38;5;241;43m=\u001b[39;49m\u001b[43mindex_label\u001b[49m\u001b[43m,\u001b[49m\n\u001b[0;32m   3561\u001b[0m \u001b[43m    \u001b[49m\u001b[43mmode\u001b[49m\u001b[38;5;241;43m=\u001b[39;49m\u001b[43mmode\u001b[49m\u001b[43m,\u001b[49m\n\u001b[0;32m   3562\u001b[0m \u001b[43m    \u001b[49m\u001b[43mchunksize\u001b[49m\u001b[38;5;241;43m=\u001b[39;49m\u001b[43mchunksize\u001b[49m\u001b[43m,\u001b[49m\n\u001b[0;32m   3563\u001b[0m \u001b[43m    \u001b[49m\u001b[43mquotechar\u001b[49m\u001b[38;5;241;43m=\u001b[39;49m\u001b[43mquotechar\u001b[49m\u001b[43m,\u001b[49m\n\u001b[0;32m   3564\u001b[0m \u001b[43m    \u001b[49m\u001b[43mdate_format\u001b[49m\u001b[38;5;241;43m=\u001b[39;49m\u001b[43mdate_format\u001b[49m\u001b[43m,\u001b[49m\n\u001b[0;32m   3565\u001b[0m \u001b[43m    \u001b[49m\u001b[43mdoublequote\u001b[49m\u001b[38;5;241;43m=\u001b[39;49m\u001b[43mdoublequote\u001b[49m\u001b[43m,\u001b[49m\n\u001b[0;32m   3566\u001b[0m \u001b[43m    \u001b[49m\u001b[43mescapechar\u001b[49m\u001b[38;5;241;43m=\u001b[39;49m\u001b[43mescapechar\u001b[49m\u001b[43m,\u001b[49m\n\u001b[0;32m   3567\u001b[0m \u001b[43m    \u001b[49m\u001b[43mstorage_options\u001b[49m\u001b[38;5;241;43m=\u001b[39;49m\u001b[43mstorage_options\u001b[49m\u001b[43m,\u001b[49m\n\u001b[0;32m   3568\u001b[0m \u001b[43m\u001b[49m\u001b[43m)\u001b[49m\n",
      "File \u001b[1;32m~\\anaconda3\\lib\\site-packages\\pandas\\io\\formats\\format.py:1180\u001b[0m, in \u001b[0;36mDataFrameRenderer.to_csv\u001b[1;34m(self, path_or_buf, encoding, sep, columns, index_label, mode, compression, quoting, quotechar, line_terminator, chunksize, date_format, doublequote, escapechar, errors, storage_options)\u001b[0m\n\u001b[0;32m   1159\u001b[0m     created_buffer \u001b[38;5;241m=\u001b[39m \u001b[38;5;28;01mFalse\u001b[39;00m\n\u001b[0;32m   1161\u001b[0m csv_formatter \u001b[38;5;241m=\u001b[39m CSVFormatter(\n\u001b[0;32m   1162\u001b[0m     path_or_buf\u001b[38;5;241m=\u001b[39mpath_or_buf,\n\u001b[0;32m   1163\u001b[0m     line_terminator\u001b[38;5;241m=\u001b[39mline_terminator,\n\u001b[1;32m   (...)\u001b[0m\n\u001b[0;32m   1178\u001b[0m     formatter\u001b[38;5;241m=\u001b[39m\u001b[38;5;28mself\u001b[39m\u001b[38;5;241m.\u001b[39mfmt,\n\u001b[0;32m   1179\u001b[0m )\n\u001b[1;32m-> 1180\u001b[0m \u001b[43mcsv_formatter\u001b[49m\u001b[38;5;241;43m.\u001b[39;49m\u001b[43msave\u001b[49m\u001b[43m(\u001b[49m\u001b[43m)\u001b[49m\n\u001b[0;32m   1182\u001b[0m \u001b[38;5;28;01mif\u001b[39;00m created_buffer:\n\u001b[0;32m   1183\u001b[0m     \u001b[38;5;28;01massert\u001b[39;00m \u001b[38;5;28misinstance\u001b[39m(path_or_buf, StringIO)\n",
      "File \u001b[1;32m~\\anaconda3\\lib\\site-packages\\pandas\\io\\formats\\csvs.py:241\u001b[0m, in \u001b[0;36mCSVFormatter.save\u001b[1;34m(self)\u001b[0m\n\u001b[0;32m    237\u001b[0m \u001b[38;5;124;03m\"\"\"\u001b[39;00m\n\u001b[0;32m    238\u001b[0m \u001b[38;5;124;03mCreate the writer & save.\u001b[39;00m\n\u001b[0;32m    239\u001b[0m \u001b[38;5;124;03m\"\"\"\u001b[39;00m\n\u001b[0;32m    240\u001b[0m \u001b[38;5;66;03m# apply compression and byte/text conversion\u001b[39;00m\n\u001b[1;32m--> 241\u001b[0m \u001b[38;5;28;01mwith\u001b[39;00m \u001b[43mget_handle\u001b[49m\u001b[43m(\u001b[49m\n\u001b[0;32m    242\u001b[0m \u001b[43m    \u001b[49m\u001b[38;5;28;43mself\u001b[39;49m\u001b[38;5;241;43m.\u001b[39;49m\u001b[43mfilepath_or_buffer\u001b[49m\u001b[43m,\u001b[49m\n\u001b[0;32m    243\u001b[0m \u001b[43m    \u001b[49m\u001b[38;5;28;43mself\u001b[39;49m\u001b[38;5;241;43m.\u001b[39;49m\u001b[43mmode\u001b[49m\u001b[43m,\u001b[49m\n\u001b[0;32m    244\u001b[0m \u001b[43m    \u001b[49m\u001b[43mencoding\u001b[49m\u001b[38;5;241;43m=\u001b[39;49m\u001b[38;5;28;43mself\u001b[39;49m\u001b[38;5;241;43m.\u001b[39;49m\u001b[43mencoding\u001b[49m\u001b[43m,\u001b[49m\n\u001b[0;32m    245\u001b[0m \u001b[43m    \u001b[49m\u001b[43merrors\u001b[49m\u001b[38;5;241;43m=\u001b[39;49m\u001b[38;5;28;43mself\u001b[39;49m\u001b[38;5;241;43m.\u001b[39;49m\u001b[43merrors\u001b[49m\u001b[43m,\u001b[49m\n\u001b[0;32m    246\u001b[0m \u001b[43m    \u001b[49m\u001b[43mcompression\u001b[49m\u001b[38;5;241;43m=\u001b[39;49m\u001b[38;5;28;43mself\u001b[39;49m\u001b[38;5;241;43m.\u001b[39;49m\u001b[43mcompression\u001b[49m\u001b[43m,\u001b[49m\n\u001b[0;32m    247\u001b[0m \u001b[43m    \u001b[49m\u001b[43mstorage_options\u001b[49m\u001b[38;5;241;43m=\u001b[39;49m\u001b[38;5;28;43mself\u001b[39;49m\u001b[38;5;241;43m.\u001b[39;49m\u001b[43mstorage_options\u001b[49m\u001b[43m,\u001b[49m\n\u001b[0;32m    248\u001b[0m \u001b[43m\u001b[49m\u001b[43m)\u001b[49m \u001b[38;5;28;01mas\u001b[39;00m handles:\n\u001b[0;32m    249\u001b[0m \n\u001b[0;32m    250\u001b[0m     \u001b[38;5;66;03m# Note: self.encoding is irrelevant here\u001b[39;00m\n\u001b[0;32m    251\u001b[0m     \u001b[38;5;28mself\u001b[39m\u001b[38;5;241m.\u001b[39mwriter \u001b[38;5;241m=\u001b[39m csvlib\u001b[38;5;241m.\u001b[39mwriter(\n\u001b[0;32m    252\u001b[0m         handles\u001b[38;5;241m.\u001b[39mhandle,\n\u001b[0;32m    253\u001b[0m         lineterminator\u001b[38;5;241m=\u001b[39m\u001b[38;5;28mself\u001b[39m\u001b[38;5;241m.\u001b[39mline_terminator,\n\u001b[1;32m   (...)\u001b[0m\n\u001b[0;32m    258\u001b[0m         quotechar\u001b[38;5;241m=\u001b[39m\u001b[38;5;28mself\u001b[39m\u001b[38;5;241m.\u001b[39mquotechar,\n\u001b[0;32m    259\u001b[0m     )\n\u001b[0;32m    261\u001b[0m     \u001b[38;5;28mself\u001b[39m\u001b[38;5;241m.\u001b[39m_save()\n",
      "File \u001b[1;32m~\\anaconda3\\lib\\site-packages\\pandas\\io\\common.py:789\u001b[0m, in \u001b[0;36mget_handle\u001b[1;34m(path_or_buf, mode, encoding, compression, memory_map, is_text, errors, storage_options)\u001b[0m\n\u001b[0;32m    784\u001b[0m \u001b[38;5;28;01melif\u001b[39;00m \u001b[38;5;28misinstance\u001b[39m(handle, \u001b[38;5;28mstr\u001b[39m):\n\u001b[0;32m    785\u001b[0m     \u001b[38;5;66;03m# Check whether the filename is to be opened in binary mode.\u001b[39;00m\n\u001b[0;32m    786\u001b[0m     \u001b[38;5;66;03m# Binary mode does not support 'encoding' and 'newline'.\u001b[39;00m\n\u001b[0;32m    787\u001b[0m     \u001b[38;5;28;01mif\u001b[39;00m ioargs\u001b[38;5;241m.\u001b[39mencoding \u001b[38;5;129;01mand\u001b[39;00m \u001b[38;5;124m\"\u001b[39m\u001b[38;5;124mb\u001b[39m\u001b[38;5;124m\"\u001b[39m \u001b[38;5;129;01mnot\u001b[39;00m \u001b[38;5;129;01min\u001b[39;00m ioargs\u001b[38;5;241m.\u001b[39mmode:\n\u001b[0;32m    788\u001b[0m         \u001b[38;5;66;03m# Encoding\u001b[39;00m\n\u001b[1;32m--> 789\u001b[0m         handle \u001b[38;5;241m=\u001b[39m \u001b[38;5;28;43mopen\u001b[39;49m\u001b[43m(\u001b[49m\n\u001b[0;32m    790\u001b[0m \u001b[43m            \u001b[49m\u001b[43mhandle\u001b[49m\u001b[43m,\u001b[49m\n\u001b[0;32m    791\u001b[0m \u001b[43m            \u001b[49m\u001b[43mioargs\u001b[49m\u001b[38;5;241;43m.\u001b[39;49m\u001b[43mmode\u001b[49m\u001b[43m,\u001b[49m\n\u001b[0;32m    792\u001b[0m \u001b[43m            \u001b[49m\u001b[43mencoding\u001b[49m\u001b[38;5;241;43m=\u001b[39;49m\u001b[43mioargs\u001b[49m\u001b[38;5;241;43m.\u001b[39;49m\u001b[43mencoding\u001b[49m\u001b[43m,\u001b[49m\n\u001b[0;32m    793\u001b[0m \u001b[43m            \u001b[49m\u001b[43merrors\u001b[49m\u001b[38;5;241;43m=\u001b[39;49m\u001b[43merrors\u001b[49m\u001b[43m,\u001b[49m\n\u001b[0;32m    794\u001b[0m \u001b[43m            \u001b[49m\u001b[43mnewline\u001b[49m\u001b[38;5;241;43m=\u001b[39;49m\u001b[38;5;124;43m\"\u001b[39;49m\u001b[38;5;124;43m\"\u001b[39;49m\u001b[43m,\u001b[49m\n\u001b[0;32m    795\u001b[0m \u001b[43m        \u001b[49m\u001b[43m)\u001b[49m\n\u001b[0;32m    796\u001b[0m     \u001b[38;5;28;01melse\u001b[39;00m:\n\u001b[0;32m    797\u001b[0m         \u001b[38;5;66;03m# Binary mode\u001b[39;00m\n\u001b[0;32m    798\u001b[0m         handle \u001b[38;5;241m=\u001b[39m \u001b[38;5;28mopen\u001b[39m(handle, ioargs\u001b[38;5;241m.\u001b[39mmode)\n",
      "\u001b[1;31mPermissionError\u001b[0m: [Errno 13] Permission denied: 'HerreraPaulino_A_train.csv'"
     ]
    }
   ],
   "source": [
    "# Setting ID as the index\n",
    "data_train_CustSerTar.to_csv('HerreraPaulino_A_train.csv') #Answer Question 3"
   ]
  },
  {
   "cell_type": "markdown",
   "id": "4ff8bc6e-1905-442d-9a8f-d231dc142cb5",
   "metadata": {},
   "source": [
    "## **B. EXPLORATORY DATA ANALYSIS (2 points)**"
   ]
  },
  {
   "cell_type": "markdown",
   "id": "1cfe5b3f-cfad-4905-84ff-3dd170783b9d",
   "metadata": {},
   "source": [
    "### **Question 1**\n",
    "\n",
    "(0.5 points)"
   ]
  },
  {
   "cell_type": "code",
   "execution_count": 24,
   "id": "8f31fb71",
   "metadata": {},
   "outputs": [
    {
     "data": {
      "text/plain": [
       "<matplotlib.legend.Legend at 0x1ede7025b20>"
      ]
     },
     "execution_count": 24,
     "metadata": {},
     "output_type": "execute_result"
    },
    {
     "data": {
      "image/png": "[encoded data removed]",
      "text/plain": [
       "<Figure size 720x432 with 1 Axes>"
      ]
     },
     "metadata": {
      "needs_background": "light"
     },
     "output_type": "display_data"
    },
    {
     "data": {
      "image/png": "[encoded data removed]",
      "text/plain": [
       "<Figure size 720x432 with 1 Axes>"
      ]
     },
     "metadata": {
      "needs_background": "light"
     },
     "output_type": "display_data"
    }
   ],
   "source": [
    "plt.figure(figsize=(10,6))\n",
    "sns.countplot(\n",
    "    data = data_train_CustSerTar[data_train_CustSerTar['DEFAULT_JULY'] == 1],\n",
    "    x = 'EDUCATION',\n",
    "    hue = 'DEFAULT_JULY',\n",
    "    #color='steelblue',\n",
    ").set(title='Defaults by Education ', \n",
    "      ylabel = 'Total Defaults Customers', \n",
    "      xlabel = 'Education', \n",
    "      xticklabels = ['graduate school', 'university', 'high school', 'others', 'unknown', 'unknown'])\n",
    "plt.legend(labels=['Default'])\n",
    "\n",
    "plt.figure(figsize=(10,6))\n",
    "sns.countplot(\n",
    "    data = data_train_CustSerTar[data_train_CustSerTar['DEFAULT_JULY'] == 0],\n",
    "    x = 'EDUCATION',\n",
    "    hue = 'DEFAULT_JULY',\n",
    "    #color='steelblue',\n",
    ").set(title='Fulfilment by Education ', \n",
    "      ylabel = 'Total Fulfilment Customers', \n",
    "      xlabel = 'Education', \n",
    "      xticklabels = ['unknown', 'graduate school', 'university', 'high school', 'others', 'unknown', 'unknown'])\n",
    "plt.legend(labels=['Fulfilment'])"
   ]
  },
  {
   "cell_type": "markdown",
   "id": "5b12489f",
   "metadata": {},
   "source": [
    "**Comment**\n",
    "\n",
    "Based on the previous bar plots it can be concluded that the most defualts come from the people with a university degree. Now comparing the first plot to the second, which gives the context, shows that the people with a university compose most of the clients. The following step should be to compare the proportions of each category to actually determine which education level usually defualts the most. "
   ]
  },
  {
   "cell_type": "markdown",
   "id": "79ebea6f-2076-4534-a6db-f8b17a2b98c8",
   "metadata": {},
   "source": [
    "### **Question 2**\n",
    "\n",
    "(0.5 points)"
   ]
  },
  {
   "cell_type": "code",
   "execution_count": 25,
   "id": "1cfa03ce",
   "metadata": {},
   "outputs": [
    {
     "data": {
      "image/png": "[encoded data removed]",
      "text/plain": [
       "<Figure size 720x432 with 1 Axes>"
      ]
     },
     "metadata": {
      "needs_background": "light"
     },
     "output_type": "display_data"
    }
   ],
   "source": [
    "plt.figure(figsize=(10,6))\n",
    "ax = sns.boxplot(\n",
    "    data = data_train_CustSerTar,\n",
    "    x = 'DEFAULT_JULY',\n",
    "    y = 'LIMIT_BAL'\n",
    ").set(\n",
    "    title='Defaults by Amount of Credit', \n",
    "    xlabel='Default', \n",
    "    ylabel='Amounts Limits',\n",
    "    xticklabels = ['Non-defaulters :D', 'Defaulters :('])"
   ]
  },
  {
   "cell_type": "markdown",
   "id": "1f013d8f",
   "metadata": {},
   "source": [
    "**Comment**\n",
    "\n",
    "Based on the boxplot it shows that the Amount of credit isn't a clear differiante factor to undesrstand the clietns who defual. In this case the mean can considerded close. What it draws attetion is the smaller range of the boxplot of defaults. In this cases the customers who default with a credit limit over 500K seems to be an outlier. "
   ]
  },
  {
   "cell_type": "markdown",
   "id": "5daf11bb-fa39-4541-9242-10c87c45a291",
   "metadata": {},
   "source": [
    "### **Question 3**\n",
    "\n",
    "(1 point)"
   ]
  },
  {
   "cell_type": "code",
   "execution_count": 26,
   "id": "7fb47403",
   "metadata": {},
   "outputs": [
    {
     "data": {
      "text/plain": [
       "<matplotlib.legend.Legend at 0x1ede9159700>"
      ]
     },
     "execution_count": 26,
     "metadata": {},
     "output_type": "execute_result"
    },
    {
     "data": {
      "image/png": "[encoded data removed]",
      "text/plain": [
       "<Figure size 432x288 with 1 Axes>"
      ]
     },
     "metadata": {
      "needs_background": "light"
     },
     "output_type": "display_data"
    }
   ],
   "source": [
    "sns.countplot(\n",
    "    data = data_train_CustSerTar,\n",
    "    x = 'DEFAULT_JULY',\n",
    "    hue = 'SEX'\n",
    ").set(\n",
    "    title='Defaults by Sex', \n",
    "    xlabel='Default', \n",
    "    ylabel='Amounts Limits',\n",
    "    xticklabels = ['Non-defaulters :D', 'Defaulters :('])\n",
    "\n",
    "plt.legend(labels=['Male', 'Female'])"
   ]
  },
  {
   "cell_type": "markdown",
   "id": "15b65045",
   "metadata": {},
   "source": [
    "**Comment**\n",
    "\n",
    "On previous experinces a variable to consider is if either a man or a woman request the loan. In this case it shows that woman usually default more, but it seems through the graph that the male clients are the ones in proportion that default the most. So if a woman request request a loan it's more probable that it would repay the debt. "
   ]
  },
  {
   "cell_type": "code",
   "execution_count": 27,
   "id": "34bc23b1",
   "metadata": {},
   "outputs": [
    {
     "data": {
      "image/png": "[encoded data removed]",
      "text/plain": [
       "<Figure size 432x288 with 1 Axes>"
      ]
     },
     "metadata": {
      "needs_background": "light"
     },
     "output_type": "display_data"
    }
   ],
   "source": [
    "ax = sns.countplot(\n",
    "    data = data_train_CustSerTar,\n",
    "    x = 'DEFAULT_JULY'\n",
    ").set(\n",
    "    title='Distribution of default customers in July', \n",
    "    xlabel='Default', \n",
    "    ylabel='Total Customers',\n",
    "    xticklabels = ['Non-defaulters :D', 'Defaulters :('])"
   ]
  },
  {
   "cell_type": "markdown",
   "id": "58156536",
   "metadata": {},
   "source": [
    "**Comment**\n",
    "\n",
    "Now one of the first that we need to understand form the data set is the amount of defaults that we are going to get. For the pourpose of this project it shows an imblance set, as expected. In this case the amount of defaulters can be considered relative high. Since, almost 25% of the total custmer will default. From a business point of view this has a huge impact as will need to relly on less customer to have the liquidity necessary to keep the business . "
   ]
  },
  {
   "cell_type": "code",
   "execution_count": 28,
   "id": "3ea47d19",
   "metadata": {},
   "outputs": [
    {
     "data": {
      "text/plain": [
       "[Text(0.5, 1.0, 'Correlation Between Variables')]"
      ]
     },
     "execution_count": 28,
     "metadata": {},
     "output_type": "execute_result"
    },
    {
     "data": {
      "image/png": "[encoded data removed]",
      "text/plain": [
       "<Figure size 864x576 with 2 Axes>"
      ]
     },
     "metadata": {
      "needs_background": "light"
     },
     "output_type": "display_data"
    }
   ],
   "source": [
    "fig, ax = plt.subplots(figsize=(12, 8))\n",
    "sns.heatmap(data_train_CustSerTar.corr()).set( title = 'Correlation Between Variables')"
   ]
  },
  {
   "cell_type": "markdown",
   "id": "5bf16aa9",
   "metadata": {},
   "source": [
    "**Comment**\n",
    "\n",
    "Now regarding the desing of the model, it's interesing to udnerstand if there are variables that cause to default. In this case we don't a clear relationship the target variable. Now that we can observe that there is a clear relation ship between the bill variables and the pay variables. In the desing of the model it can be consider if these variables can be dropped and use the last information insted of the whole information. "
   ]
  },
  {
   "cell_type": "markdown",
   "id": "a790e481-a06b-4a03-9c6d-d82f4378cc63",
   "metadata": {},
   "source": [
    "## **C. MACHINE LEARNING (5 points)**"
   ]
  },
  {
   "cell_type": "markdown",
   "id": "0813306b-752b-4dec-8900-65a618c3dad7",
   "metadata": {},
   "source": [
    "### **Question 1**\n",
    "\n",
    "(1.5 points)"
   ]
  },
  {
   "cell_type": "markdown",
   "id": "58f37c75",
   "metadata": {},
   "source": [
    "### Dummy Models\n",
    "\n",
    "Here we aregoing to create some benchmarks to see how the models perfoms against the untreated dataset."
   ]
  },
  {
   "cell_type": "markdown",
   "id": "c1aa2783",
   "metadata": {},
   "source": [
    "#### XGBClassifier Model\n",
    "\n",
    "First we are going to calculate the score for a XGBClassifier Model"
   ]
  },
  {
   "cell_type": "code",
   "execution_count": 29,
   "id": "659caaa6",
   "metadata": {},
   "outputs": [
    {
     "data": {
      "text/plain": [
       "XGBClassifier(base_score=None, booster=None, callbacks=None,\n",
       "              colsample_bylevel=None, colsample_bynode=None,\n",
       "              colsample_bytree=None, early_stopping_rounds=None,\n",
       "              enable_categorical=False, eval_metric=None, feature_types=None,\n",
       "              gamma=None, gpu_id=None, grow_policy=None, importance_type=None,\n",
       "              interaction_constraints=None, learning_rate=None, max_bin=None,\n",
       "              max_cat_threshold=None, max_cat_to_onehot=None,\n",
       "              max_delta_step=None, max_depth=None, max_leaves=None,\n",
       "              min_child_weight=None, missing=nan, monotone_constraints=None,\n",
       "              n_estimators=100, n_jobs=None, num_parallel_tree=None,\n",
       "              predictor=None, random_state=None, ...)"
      ]
     },
     "execution_count": 29,
     "metadata": {},
     "output_type": "execute_result"
    }
   ],
   "source": [
    "X = data_train_CustSerTar.drop('DEFAULT_JULY', axis =1 )\n",
    "y = data_train_CustSerTar['DEFAULT_JULY']\n",
    "\n",
    "X_train, X_test, y_train, y_test = train_test_split(X, y, test_size=0.2, random_state=1337, stratify= y)\n",
    "\n",
    "model = xgb.XGBClassifier()\n",
    "\n",
    "model.fit(X_train, y_train)"
   ]
  },
  {
   "cell_type": "markdown",
   "id": "ab3138f1",
   "metadata": {},
   "source": [
    "The confusion Matrix is obtained"
   ]
  },
  {
   "cell_type": "code",
   "execution_count": 30,
   "id": "002d7285",
   "metadata": {
    "scrolled": false
   },
   "outputs": [
    {
     "name": "stdout",
     "output_type": "stream",
     "text": [
      "[[2955  161]\n",
      " [ 569  315]]\n"
     ]
    }
   ],
   "source": [
    "#Predicting the results\n",
    "ypred = model.predict(X_test)\n",
    "cm = confusion_matrix(y_test,ypred) \n",
    "print(cm)\n",
    "\n",
    "#Generating the probabilities\n",
    "probs = model.predict_proba(X_test)[:,1]\n",
    "predictions = pd.DataFrame({'defaults':y_test, 'pred':probs})"
   ]
  },
  {
   "cell_type": "markdown",
   "id": "cd968525",
   "metadata": {},
   "source": [
    "The AUC-ROC score is obtained"
   ]
  },
  {
   "cell_type": "code",
   "execution_count": 30,
   "id": "6202da2b",
   "metadata": {},
   "outputs": [
    {
     "name": "stdout",
     "output_type": "stream",
     "text": [
      "AUC-ROC: 0.7527567176273096\n"
     ]
    }
   ],
   "source": [
    "from sklearn.metrics import roc_curve, roc_auc_score\n",
    "\n",
    "fpr, tpr, thresholds = roc_curve(predictions.defaults, predictions.pred)\n",
    "\n",
    "# Evaluate peformance through AUC-ROC\n",
    "socre_auc = roc_auc_score(predictions.defaults, predictions.pred)\n",
    "print('AUC-ROC:', socre_auc)"
   ]
  },
  {
   "cell_type": "code",
   "execution_count": 31,
   "id": "c67e2036",
   "metadata": {},
   "outputs": [
    {
     "data": {
      "image/png": "[encoded data removed]",
      "text/plain": [
       "<Figure size 720x720 with 1 Axes>"
      ]
     },
     "metadata": {
      "needs_background": "light"
     },
     "output_type": "display_data"
    }
   ],
   "source": [
    "plt.figure(figsize=(10,10))\n",
    "plt.plot(fpr, tpr, marker = \".\")\n",
    "plt.plot(np.linspace(0,1,10), np.linspace(0,1,10), label=\"diagonal\")\n",
    "# axis labels\n",
    "plt.title('XGBoost Regression AUC = {0:.4f}'.format(roc_auc_score(predictions.defaults, predictions.pred)), fontsize = 20)\n",
    "plt.xlabel('False Positive Rate', fontsize=15)\n",
    "plt.ylabel('True Positive Rate', fontsize=15)\n",
    "# show the plot\n",
    "plt.show()"
   ]
  },
  {
   "cell_type": "markdown",
   "id": "c7b5cac3",
   "metadata": {},
   "source": [
    "#### Logistic Regression Model\n",
    "\n",
    "Now we are going to calculate the score for a Logistic Regression Model"
   ]
  },
  {
   "cell_type": "code",
   "execution_count": 32,
   "id": "146de818",
   "metadata": {},
   "outputs": [],
   "source": [
    "X = data_train_CustSerTar.drop('DEFAULT_JULY', axis =1 )\n",
    "y = data_train_CustSerTar['DEFAULT_JULY']\n",
    "\n",
    "X_train, X_test, y_train, y_test = train_test_split(X, y, test_size=0.2, random_state=1337, stratify= y)\n",
    "\n",
    "logreg = LogisticRegression(random_state=1337, max_iter=1000)\n",
    "\n",
    "logreg.fit(X_train, y_train)\n",
    "\n",
    "y_pred = logreg.predict(X_test)\n"
   ]
  },
  {
   "cell_type": "markdown",
   "id": "eaf48cd6",
   "metadata": {},
   "source": [
    "The confusion Matrix is obtained"
   ]
  },
  {
   "cell_type": "code",
   "execution_count": 33,
   "id": "fd1d3ed4",
   "metadata": {},
   "outputs": [
    {
     "name": "stdout",
     "output_type": "stream",
     "text": [
      "[[3116    0]\n",
      " [ 884    0]]\n"
     ]
    }
   ],
   "source": [
    "#Predicting the results\n",
    "ypred = logreg.predict(X_test)\n",
    "cm = confusion_matrix(y_test,ypred) \n",
    "print(cm)\n",
    "\n",
    "#Generating the probabilities\n",
    "probs = logreg.predict_proba(X_test)[:,1]\n",
    "predictions = pd.DataFrame({'defaults':y_test, 'pred':probs})"
   ]
  },
  {
   "cell_type": "markdown",
   "id": "fca5cebe",
   "metadata": {},
   "source": [
    "The AUC-ROC score is obtained"
   ]
  },
  {
   "cell_type": "code",
   "execution_count": 34,
   "id": "0ceccc38",
   "metadata": {},
   "outputs": [
    {
     "name": "stdout",
     "output_type": "stream",
     "text": [
      "AUC-ROC: 0.6502807724254903\n"
     ]
    }
   ],
   "source": [
    "from sklearn.metrics import roc_curve, roc_auc_score\n",
    "fpr, tpr, thresholds = roc_curve(predictions.defaults, predictions.pred)\n",
    "\n",
    "# Evaluate peformance through AUC-ROC\n",
    "socre_auc = roc_auc_score(predictions.defaults, predictions.pred)\n",
    "print('AUC-ROC:', socre_auc)"
   ]
  },
  {
   "cell_type": "code",
   "execution_count": 35,
   "id": "66073833",
   "metadata": {},
   "outputs": [
    {
     "data": {
      "image/png": "[encoded data removed]",
      "text/plain": [
       "<Figure size 720x720 with 1 Axes>"
      ]
     },
     "metadata": {
      "needs_background": "light"
     },
     "output_type": "display_data"
    }
   ],
   "source": [
    "plt.figure(figsize=(10,10))\n",
    "plt.plot(fpr, tpr, marker = \".\")\n",
    "plt.plot(np.linspace(0,1,10), np.linspace(0,1,10), label=\"diagonal\")\n",
    "# axis labels\n",
    "plt.title('Logistic Regression AUC = {0:.4f}'.format(roc_auc_score(predictions.defaults, predictions.pred)), fontsize = 20)\n",
    "plt.xlabel('False Positive Rate', fontsize=15)\n",
    "plt.ylabel('True Positive Rate', fontsize=15)\n",
    "# show the plot\n",
    "plt.show()"
   ]
  },
  {
   "cell_type": "markdown",
   "id": "2b4e15d3",
   "metadata": {},
   "source": [
    "#### Random Forest Model\n",
    "\n",
    "Now we are going to calculate the score for a Random Forest Model"
   ]
  },
  {
   "cell_type": "code",
   "execution_count": 36,
   "id": "7a67ea79",
   "metadata": {},
   "outputs": [
    {
     "data": {
      "text/plain": [
       "RandomForestClassifier(max_depth=10, random_state=1337)"
      ]
     },
     "execution_count": 36,
     "metadata": {},
     "output_type": "execute_result"
    }
   ],
   "source": [
    "X = data_train_CustSerTar.drop('DEFAULT_JULY', axis =1 )\n",
    "y = data_train_CustSerTar['DEFAULT_JULY']\n",
    "\n",
    "X_train, X_test, y_train, y_test = train_test_split(X, y, test_size=0.2, random_state=1337, stratify= y)\n",
    "\n",
    "clf = RandomForestClassifier(max_depth=10, random_state=1337)\n",
    "clf.fit(X_train, y_train)"
   ]
  },
  {
   "cell_type": "markdown",
   "id": "9f4418a2",
   "metadata": {},
   "source": [
    "The confusion Matrix is obtained"
   ]
  },
  {
   "cell_type": "code",
   "execution_count": 37,
   "id": "31cdc12e",
   "metadata": {},
   "outputs": [
    {
     "name": "stdout",
     "output_type": "stream",
     "text": [
      "[[2986  130]\n",
      " [ 569  315]]\n"
     ]
    }
   ],
   "source": [
    "#Predicting the results\n",
    "ypred = clf.predict(X_test)\n",
    "cm = confusion_matrix(y_test,ypred) \n",
    "print(cm)\n",
    "\n",
    "#Generating the probabilities\n",
    "probs = clf.predict_proba(X_test)[:,1]\n",
    "predictions = pd.DataFrame({'defaults':y_test, 'pred':probs})"
   ]
  },
  {
   "cell_type": "markdown",
   "id": "6c0fbe20",
   "metadata": {},
   "source": [
    "The AUC-ROC score is obtained"
   ]
  },
  {
   "cell_type": "code",
   "execution_count": 38,
   "id": "d0270a5a",
   "metadata": {},
   "outputs": [
    {
     "name": "stdout",
     "output_type": "stream",
     "text": [
      "AUC-ROC: 0.7766742880128253\n"
     ]
    }
   ],
   "source": [
    "fpr, tpr, thresholds = roc_curve(predictions.defaults, predictions.pred)\n",
    "\n",
    "# Evaluate peformance through AUC-ROC\n",
    "socre_auc = roc_auc_score(predictions.defaults, predictions.pred)\n",
    "print('AUC-ROC:', socre_auc)"
   ]
  },
  {
   "cell_type": "code",
   "execution_count": 39,
   "id": "b810eecd",
   "metadata": {},
   "outputs": [
    {
     "data": {
      "image/png": "[encoded data removed]",
      "text/plain": [
       "<Figure size 720x720 with 1 Axes>"
      ]
     },
     "metadata": {
      "needs_background": "light"
     },
     "output_type": "display_data"
    }
   ],
   "source": [
    "plt.figure(figsize=(10,10))\n",
    "plt.plot(fpr, tpr, marker = \".\")\n",
    "plt.plot(np.linspace(0,1,10), np.linspace(0,1,10), label=\"diagonal\")\n",
    "# axis labels\n",
    "plt.title('Random Forest AUC = {0:.4f}'.format(roc_auc_score(predictions.defaults, predictions.pred)), fontsize = 20)\n",
    "plt.xlabel('False Positive Rate', fontsize=15)\n",
    "plt.ylabel('True Positive Rate', fontsize=15)\n",
    "# show the plot\n",
    "plt.show()"
   ]
  },
  {
   "cell_type": "markdown",
   "id": "b8bc40b7",
   "metadata": {},
   "source": [
    "### Preprocessing the data"
   ]
  },
  {
   "cell_type": "markdown",
   "id": "f6b74621",
   "metadata": {},
   "source": [
    "#### Feautrue Engineering"
   ]
  },
  {
   "cell_type": "markdown",
   "id": "dfb58eb0",
   "metadata": {},
   "source": [
    "The variabe **L3PB** is created. This variable sums the last three bills plus the last three payments to check if the customer was able to fullfil its obligations. "
   ]
  },
  {
   "cell_type": "code",
   "execution_count": 40,
   "id": "31216dd7",
   "metadata": {},
   "outputs": [],
   "source": [
    "Bills = ['BILL_AMT_MARCH', 'BILL_AMT_APRIL', 'BILL_AMT_MAY']\n",
    "Payments = ['PAY_AMT_JUNE', 'PAY_AMT_APRIL', 'PAY_AMT_MAY']\n",
    "\n",
    "data_train_CustSerTar['L3PB'] = data_train_CustSerTar[Payments].sum(axis = 1) - data_train_CustSerTar[Bills].sum(axis = 1)"
   ]
  },
  {
   "cell_type": "markdown",
   "id": "fb3c377b",
   "metadata": {},
   "source": [
    "An adjustment is realizaed to the EDUCATION variable since it included a previously unknow variable."
   ]
  },
  {
   "cell_type": "code",
   "execution_count": 41,
   "id": "0fa43fd3",
   "metadata": {},
   "outputs": [],
   "source": [
    "data_train_CustSerTar['EDUCATION'].mask(data_train_CustSerTar['EDUCATION'] == 0, 5, inplace=True)"
   ]
  },
  {
   "cell_type": "code",
   "execution_count": 42,
   "id": "59501860",
   "metadata": {},
   "outputs": [
    {
     "data": {
      "text/plain": [
       "array([2, 3, 1, 4, 6, 5], dtype=int64)"
      ]
     },
     "execution_count": 42,
     "metadata": {},
     "output_type": "execute_result"
    }
   ],
   "source": [
    "data_train_CustSerTar['EDUCATION'].unique()"
   ]
  },
  {
   "cell_type": "markdown",
   "id": "5fe10482",
   "metadata": {},
   "source": [
    "Creating a new dictionary to later use it as part of the one hot encoding"
   ]
  },
  {
   "cell_type": "code",
   "execution_count": 43,
   "id": "bedd6f2a",
   "metadata": {},
   "outputs": [],
   "source": [
    "edu = {1: 'graduate school', \n",
    "       2: 'university', \n",
    "       3: 'high school', \n",
    "       4: 'others', \n",
    "       5: 'unknown', \n",
    "       6: 'unknown'}\n",
    "\n",
    "marriage = {1: 'married', \n",
    "            2: 'single', \n",
    "            3: 'others'}\n",
    "\n",
    "sex = {1: 'male', \n",
    "       2: 'female'}"
   ]
  },
  {
   "cell_type": "markdown",
   "id": "d1cb162c",
   "metadata": {},
   "source": [
    "Applying the dicitonary to the respective variables"
   ]
  },
  {
   "cell_type": "code",
   "execution_count": 44,
   "id": "57273a0e",
   "metadata": {},
   "outputs": [],
   "source": [
    "data_train_CustSerTar['EDUCATION'] = data_train_CustSerTar['EDUCATION'].map(edu)\n",
    "data_train_CustSerTar['MARRIAGE'] = data_train_CustSerTar['MARRIAGE'].map(marriage)\n",
    "data_train_CustSerTar['SEX'] = data_train_CustSerTar['SEX'].map(sex)"
   ]
  },
  {
   "cell_type": "markdown",
   "id": "df77c778",
   "metadata": {},
   "source": [
    "Defining the variables that are going to be dropped. This was taken into account since the correlation matrix showed that these variables brought almost the same information between them. Also, the ifnoramtion contained in these variables is incldued in the L3PB variable."
   ]
  },
  {
   "cell_type": "code",
   "execution_count": 45,
   "id": "e881b2e0",
   "metadata": {},
   "outputs": [],
   "source": [
    "Bills = ['BILL_AMT_MARCH', 'BILL_AMT_FEBRUARY', 'BILL_AMT_JANUARY']\n",
    "Payments = ['PAY_AMT_JANUARY', 'PAY_AMT_FEBRUARY', 'PAY_AMT_MARCH']\n",
    "Pay = ['PAY_JANUARY', 'PAY_FEBRUARY', 'PAY_MARCH', 'PAY_APRIL', 'PAY_MAY']"
   ]
  },
  {
   "cell_type": "code",
   "execution_count": 46,
   "id": "e93a2c54",
   "metadata": {},
   "outputs": [],
   "source": [
    "train_data = data_train_CustSerTar.drop(Bills, axis = 1)\n",
    "train_data = train_data.drop(Payments, axis = 1)\n",
    "train_data = train_data.drop(Pay, axis = 1)"
   ]
  },
  {
   "cell_type": "code",
   "execution_count": 47,
   "id": "37779e91",
   "metadata": {},
   "outputs": [
    {
     "data": {
      "text/html": [
       "<div>\n",
       "<style scoped>\n",
       "    .dataframe tbody tr th:only-of-type {\n",
       "        vertical-align: middle;\n",
       "    }\n",
       "\n",
       "    .dataframe tbody tr th {\n",
       "        vertical-align: top;\n",
       "    }\n",
       "\n",
       "    .dataframe thead th {\n",
       "        text-align: right;\n",
       "    }\n",
       "</style>\n",
       "<table border=\"1\" class=\"dataframe\">\n",
       "  <thead>\n",
       "    <tr style=\"text-align: right;\">\n",
       "      <th></th>\n",
       "      <th>LIMIT_BAL</th>\n",
       "      <th>SEX</th>\n",
       "      <th>EDUCATION</th>\n",
       "      <th>MARRIAGE</th>\n",
       "      <th>AGE</th>\n",
       "      <th>BILL_AMT_APRIL</th>\n",
       "      <th>BILL_AMT_JUNE</th>\n",
       "      <th>BILL_AMT_MAY</th>\n",
       "      <th>PAY_JUNE</th>\n",
       "      <th>PAY_AMT_APRIL</th>\n",
       "      <th>PAY_AMT_JUNE</th>\n",
       "      <th>PAY_AMT_MAY</th>\n",
       "      <th>DEFAULT_JULY</th>\n",
       "      <th>L3PB</th>\n",
       "    </tr>\n",
       "    <tr>\n",
       "      <th>ID</th>\n",
       "      <th></th>\n",
       "      <th></th>\n",
       "      <th></th>\n",
       "      <th></th>\n",
       "      <th></th>\n",
       "      <th></th>\n",
       "      <th></th>\n",
       "      <th></th>\n",
       "      <th></th>\n",
       "      <th></th>\n",
       "      <th></th>\n",
       "      <th></th>\n",
       "      <th></th>\n",
       "      <th></th>\n",
       "    </tr>\n",
       "  </thead>\n",
       "  <tbody>\n",
       "    <tr>\n",
       "      <th>9910</th>\n",
       "      <td>130000.0</td>\n",
       "      <td>female</td>\n",
       "      <td>university</td>\n",
       "      <td>married</td>\n",
       "      <td>27</td>\n",
       "      <td>81231.0</td>\n",
       "      <td>76885.0</td>\n",
       "      <td>79106.0</td>\n",
       "      <td>0.0</td>\n",
       "      <td>3000.0</td>\n",
       "      <td>3500.0</td>\n",
       "      <td>4000.0</td>\n",
       "      <td>0</td>\n",
       "      <td>-231820.0</td>\n",
       "    </tr>\n",
       "    <tr>\n",
       "      <th>15561</th>\n",
       "      <td>60000.0</td>\n",
       "      <td>female</td>\n",
       "      <td>high school</td>\n",
       "      <td>married</td>\n",
       "      <td>48</td>\n",
       "      <td>8422.0</td>\n",
       "      <td>4823.0</td>\n",
       "      <td>5471.0</td>\n",
       "      <td>-1.0</td>\n",
       "      <td>4377.0</td>\n",
       "      <td>5491.0</td>\n",
       "      <td>9683.0</td>\n",
       "      <td>1</td>\n",
       "      <td>1281.0</td>\n",
       "    </tr>\n",
       "    <tr>\n",
       "      <th>23607</th>\n",
       "      <td>330000.0</td>\n",
       "      <td>female</td>\n",
       "      <td>graduate school</td>\n",
       "      <td>single</td>\n",
       "      <td>44</td>\n",
       "      <td>253863.0</td>\n",
       "      <td>243621.0</td>\n",
       "      <td>259517.0</td>\n",
       "      <td>0.0</td>\n",
       "      <td>9400.0</td>\n",
       "      <td>21400.0</td>\n",
       "      <td>0.0</td>\n",
       "      <td>1</td>\n",
       "      <td>-740115.0</td>\n",
       "    </tr>\n",
       "    <tr>\n",
       "      <th>6314</th>\n",
       "      <td>60000.0</td>\n",
       "      <td>female</td>\n",
       "      <td>university</td>\n",
       "      <td>single</td>\n",
       "      <td>24</td>\n",
       "      <td>15069.0</td>\n",
       "      <td>29832.0</td>\n",
       "      <td>18628.0</td>\n",
       "      <td>0.0</td>\n",
       "      <td>1000.0</td>\n",
       "      <td>1538.0</td>\n",
       "      <td>1308.0</td>\n",
       "      <td>0</td>\n",
       "      <td>-45612.0</td>\n",
       "    </tr>\n",
       "    <tr>\n",
       "      <th>27534</th>\n",
       "      <td>180000.0</td>\n",
       "      <td>female</td>\n",
       "      <td>graduate school</td>\n",
       "      <td>single</td>\n",
       "      <td>33</td>\n",
       "      <td>178.0</td>\n",
       "      <td>4500.0</td>\n",
       "      <td>2580.0</td>\n",
       "      <td>-2.0</td>\n",
       "      <td>1500.0</td>\n",
       "      <td>2580.0</td>\n",
       "      <td>178.0</td>\n",
       "      <td>0</td>\n",
       "      <td>0.0</td>\n",
       "    </tr>\n",
       "    <tr>\n",
       "      <th>...</th>\n",
       "      <td>...</td>\n",
       "      <td>...</td>\n",
       "      <td>...</td>\n",
       "      <td>...</td>\n",
       "      <td>...</td>\n",
       "      <td>...</td>\n",
       "      <td>...</td>\n",
       "      <td>...</td>\n",
       "      <td>...</td>\n",
       "      <td>...</td>\n",
       "      <td>...</td>\n",
       "      <td>...</td>\n",
       "      <td>...</td>\n",
       "      <td>...</td>\n",
       "    </tr>\n",
       "    <tr>\n",
       "      <th>28636</th>\n",
       "      <td>330000.0</td>\n",
       "      <td>female</td>\n",
       "      <td>graduate school</td>\n",
       "      <td>single</td>\n",
       "      <td>33</td>\n",
       "      <td>-200.0</td>\n",
       "      <td>-200.0</td>\n",
       "      <td>-200.0</td>\n",
       "      <td>1.0</td>\n",
       "      <td>350.0</td>\n",
       "      <td>0.0</td>\n",
       "      <td>0.0</td>\n",
       "      <td>0</td>\n",
       "      <td>600.0</td>\n",
       "    </tr>\n",
       "    <tr>\n",
       "      <th>17730</th>\n",
       "      <td>50000.0</td>\n",
       "      <td>male</td>\n",
       "      <td>university</td>\n",
       "      <td>single</td>\n",
       "      <td>49</td>\n",
       "      <td>48551.0</td>\n",
       "      <td>59236.0</td>\n",
       "      <td>53689.0</td>\n",
       "      <td>0.0</td>\n",
       "      <td>2047.0</td>\n",
       "      <td>2000.0</td>\n",
       "      <td>2124.0</td>\n",
       "      <td>1</td>\n",
       "      <td>-130725.0</td>\n",
       "    </tr>\n",
       "    <tr>\n",
       "      <th>28030</th>\n",
       "      <td>410000.0</td>\n",
       "      <td>male</td>\n",
       "      <td>graduate school</td>\n",
       "      <td>single</td>\n",
       "      <td>32</td>\n",
       "      <td>7764.0</td>\n",
       "      <td>3339.0</td>\n",
       "      <td>13047.0</td>\n",
       "      <td>-1.0</td>\n",
       "      <td>623.0</td>\n",
       "      <td>10000.0</td>\n",
       "      <td>7764.0</td>\n",
       "      <td>0</td>\n",
       "      <td>-3047.0</td>\n",
       "    </tr>\n",
       "    <tr>\n",
       "      <th>15725</th>\n",
       "      <td>200000.0</td>\n",
       "      <td>male</td>\n",
       "      <td>graduate school</td>\n",
       "      <td>married</td>\n",
       "      <td>40</td>\n",
       "      <td>5074.0</td>\n",
       "      <td>-7.0</td>\n",
       "      <td>1765.0</td>\n",
       "      <td>-2.0</td>\n",
       "      <td>19364.0</td>\n",
       "      <td>1772.0</td>\n",
       "      <td>5099.0</td>\n",
       "      <td>0</td>\n",
       "      <td>128.0</td>\n",
       "    </tr>\n",
       "    <tr>\n",
       "      <th>19966</th>\n",
       "      <td>60000.0</td>\n",
       "      <td>male</td>\n",
       "      <td>university</td>\n",
       "      <td>single</td>\n",
       "      <td>25</td>\n",
       "      <td>15444.0</td>\n",
       "      <td>36090.0</td>\n",
       "      <td>22083.0</td>\n",
       "      <td>2.0</td>\n",
       "      <td>1000.0</td>\n",
       "      <td>2017.0</td>\n",
       "      <td>5.0</td>\n",
       "      <td>1</td>\n",
       "      <td>-48200.0</td>\n",
       "    </tr>\n",
       "  </tbody>\n",
       "</table>\n",
       "<p>20000 rows × 14 columns</p>\n",
       "</div>"
      ],
      "text/plain": [
       "       LIMIT_BAL     SEX        EDUCATION MARRIAGE  AGE  BILL_AMT_APRIL  \\\n",
       "ID                                                                        \n",
       "9910    130000.0  female       university  married   27         81231.0   \n",
       "15561    60000.0  female      high school  married   48          8422.0   \n",
       "23607   330000.0  female  graduate school   single   44        253863.0   \n",
       "6314     60000.0  female       university   single   24         15069.0   \n",
       "27534   180000.0  female  graduate school   single   33           178.0   \n",
       "...          ...     ...              ...      ...  ...             ...   \n",
       "28636   330000.0  female  graduate school   single   33          -200.0   \n",
       "17730    50000.0    male       university   single   49         48551.0   \n",
       "28030   410000.0    male  graduate school   single   32          7764.0   \n",
       "15725   200000.0    male  graduate school  married   40          5074.0   \n",
       "19966    60000.0    male       university   single   25         15444.0   \n",
       "\n",
       "       BILL_AMT_JUNE  BILL_AMT_MAY  PAY_JUNE  PAY_AMT_APRIL  PAY_AMT_JUNE  \\\n",
       "ID                                                                          \n",
       "9910         76885.0       79106.0       0.0         3000.0        3500.0   \n",
       "15561         4823.0        5471.0      -1.0         4377.0        5491.0   \n",
       "23607       243621.0      259517.0       0.0         9400.0       21400.0   \n",
       "6314         29832.0       18628.0       0.0         1000.0        1538.0   \n",
       "27534         4500.0        2580.0      -2.0         1500.0        2580.0   \n",
       "...              ...           ...       ...            ...           ...   \n",
       "28636         -200.0        -200.0       1.0          350.0           0.0   \n",
       "17730        59236.0       53689.0       0.0         2047.0        2000.0   \n",
       "28030         3339.0       13047.0      -1.0          623.0       10000.0   \n",
       "15725           -7.0        1765.0      -2.0        19364.0        1772.0   \n",
       "19966        36090.0       22083.0       2.0         1000.0        2017.0   \n",
       "\n",
       "       PAY_AMT_MAY  DEFAULT_JULY      L3PB  \n",
       "ID                                          \n",
       "9910        4000.0             0 -231820.0  \n",
       "15561       9683.0             1    1281.0  \n",
       "23607          0.0             1 -740115.0  \n",
       "6314        1308.0             0  -45612.0  \n",
       "27534        178.0             0       0.0  \n",
       "...            ...           ...       ...  \n",
       "28636          0.0             0     600.0  \n",
       "17730       2124.0             1 -130725.0  \n",
       "28030       7764.0             0   -3047.0  \n",
       "15725       5099.0             0     128.0  \n",
       "19966          5.0             1  -48200.0  \n",
       "\n",
       "[20000 rows x 14 columns]"
      ]
     },
     "execution_count": 47,
     "metadata": {},
     "output_type": "execute_result"
    }
   ],
   "source": [
    "train_data"
   ]
  },
  {
   "cell_type": "markdown",
   "id": "8ab299f5",
   "metadata": {},
   "source": [
    "#### Train Test Split - Transforming Columns"
   ]
  },
  {
   "cell_type": "markdown",
   "id": "ce420552",
   "metadata": {},
   "source": [
    "Creatinig a validation set for the model to be later evaluated"
   ]
  },
  {
   "cell_type": "code",
   "execution_count": 48,
   "id": "bfcdf288",
   "metadata": {},
   "outputs": [],
   "source": [
    "X = train_data.drop('DEFAULT_JULY', axis =1 )\n",
    "y = train_data['DEFAULT_JULY']\n",
    "\n",
    "X_train, X_test, y_train, y_test = train_test_split(X, y, test_size=0.2, random_state=1337, stratify= y)\n",
    "\n",
    "# One Hot Encoding X_train\n",
    "ohe = OneHotEncoder(sparse= False)\n",
    "cat_feat = X_train.select_dtypes(\"O\").columns\n",
    "cat_train_data = ohe.fit_transform(X_train[cat_feat])\n",
    "cat_train_data = pd.DataFrame(cat_train_data)\n",
    "\n",
    "#Standard Scaling X_train\n",
    "scl = StandardScaler()\n",
    "num_feat = X_train.select_dtypes(\"float64\").columns\n",
    "num_train_data = scl.fit_transform(X_train[num_feat])\n",
    "num_train_data = pd.DataFrame(num_train_data, columns= num_feat)\n",
    "\n",
    "# Creating new X_train\n",
    "\n",
    "X_train = X_train.drop(cat_feat, axis =1)\n",
    "X_train = X_train.drop(num_feat, axis =1)\n",
    "X_train = X_train.reset_index()\n",
    "\n",
    "X_train = pd.concat([X_train, cat_train_data], axis=1)\n",
    "X_train = pd.concat([X_train, num_train_data], axis=1)\n",
    "\n",
    "X_train = X_train.set_index('ID')\n",
    "\n",
    "# One Hot Encoding X_test\n",
    "cat_test_data = ohe.transform(X_test[cat_feat])\n",
    "cat_test_data = pd.DataFrame(cat_test_data)\n",
    "\n",
    "# Standard Scaling X_test\n",
    "num_test_data = scl.transform(X_test[num_feat])\n",
    "num_test_data = pd.DataFrame(num_test_data, columns= num_feat)\n",
    "\n",
    "#Creating the X_test\n",
    "X_test = X_test.drop(cat_feat, axis =1)\n",
    "X_test = X_test.drop(num_feat, axis =1)\n",
    "X_test = X_test.reset_index()\n",
    "\n",
    "X_test = pd.concat([X_test, cat_test_data], axis=1)\n",
    "X_test = pd.concat([X_test, num_test_data], axis=1)\n",
    "\n",
    "X_test = X_test.set_index('ID')"
   ]
  },
  {
   "cell_type": "markdown",
   "id": "e4fea822",
   "metadata": {},
   "source": [
    "#### XGBClassifier - Model"
   ]
  },
  {
   "cell_type": "markdown",
   "id": "a98abaa4",
   "metadata": {},
   "source": [
    "Evaluating the model with a random gridsearch."
   ]
  },
  {
   "cell_type": "code",
   "execution_count": 49,
   "id": "e1aa6e2b",
   "metadata": {},
   "outputs": [],
   "source": [
    "model = xgb.XGBClassifier(objective='binary:logistic', random_state = 1337)\n",
    "\n",
    "skf = StratifiedKFold(n_splits=5, shuffle = True, random_state = 1337)\n",
    "\n",
    "parameters = {\n",
    "        'learning_rate': [0.01,0.1,0.5,0.75,1,2],\n",
    "        'n_estimators': [1,5,10,15,20,25,30,40],\n",
    "        'min_child_weight': [1,2,3,4,5,6,7,8,9,10],\n",
    "        'gamma': [0,25, 0.5, 0.75, 1, 1.25,1.5, 2, 5],\n",
    "        'subsample': [0.6, 0.8, 1.0],\n",
    "        'colsample_bytree': [0.6, 0.8, 1.0],\n",
    "        'max_depth': [3, 4, 5, 6,7,8,9,10]\n",
    "        }\n",
    "\n",
    "search_xgb = RandomizedSearchCV(\n",
    "    model,                               # this is the instantiated estimator object, that is, the model we want to tune\n",
    "    param_distributions = parameters,    # this is the predefinad search space\n",
    "    scoring = 'roc_auc',                  # the metric we want the tuner calculates in order to select the best combination\n",
    "    cv = skf.get_n_splits(X_train, y_train),                              # the cross-validation schema we want to use (same as in the \"cross_validate\" or \"cross_val_score\")\n",
    "    refit = True,                        # if we want to fit again the model on the best hyp. setting found after the process\n",
    "    n_jobs = -1,                         # this is to indicate the operative system to use all processor cores and speed up the process,\n",
    "    return_train_score=True,           # is we want the tuner also return the scores on training (not just in validation)\n",
    "    n_iter = 3000                         # the number of attempts we want to perform\n",
    ")"
   ]
  },
  {
   "cell_type": "code",
   "execution_count": 50,
   "id": "8e16ea1c",
   "metadata": {},
   "outputs": [
    {
     "data": {
      "text/plain": [
       "RandomizedSearchCV(cv=5,\n",
       "                   estimator=XGBClassifier(base_score=None, booster=None,\n",
       "                                           callbacks=None,\n",
       "                                           colsample_bylevel=None,\n",
       "                                           colsample_bynode=None,\n",
       "                                           colsample_bytree=None,\n",
       "                                           early_stopping_rounds=None,\n",
       "                                           enable_categorical=False,\n",
       "                                           eval_metric=None, feature_types=None,\n",
       "                                           gamma=None, gpu_id=None,\n",
       "                                           grow_policy=None,\n",
       "                                           importance_type=None,\n",
       "                                           interaction_constraints=None,\n",
       "                                           learning_rate...\n",
       "                                           predictor=None, random_state=1337, ...),\n",
       "                   n_iter=3000, n_jobs=-1,\n",
       "                   param_distributions={'colsample_bytree': [0.6, 0.8, 1.0],\n",
       "                                        'gamma': [0, 25, 0.5, 0.75, 1, 1.25,\n",
       "                                                  1.5, 2, 5],\n",
       "                                        'learning_rate': [0.01, 0.1, 0.5, 0.75,\n",
       "                                                          1, 2],\n",
       "                                        'max_depth': [3, 4, 5, 6, 7, 8, 9, 10],\n",
       "                                        'min_child_weight': [1, 2, 3, 4, 5, 6,\n",
       "                                                             7, 8, 9, 10],\n",
       "                                        'n_estimators': [1, 5, 10, 15, 20, 25,\n",
       "                                                         30, 40],\n",
       "                                        'subsample': [0.6, 0.8, 1.0]},\n",
       "                   return_train_score=True, scoring='roc_auc')"
      ]
     },
     "execution_count": 50,
     "metadata": {},
     "output_type": "execute_result"
    }
   ],
   "source": [
    "search_xgb.fit(X_train, y_train)"
   ]
  },
  {
   "cell_type": "code",
   "execution_count": 51,
   "id": "16bd012b",
   "metadata": {},
   "outputs": [
    {
     "data": {
      "text/plain": [
       "{'subsample': 0.6,\n",
       " 'n_estimators': 40,\n",
       " 'min_child_weight': 8,\n",
       " 'max_depth': 6,\n",
       " 'learning_rate': 0.1,\n",
       " 'gamma': 5,\n",
       " 'colsample_bytree': 0.6}"
      ]
     },
     "execution_count": 51,
     "metadata": {},
     "output_type": "execute_result"
    }
   ],
   "source": [
    "search_xgb.best_params_"
   ]
  },
  {
   "cell_type": "code",
   "execution_count": 52,
   "id": "9c867aa2",
   "metadata": {},
   "outputs": [
    {
     "name": "stdout",
     "output_type": "stream",
     "text": [
      "[[2996  120]\n",
      " [ 573  311]]\n",
      "AUC-ROC: 0.7759140895915985\n"
     ]
    }
   ],
   "source": [
    "#Predicting the results\n",
    "ypred = search_xgb.predict(X_test)\n",
    "cm = confusion_matrix(y_test,ypred) \n",
    "print(cm)\n",
    "\n",
    "#Generating the probabilities\n",
    "probs = search_xgb.predict_proba(X_test)[:,1]\n",
    "predictions = pd.DataFrame({'defaults':y_test, 'pred':probs})\n",
    "\n",
    "fpr, tpr, thresholds = roc_curve(predictions.defaults, predictions.pred)\n",
    "\n",
    "# Evaluate peformance through AUC-ROC\n",
    "socre_auc = roc_auc_score(predictions.defaults, predictions.pred)\n",
    "print('AUC-ROC:', socre_auc)"
   ]
  },
  {
   "cell_type": "code",
   "execution_count": 53,
   "id": "7fd5dc47",
   "metadata": {},
   "outputs": [
    {
     "data": {
      "image/png": "[encoded data removed]",
      "text/plain": [
       "<Figure size 720x720 with 1 Axes>"
      ]
     },
     "metadata": {
      "needs_background": "light"
     },
     "output_type": "display_data"
    }
   ],
   "source": [
    "plt.figure(figsize=(10,10))\n",
    "plt.plot(fpr, tpr, marker = \".\")\n",
    "plt.plot(np.linspace(0,1,10), np.linspace(0,1,10), label=\"diagonal\")\n",
    "# axis labels\n",
    "plt.title('XGBClassifier AUC = {0:.4f}'.format(roc_auc_score(predictions.defaults, predictions.pred)), fontsize = 20)\n",
    "plt.xlabel('False Positive Rate', fontsize=15)\n",
    "plt.ylabel('True Positive Rate', fontsize=15)\n",
    "# show the plot\n",
    "plt.show()"
   ]
  },
  {
   "cell_type": "markdown",
   "id": "ce3c9691",
   "metadata": {},
   "source": [
    "#### Logistic Regression - Model"
   ]
  },
  {
   "cell_type": "markdown",
   "id": "02444c18",
   "metadata": {},
   "source": [
    "Evaluating the model with a random gridsearch."
   ]
  },
  {
   "cell_type": "code",
   "execution_count": 54,
   "id": "30e36f30",
   "metadata": {},
   "outputs": [],
   "source": [
    "logreg = LogisticRegression(random_state= 11337, max_iter= 1000)\n",
    "\n",
    "skf = StratifiedKFold(n_splits=5, shuffle = True, random_state = 1337)\n",
    "\n",
    "parameters = {\n",
    "    'C': np.logspace(-4, 4, 100),\n",
    "    'penalty': ['l1', 'l2']\n",
    "}\n",
    "\n",
    "search_lgr = RandomizedSearchCV(\n",
    "    logreg,                               # this is the instantiated estimator object, that is, the model we want to tune\n",
    "    param_distributions = parameters,    # this is the predefinad search space\n",
    "    scoring = 'roc_auc',                  # the metric we want the tuner calculates in order to select the best combination\n",
    "    cv = skf.get_n_splits(X_train, y_train),                              # the cross-validation schema we want to use (same as in the \"cross_validate\" or \"cross_val_score\")\n",
    "    refit = True,                        # if we want to fit again the model on the best hyp. setting found after the process\n",
    "    n_jobs = -1,                         # this is to indicate the operative system to use all processor cores and speed up the process,\n",
    "    return_train_score=True,           # is we want the tuner also return the scores on training (not just in validation)\n",
    "    n_iter=100                         # the number of attempts we want to perform\n",
    ")"
   ]
  },
  {
   "cell_type": "code",
   "execution_count": 55,
   "id": "6e3456c3",
   "metadata": {},
   "outputs": [
    {
     "name": "stderr",
     "output_type": "stream",
     "text": [
      "C:\\Users\\Pulin\\anaconda3\\lib\\site-packages\\sklearn\\model_selection\\_validation.py:372: FitFailedWarning: \n",
      "235 fits failed out of a total of 500.\n",
      "The score on these train-test partitions for these parameters will be set to nan.\n",
      "If these failures are not expected, you can try to debug them by setting error_score='raise'.\n",
      "\n",
      "Below are more details about the failures:\n",
      "--------------------------------------------------------------------------------\n",
      "235 fits failed with the following error:\n",
      "Traceback (most recent call last):\n",
      "  File \"C:\\Users\\Pulin\\anaconda3\\lib\\site-packages\\sklearn\\model_selection\\_validation.py\", line 680, in _fit_and_score\n",
      "    estimator.fit(X_train, y_train, **fit_params)\n",
      "  File \"C:\\Users\\Pulin\\anaconda3\\lib\\site-packages\\sklearn\\linear_model\\_logistic.py\", line 1461, in fit\n",
      "    solver = _check_solver(self.solver, self.penalty, self.dual)\n",
      "  File \"C:\\Users\\Pulin\\anaconda3\\lib\\site-packages\\sklearn\\linear_model\\_logistic.py\", line 447, in _check_solver\n",
      "    raise ValueError(\n",
      "ValueError: Solver lbfgs supports only 'l2' or 'none' penalties, got l1 penalty.\n",
      "\n",
      "  warnings.warn(some_fits_failed_message, FitFailedWarning)\n",
      "C:\\Users\\Pulin\\anaconda3\\lib\\site-packages\\sklearn\\model_selection\\_search.py:969: UserWarning: One or more of the test scores are non-finite: [       nan        nan 0.71433705 0.71536747        nan 0.71492367\n",
      " 0.71529776 0.71366719 0.71527019        nan        nan        nan\n",
      "        nan 0.71529233        nan 0.71533531        nan 0.7153066\n",
      "        nan        nan 0.71470221        nan        nan 0.71518879\n",
      "        nan        nan        nan        nan        nan 0.71533442\n",
      " 0.71531763        nan 0.71531907 0.71265955        nan 0.71536394\n",
      "        nan        nan 0.71532089        nan 0.71503735 0.71395502\n",
      "        nan 0.71536492 0.7153159         nan 0.71532203 0.7137987\n",
      " 0.71531114        nan        nan 0.71532315        nan        nan\n",
      " 0.71442052        nan 0.71531532        nan 0.71423153        nan\n",
      " 0.71375216 0.71532714        nan        nan        nan        nan\n",
      "        nan 0.71527926 0.71532476 0.71529474 0.71532792 0.71533893\n",
      "        nan 0.7153134  0.71532907 0.71444596 0.71534939 0.71534028\n",
      "        nan        nan        nan 0.71534382 0.71388038 0.71529741\n",
      " 0.71367206 0.71533362        nan 0.71534131 0.71530398        nan\n",
      " 0.71512526 0.71441241        nan        nan        nan        nan\n",
      " 0.71426693 0.7153168  0.71529866 0.71539661]\n",
      "  warnings.warn(\n",
      "C:\\Users\\Pulin\\anaconda3\\lib\\site-packages\\sklearn\\model_selection\\_search.py:969: UserWarning: One or more of the train scores are non-finite: [       nan        nan 0.71525225 0.717019          nan 0.71644481\n",
      " 0.71711338 0.71489767 0.71709368        nan        nan        nan\n",
      "        nan 0.71710277        nan 0.7171083         nan 0.71707994\n",
      "        nan        nan 0.71623733        nan        nan 0.71683857\n",
      "        nan        nan        nan        nan        nan 0.71709985\n",
      " 0.71707738        nan 0.71710892 0.71377628        nan 0.71702082\n",
      "        nan        nan 0.71711449        nan 0.71663138 0.71496817\n",
      "        nan 0.71709737 0.71710989        nan 0.71711706 0.71508737\n",
      " 0.7171027         nan        nan 0.71711779        nan        nan\n",
      " 0.71586477        nan 0.71709176        nan 0.71561599        nan\n",
      " 0.71483611 0.71712432        nan        nan        nan        nan\n",
      "        nan 0.71709604 0.71712851 0.71695762 0.71711681 0.71708824\n",
      "        nan 0.71709829 0.71709217 0.71535871 0.71709934 0.71710323\n",
      "        nan        nan        nan 0.71709846 0.71518383 0.71710947\n",
      " 0.71485894 0.71708396        nan 0.71711513 0.71710092        nan\n",
      " 0.71672005 0.71531053        nan        nan        nan        nan\n",
      " 0.71518328 0.71710865 0.71711697 0.7169988 ]\n",
      "  warnings.warn(\n",
      "C:\\Users\\Pulin\\anaconda3\\lib\\site-packages\\sklearn\\utils\\validation.py:1688: FutureWarning: Feature names only support names that are all strings. Got feature names with dtypes: ['int', 'str']. An error will be raised in 1.2.\n",
      "  warnings.warn(\n"
     ]
    },
    {
     "data": {
      "text/plain": [
       "RandomizedSearchCV(cv=5,\n",
       "                   estimator=LogisticRegression(max_iter=1000,\n",
       "                                                random_state=11337),\n",
       "                   n_iter=100, n_jobs=-1,\n",
       "                   param_distributions={'C': array([1.00000000e-04, 1.20450354e-04, 1.45082878e-04, 1.74752840e-04,\n",
       "       2.10490414e-04, 2.53536449e-04, 3.05385551e-04, 3.67837977e-04,\n",
       "       4.43062146e-04, 5.33669923e-04, 6.42807312e-04, 7.74263683e-04,\n",
       "       9.32603347e-04, 1.12332403e-03,...\n",
       "       2.91505306e+02, 3.51119173e+02, 4.22924287e+02, 5.09413801e+02,\n",
       "       6.13590727e+02, 7.39072203e+02, 8.90215085e+02, 1.07226722e+03,\n",
       "       1.29154967e+03, 1.55567614e+03, 1.87381742e+03, 2.25701972e+03,\n",
       "       2.71858824e+03, 3.27454916e+03, 3.94420606e+03, 4.75081016e+03,\n",
       "       5.72236766e+03, 6.89261210e+03, 8.30217568e+03, 1.00000000e+04]),\n",
       "                                        'penalty': ['l1', 'l2']},\n",
       "                   return_train_score=True, scoring='roc_auc')"
      ]
     },
     "execution_count": 55,
     "metadata": {},
     "output_type": "execute_result"
    }
   ],
   "source": [
    "search_lgr.fit(X_train, y_train)"
   ]
  },
  {
   "cell_type": "code",
   "execution_count": 56,
   "id": "bb3ca9b9",
   "metadata": {},
   "outputs": [
    {
     "data": {
      "text/plain": [
       "{'penalty': 'l2', 'C': 0.6280291441834259}"
      ]
     },
     "execution_count": 56,
     "metadata": {},
     "output_type": "execute_result"
    }
   ],
   "source": [
    "search_lgr.best_params_"
   ]
  },
  {
   "cell_type": "code",
   "execution_count": 57,
   "id": "d28459e7",
   "metadata": {},
   "outputs": [
    {
     "name": "stdout",
     "output_type": "stream",
     "text": [
      "[[3040   76]\n",
      " [ 673  211]]\n",
      "AUC-ROC: 0.7275893941066107\n"
     ]
    },
    {
     "name": "stderr",
     "output_type": "stream",
     "text": [
      "C:\\Users\\Pulin\\anaconda3\\lib\\site-packages\\sklearn\\utils\\validation.py:1688: FutureWarning: Feature names only support names that are all strings. Got feature names with dtypes: ['int', 'str']. An error will be raised in 1.2.\n",
      "  warnings.warn(\n",
      "C:\\Users\\Pulin\\anaconda3\\lib\\site-packages\\sklearn\\utils\\validation.py:1688: FutureWarning: Feature names only support names that are all strings. Got feature names with dtypes: ['int', 'str']. An error will be raised in 1.2.\n",
      "  warnings.warn(\n"
     ]
    }
   ],
   "source": [
    "#Predicting the results\n",
    "ypred = search_lgr.predict(X_test)\n",
    "cm = confusion_matrix(y_test,ypred) \n",
    "print(cm)\n",
    "\n",
    "#Generating the probabilities\n",
    "probs = search_lgr.predict_proba(X_test)[:,1]\n",
    "predictions = pd.DataFrame({'defaults':y_test, 'pred':probs})\n",
    "\n",
    "fpr, tpr, thresholds = roc_curve(predictions.defaults, predictions.pred)\n",
    "\n",
    "# Evaluate peformance through AUC-ROC\n",
    "socre_auc = roc_auc_score(predictions.defaults, predictions.pred)\n",
    "print('AUC-ROC:', socre_auc)"
   ]
  },
  {
   "cell_type": "code",
   "execution_count": 58,
   "id": "9a3fc633",
   "metadata": {},
   "outputs": [
    {
     "data": {
      "image/png": "[encoded data removed]",
      "text/plain": [
       "<Figure size 720x720 with 1 Axes>"
      ]
     },
     "metadata": {
      "needs_background": "light"
     },
     "output_type": "display_data"
    }
   ],
   "source": [
    "plt.figure(figsize=(10,10))\n",
    "plt.plot(fpr, tpr, marker = \".\")\n",
    "plt.plot(np.linspace(0,1,10), np.linspace(0,1,10), label=\"diagonal\")\n",
    "# axis labels\n",
    "plt.title('Logistic Regression AUC = {0:.4f}'.format(roc_auc_score(predictions.defaults, predictions.pred)), fontsize = 20)\n",
    "plt.xlabel('False Positive Rate', fontsize=15)\n",
    "plt.ylabel('True Positive Rate', fontsize=15)\n",
    "# show the plot\n",
    "plt.show()"
   ]
  },
  {
   "cell_type": "markdown",
   "id": "37921006",
   "metadata": {},
   "source": [
    "#### Random Forest - Model"
   ]
  },
  {
   "cell_type": "markdown",
   "id": "2f0a1437",
   "metadata": {},
   "source": [
    "Evaluating the model with a random gridsearch."
   ]
  },
  {
   "cell_type": "code",
   "execution_count": 59,
   "id": "81adf385",
   "metadata": {},
   "outputs": [],
   "source": [
    "clf = RandomForestClassifier(random_state=1337)\n",
    "\n",
    "skf = StratifiedKFold(n_splits=5, shuffle = True, random_state = 1337)\n",
    "\n",
    "parameters = {\n",
    "    'n_estimators': [int(x) for x in np.linspace(start = 1, stop = 500, num = 250)],\n",
    "    'min_samples_leaf': [20,25,30],\n",
    "    'min_samples_split': [40, 50, 60],\n",
    "    'max_depth': [int(x) for x in np.linspace(1, 30, num = 15)]\n",
    "}\n",
    "\n",
    "search_clf = RandomizedSearchCV(\n",
    "    clf,                                     # this is the instantiated estimator object, that is, the model we want to tune\n",
    "    param_distributions = parameters,        # this is the predefinad search space\n",
    "    scoring = 'roc_auc',                     # the metric we want the tuner calculates in order to select the best combination\n",
    "    cv = skf.get_n_splits(X_train, y_train), # the cross-validation schema we want to use (same as in the \"cross_validate\" or \"cross_val_score\")\n",
    "    refit = True,                            # if we want to fit again the model on the best hyp. setting found after the process\n",
    "    n_jobs = -1,                             # this is to indicate the operative system to use all processor cores and speed up the process,\n",
    "    return_train_score=True,                 # is we want the tuner also return the scores on training (not just in validation)\n",
    "    n_iter = 1000                            # the number of attempts we want to perform\n",
    ")"
   ]
  },
  {
   "cell_type": "code",
   "execution_count": 60,
   "id": "0e8fac46",
   "metadata": {},
   "outputs": [
    {
     "name": "stderr",
     "output_type": "stream",
     "text": [
      "C:\\Users\\Pulin\\anaconda3\\lib\\site-packages\\sklearn\\utils\\validation.py:1688: FutureWarning: Feature names only support names that are all strings. Got feature names with dtypes: ['int', 'str']. An error will be raised in 1.2.\n",
      "  warnings.warn(\n"
     ]
    },
    {
     "data": {
      "text/plain": [
       "RandomizedSearchCV(cv=5, estimator=RandomForestClassifier(random_state=1337),\n",
       "                   n_iter=1000, n_jobs=-1,\n",
       "                   param_distributions={'max_depth': [1, 3, 5, 7, 9, 11, 13, 15,\n",
       "                                                      17, 19, 21, 23, 25, 27,\n",
       "                                                      30],\n",
       "                                        'min_samples_leaf': [20, 25, 30],\n",
       "                                        'min_samples_split': [40, 50, 60],\n",
       "                                        'n_estimators': [1, 3, 5, 7, 9, 11, 13,\n",
       "                                                         15, 17, 19, 21, 23, 25,\n",
       "                                                         27, 29, 31, 33, 35, 37,\n",
       "                                                         39, 41, 43, 45, 47, 49,\n",
       "                                                         51, 53, 55, 57, 59, ...]},\n",
       "                   return_train_score=True, scoring='roc_auc')"
      ]
     },
     "execution_count": 60,
     "metadata": {},
     "output_type": "execute_result"
    }
   ],
   "source": [
    "search_clf.fit(X_train, y_train)"
   ]
  },
  {
   "cell_type": "code",
   "execution_count": 61,
   "id": "09e9c7dc",
   "metadata": {},
   "outputs": [
    {
     "data": {
      "text/plain": [
       "{'n_estimators': 293,\n",
       " 'min_samples_split': 50,\n",
       " 'min_samples_leaf': 20,\n",
       " 'max_depth': 15}"
      ]
     },
     "execution_count": 61,
     "metadata": {},
     "output_type": "execute_result"
    }
   ],
   "source": [
    "search_clf.best_params_"
   ]
  },
  {
   "cell_type": "code",
   "execution_count": 62,
   "id": "16854c49",
   "metadata": {},
   "outputs": [
    {
     "name": "stderr",
     "output_type": "stream",
     "text": [
      "C:\\Users\\Pulin\\anaconda3\\lib\\site-packages\\sklearn\\utils\\validation.py:1688: FutureWarning: Feature names only support names that are all strings. Got feature names with dtypes: ['int', 'str']. An error will be raised in 1.2.\n",
      "  warnings.warn(\n",
      "C:\\Users\\Pulin\\anaconda3\\lib\\site-packages\\sklearn\\utils\\validation.py:1688: FutureWarning: Feature names only support names that are all strings. Got feature names with dtypes: ['int', 'str']. An error will be raised in 1.2.\n",
      "  warnings.warn(\n"
     ]
    },
    {
     "name": "stdout",
     "output_type": "stream",
     "text": [
      "[[2999  117]\n",
      " [ 584  300]]\n",
      "AUC-ROC: 0.7798597517411232\n"
     ]
    }
   ],
   "source": [
    "#Predicting the results\n",
    "ypred = search_clf.predict(X_test)\n",
    "cm = confusion_matrix(y_test,ypred) \n",
    "print(cm)\n",
    "\n",
    "#Generating the probabilities\n",
    "probs = search_clf.predict_proba(X_test)[:,1]\n",
    "predictions = pd.DataFrame({'defaults':y_test, 'pred':probs})\n",
    "\n",
    "fpr, tpr, thresholds = roc_curve(predictions.defaults, predictions.pred)\n",
    "\n",
    "# Evaluate peformance through AUC-ROC\n",
    "socre_auc = roc_auc_score(predictions.defaults, predictions.pred)\n",
    "print('AUC-ROC:', socre_auc)"
   ]
  },
  {
   "cell_type": "code",
   "execution_count": 63,
   "id": "2fea276c",
   "metadata": {},
   "outputs": [
    {
     "data": {
      "image/png": "[encoded data removed]",
      "text/plain": [
       "<Figure size 720x720 with 1 Axes>"
      ]
     },
     "metadata": {
      "needs_background": "light"
     },
     "output_type": "display_data"
    }
   ],
   "source": [
    "plt.figure(figsize=(10,10))\n",
    "plt.plot(fpr, tpr, marker = \".\")\n",
    "plt.plot(np.linspace(0,1,10), np.linspace(0,1,10), label=\"diagonal\")\n",
    "# axis labels\n",
    "plt.title('Random Forest AUC = {0:.4f}'.format(roc_auc_score(predictions.defaults, predictions.pred)), fontsize = 20)\n",
    "plt.xlabel('False Positive Rate', fontsize=15)\n",
    "plt.ylabel('True Positive Rate', fontsize=15)\n",
    "# show the plot\n",
    "plt.show()"
   ]
  },
  {
   "cell_type": "markdown",
   "id": "fa5a3fb4",
   "metadata": {},
   "source": [
    "#### Preparing Test Data Set "
   ]
  },
  {
   "cell_type": "markdown",
   "id": "d6788415",
   "metadata": {},
   "source": [
    "Preprarign the dataset that would function as the test dataset."
   ]
  },
  {
   "cell_type": "code",
   "execution_count": 64,
   "id": "db7a9512",
   "metadata": {},
   "outputs": [],
   "source": [
    "#Reading the test_data file\n",
    "test_data = pd.read_csv('data/test_data.csv')"
   ]
  },
  {
   "cell_type": "code",
   "execution_count": 65,
   "id": "211d4cea",
   "metadata": {},
   "outputs": [],
   "source": [
    "#Applying transformations prevoiusly done to the train dataset\n",
    "test_data['L3PB'] = test_data[Payments].sum(axis = 1) - test_data[Bills].sum(axis = 1)\n",
    "test_data['EDUCATION'].mask(test_data['EDUCATION'] == 0, 5, inplace=True)\n",
    "test_data['EDUCATION'] = test_data['EDUCATION'].map(edu)\n",
    "test_data['MARRIAGE'] = test_data['MARRIAGE'].map(marriage)\n",
    "test_data['SEX'] = test_data['SEX'].map(sex)\n",
    "test_data = test_data.drop(Bills, axis = 1)\n",
    "test_data = test_data.drop(Payments, axis = 1)\n",
    "test_data = test_data.drop(Pay, axis = 1)\n",
    "test_data = test_data.set_index('ID')"
   ]
  },
  {
   "cell_type": "code",
   "execution_count": 66,
   "id": "84f7ccd2",
   "metadata": {},
   "outputs": [
    {
     "data": {
      "text/html": [
       "<div>\n",
       "<style scoped>\n",
       "    .dataframe tbody tr th:only-of-type {\n",
       "        vertical-align: middle;\n",
       "    }\n",
       "\n",
       "    .dataframe tbody tr th {\n",
       "        vertical-align: top;\n",
       "    }\n",
       "\n",
       "    .dataframe thead th {\n",
       "        text-align: right;\n",
       "    }\n",
       "</style>\n",
       "<table border=\"1\" class=\"dataframe\">\n",
       "  <thead>\n",
       "    <tr style=\"text-align: right;\">\n",
       "      <th></th>\n",
       "      <th>LIMIT_BAL</th>\n",
       "      <th>SEX</th>\n",
       "      <th>EDUCATION</th>\n",
       "      <th>MARRIAGE</th>\n",
       "      <th>AGE</th>\n",
       "      <th>PAY_JUNE</th>\n",
       "      <th>BILL_AMT_JUNE</th>\n",
       "      <th>BILL_AMT_MAY</th>\n",
       "      <th>BILL_AMT_APRIL</th>\n",
       "      <th>PAY_AMT_JUNE</th>\n",
       "      <th>PAY_AMT_MAY</th>\n",
       "      <th>PAY_AMT_APRIL</th>\n",
       "      <th>DEFAULT_JULY</th>\n",
       "      <th>L3PB</th>\n",
       "    </tr>\n",
       "    <tr>\n",
       "      <th>ID</th>\n",
       "      <th></th>\n",
       "      <th></th>\n",
       "      <th></th>\n",
       "      <th></th>\n",
       "      <th></th>\n",
       "      <th></th>\n",
       "      <th></th>\n",
       "      <th></th>\n",
       "      <th></th>\n",
       "      <th></th>\n",
       "      <th></th>\n",
       "      <th></th>\n",
       "      <th></th>\n",
       "      <th></th>\n",
       "    </tr>\n",
       "  </thead>\n",
       "  <tbody>\n",
       "    <tr>\n",
       "      <th>11316</th>\n",
       "      <td>170000.0</td>\n",
       "      <td>male</td>\n",
       "      <td>university</td>\n",
       "      <td>single</td>\n",
       "      <td>36</td>\n",
       "      <td>-2</td>\n",
       "      <td>600.0</td>\n",
       "      <td>1598.0</td>\n",
       "      <td>0.0</td>\n",
       "      <td>1598.0</td>\n",
       "      <td>0.0</td>\n",
       "      <td>1340.0</td>\n",
       "      <td>0</td>\n",
       "      <td>1860.0</td>\n",
       "    </tr>\n",
       "    <tr>\n",
       "      <th>26420</th>\n",
       "      <td>120000.0</td>\n",
       "      <td>male</td>\n",
       "      <td>university</td>\n",
       "      <td>single</td>\n",
       "      <td>25</td>\n",
       "      <td>0</td>\n",
       "      <td>11147.0</td>\n",
       "      <td>9757.0</td>\n",
       "      <td>9423.0</td>\n",
       "      <td>2446.0</td>\n",
       "      <td>438.0</td>\n",
       "      <td>1000.0</td>\n",
       "      <td>0</td>\n",
       "      <td>-8787.0</td>\n",
       "    </tr>\n",
       "    <tr>\n",
       "      <th>7847</th>\n",
       "      <td>250000.0</td>\n",
       "      <td>female</td>\n",
       "      <td>graduate school</td>\n",
       "      <td>single</td>\n",
       "      <td>38</td>\n",
       "      <td>-1</td>\n",
       "      <td>14766.0</td>\n",
       "      <td>990.0</td>\n",
       "      <td>8150.0</td>\n",
       "      <td>990.0</td>\n",
       "      <td>8150.0</td>\n",
       "      <td>15410.0</td>\n",
       "      <td>0</td>\n",
       "      <td>-15410.0</td>\n",
       "    </tr>\n",
       "    <tr>\n",
       "      <th>8083</th>\n",
       "      <td>100000.0</td>\n",
       "      <td>male</td>\n",
       "      <td>graduate school</td>\n",
       "      <td>married</td>\n",
       "      <td>55</td>\n",
       "      <td>0</td>\n",
       "      <td>10712.0</td>\n",
       "      <td>18135.0</td>\n",
       "      <td>31498.0</td>\n",
       "      <td>8000.0</td>\n",
       "      <td>2000.0</td>\n",
       "      <td>4000.0</td>\n",
       "      <td>0</td>\n",
       "      <td>-48084.0</td>\n",
       "    </tr>\n",
       "    <tr>\n",
       "      <th>7455</th>\n",
       "      <td>30000.0</td>\n",
       "      <td>male</td>\n",
       "      <td>graduate school</td>\n",
       "      <td>single</td>\n",
       "      <td>56</td>\n",
       "      <td>2</td>\n",
       "      <td>27033.0</td>\n",
       "      <td>27772.0</td>\n",
       "      <td>28740.0</td>\n",
       "      <td>1480.0</td>\n",
       "      <td>1448.0</td>\n",
       "      <td>1021.0</td>\n",
       "      <td>0</td>\n",
       "      <td>-83722.0</td>\n",
       "    </tr>\n",
       "  </tbody>\n",
       "</table>\n",
       "</div>"
      ],
      "text/plain": [
       "       LIMIT_BAL     SEX        EDUCATION MARRIAGE  AGE  PAY_JUNE  \\\n",
       "ID                                                                  \n",
       "11316   170000.0    male       university   single   36        -2   \n",
       "26420   120000.0    male       university   single   25         0   \n",
       "7847    250000.0  female  graduate school   single   38        -1   \n",
       "8083    100000.0    male  graduate school  married   55         0   \n",
       "7455     30000.0    male  graduate school   single   56         2   \n",
       "\n",
       "       BILL_AMT_JUNE  BILL_AMT_MAY  BILL_AMT_APRIL  PAY_AMT_JUNE  PAY_AMT_MAY  \\\n",
       "ID                                                                              \n",
       "11316          600.0        1598.0             0.0        1598.0          0.0   \n",
       "26420        11147.0        9757.0          9423.0        2446.0        438.0   \n",
       "7847         14766.0         990.0          8150.0         990.0       8150.0   \n",
       "8083         10712.0       18135.0         31498.0        8000.0       2000.0   \n",
       "7455         27033.0       27772.0         28740.0        1480.0       1448.0   \n",
       "\n",
       "       PAY_AMT_APRIL  DEFAULT_JULY     L3PB  \n",
       "ID                                           \n",
       "11316         1340.0             0   1860.0  \n",
       "26420         1000.0             0  -8787.0  \n",
       "7847         15410.0             0 -15410.0  \n",
       "8083          4000.0             0 -48084.0  \n",
       "7455          1021.0             0 -83722.0  "
      ]
     },
     "execution_count": 66,
     "metadata": {},
     "output_type": "execute_result"
    }
   ],
   "source": [
    "#Reviewing the results\n",
    "test_data.head()"
   ]
  },
  {
   "cell_type": "code",
   "execution_count": 67,
   "id": "bc717440",
   "metadata": {},
   "outputs": [],
   "source": [
    "#Obtaning explanatory and target values\n",
    "X_test_data = test_data.drop('DEFAULT_JULY', axis =1 )\n",
    "y_test_data = test_data['DEFAULT_JULY']\n",
    "\n",
    "# One Hot Encoding X_test\n",
    "cat_test_data = ohe.transform(X_test_data[cat_feat])\n",
    "cat_test_data = pd.DataFrame(cat_test_data)\n",
    "\n",
    "# Standard Scaling X_test\n",
    "num_test_data = scl.transform(X_test_data[num_feat])\n",
    "num_test_data = pd.DataFrame(num_test_data, columns= num_feat)\n",
    "\n",
    "#Creating the X_test\n",
    "X_test_data = X_test_data.drop(cat_feat, axis =1)\n",
    "X_test_data = X_test_data.drop(num_feat, axis =1)\n",
    "X_test_data = X_test_data.reset_index()\n",
    "\n",
    "X_test_data = pd.concat([X_test_data, cat_test_data], axis=1)\n",
    "X_test_data = pd.concat([X_test_data, num_test_data], axis=1)\n",
    "\n",
    "X_test_data = X_test_data.set_index('ID')"
   ]
  },
  {
   "cell_type": "markdown",
   "id": "7adceddd",
   "metadata": {},
   "source": [
    "#### XGBClassifier "
   ]
  },
  {
   "cell_type": "markdown",
   "id": "0f2c0652",
   "metadata": {},
   "source": [
    "Evaluating the best model against the test dataset"
   ]
  },
  {
   "cell_type": "code",
   "execution_count": 68,
   "id": "e3443cac",
   "metadata": {},
   "outputs": [
    {
     "name": "stdout",
     "output_type": "stream",
     "text": [
      "[[6696  309]\n",
      " [1313  682]]\n",
      "AUC-ROC: 0.776803643655892\n"
     ]
    }
   ],
   "source": [
    "#Predicting the results\n",
    "ypred = search_xgb.predict(X_test_data)\n",
    "cm = confusion_matrix(y_test_data,ypred) \n",
    "print(cm)\n",
    "\n",
    "#Generating the probabilities\n",
    "probs = search_xgb.predict_proba(X_test_data)[:,1]\n",
    "predictions = pd.DataFrame({'defaults':y_test_data, 'pred':probs})\n",
    "\n",
    "fpr, tpr, thresholds = roc_curve(predictions.defaults, predictions.pred)\n",
    "\n",
    "# Evaluate peformance through AUC-ROC\n",
    "socre_auc = roc_auc_score(predictions.defaults, predictions.pred)\n",
    "print('AUC-ROC:', socre_auc)"
   ]
  },
  {
   "cell_type": "markdown",
   "id": "8e98aa33",
   "metadata": {},
   "source": [
    "#### Logistic Regression"
   ]
  },
  {
   "cell_type": "markdown",
   "id": "d8435b36",
   "metadata": {},
   "source": [
    "Evaluating the best model against the test dataset"
   ]
  },
  {
   "cell_type": "code",
   "execution_count": 69,
   "id": "0d6aff9f",
   "metadata": {},
   "outputs": [
    {
     "name": "stdout",
     "output_type": "stream",
     "text": [
      "[[6824  181]\n",
      " [1533  462]]\n",
      "AUC-ROC: 0.7256355378095488\n"
     ]
    },
    {
     "name": "stderr",
     "output_type": "stream",
     "text": [
      "C:\\Users\\Pulin\\anaconda3\\lib\\site-packages\\sklearn\\utils\\validation.py:1688: FutureWarning: Feature names only support names that are all strings. Got feature names with dtypes: ['int', 'str']. An error will be raised in 1.2.\n",
      "  warnings.warn(\n",
      "C:\\Users\\Pulin\\anaconda3\\lib\\site-packages\\sklearn\\utils\\validation.py:1688: FutureWarning: Feature names only support names that are all strings. Got feature names with dtypes: ['int', 'str']. An error will be raised in 1.2.\n",
      "  warnings.warn(\n"
     ]
    }
   ],
   "source": [
    "ypred = search_lgr.predict(X_test_data)\n",
    "cm = confusion_matrix(y_test_data,ypred) \n",
    "print(cm)\n",
    "\n",
    "probs = search_lgr.predict_proba(X_test_data)[:,1]\n",
    "predictions = pd.DataFrame({'defaults':y_test_data, 'pred':probs})\n",
    "\n",
    "fpr, tpr, thresholds = roc_curve(predictions.defaults, predictions.pred)\n",
    "\n",
    "# Evaluate peformance through AUC-ROC\n",
    "socre_auc = roc_auc_score(predictions.defaults, predictions.pred)\n",
    "print('AUC-ROC:', socre_auc)"
   ]
  },
  {
   "cell_type": "markdown",
   "id": "f4d77a25",
   "metadata": {},
   "source": [
    "#### Random Forest "
   ]
  },
  {
   "cell_type": "markdown",
   "id": "e7aef0b4",
   "metadata": {},
   "source": [
    "Evaluating the best model against the test dataset"
   ]
  },
  {
   "cell_type": "code",
   "execution_count": 70,
   "id": "d46be601",
   "metadata": {},
   "outputs": [
    {
     "name": "stderr",
     "output_type": "stream",
     "text": [
      "C:\\Users\\Pulin\\anaconda3\\lib\\site-packages\\sklearn\\utils\\validation.py:1688: FutureWarning: Feature names only support names that are all strings. Got feature names with dtypes: ['int', 'str']. An error will be raised in 1.2.\n",
      "  warnings.warn(\n"
     ]
    },
    {
     "name": "stdout",
     "output_type": "stream",
     "text": [
      "[[6711  294]\n",
      " [1332  663]]\n"
     ]
    },
    {
     "name": "stderr",
     "output_type": "stream",
     "text": [
      "C:\\Users\\Pulin\\anaconda3\\lib\\site-packages\\sklearn\\utils\\validation.py:1688: FutureWarning: Feature names only support names that are all strings. Got feature names with dtypes: ['int', 'str']. An error will be raised in 1.2.\n",
      "  warnings.warn(\n"
     ]
    },
    {
     "name": "stdout",
     "output_type": "stream",
     "text": [
      "AUC-ROC: 0.7768354862888843\n"
     ]
    }
   ],
   "source": [
    "ypred = search_clf.predict(X_test_data)\n",
    "cm = confusion_matrix(y_test_data,ypred) \n",
    "print(cm)\n",
    "\n",
    "probs = search_clf.predict_proba(X_test_data)[:,1]\n",
    "predictions = pd.DataFrame({'defaults':y_test_data, 'pred':probs})\n",
    "\n",
    "fpr, tpr, thresholds = roc_curve(predictions.defaults, predictions.pred)\n",
    "\n",
    "# Evaluate peformance through AUC-ROC\n",
    "socre_auc = roc_auc_score(predictions.defaults, predictions.pred)\n",
    "print('AUC-ROC:', socre_auc)"
   ]
  },
  {
   "cell_type": "markdown",
   "id": "13f1a4c1",
   "metadata": {},
   "source": [
    "The best resulting model from all it was the Random Forest. This model would be used to predict the submission dataset."
   ]
  },
  {
   "cell_type": "markdown",
   "id": "c15bc788",
   "metadata": {},
   "source": [
    "#### Final Predictions "
   ]
  },
  {
   "cell_type": "markdown",
   "id": "8fea7946",
   "metadata": {},
   "source": [
    "Preparing the submission dataset"
   ]
  },
  {
   "cell_type": "code",
   "execution_count": 71,
   "id": "4eaaae19",
   "metadata": {},
   "outputs": [],
   "source": [
    "#Reading the submission_data file\n",
    "submission_data = pd.read_csv('data/submission_features.csv')\n",
    "\n",
    "#Applying transformations prevoiusly done to the train dataset\n",
    "submission_data['L3PB'] = submission_data[Payments].sum(axis = 1) - submission_data[Bills].sum(axis = 1)\n",
    "submission_data['EDUCATION'].mask(submission_data['EDUCATION'] == 0, 5, inplace=True)\n",
    "submission_data['EDUCATION'] = submission_data['EDUCATION'].map(edu)\n",
    "submission_data['MARRIAGE'] = submission_data['MARRIAGE'].map(marriage)\n",
    "submission_data['SEX'] = submission_data['SEX'].map(sex)\n",
    "submission_data = submission_data.drop(Bills, axis = 1)\n",
    "submission_data = submission_data.drop(Payments, axis = 1)\n",
    "submission_data = submission_data.drop(Pay, axis = 1)\n",
    "submission_data = submission_data.set_index('ID')\n",
    "\n",
    "#Obtaning explanatory and target values\n",
    "X_submission_data = submission_data\n",
    "\n",
    "# One Hot Encoding X_test\n",
    "cat_submission_data = ohe.transform(X_submission_data[cat_feat])\n",
    "cat_submission_data = pd.DataFrame(cat_submission_data)\n",
    "\n",
    "# Standard Scaling X_test\n",
    "num_submission_data = scl.transform(X_submission_data[num_feat])\n",
    "num_submission_data = pd.DataFrame(num_submission_data, columns= num_feat)\n",
    "\n",
    "#Creating the X_test\n",
    "X_submission_data = X_submission_data.drop(cat_feat, axis =1)\n",
    "X_submission_data = X_submission_data.drop(num_feat, axis =1)\n",
    "X_submission_data = X_submission_data.reset_index()\n",
    "\n",
    "X_submission_data = pd.concat([X_submission_data, cat_submission_data], axis=1)\n",
    "X_submission_data = pd.concat([X_submission_data, num_submission_data], axis=1)\n",
    "\n",
    "X_submission_data = X_submission_data.set_index('ID')"
   ]
  },
  {
   "cell_type": "markdown",
   "id": "7453acb6",
   "metadata": {},
   "source": [
    "Predicting the probabilities of the submission dataset."
   ]
  },
  {
   "cell_type": "code",
   "execution_count": 72,
   "id": "96e4c3d6",
   "metadata": {},
   "outputs": [
    {
     "name": "stderr",
     "output_type": "stream",
     "text": [
      "C:\\Users\\Pulin\\anaconda3\\lib\\site-packages\\sklearn\\utils\\validation.py:1688: FutureWarning: Feature names only support names that are all strings. Got feature names with dtypes: ['int', 'str']. An error will be raised in 1.2.\n",
      "  warnings.warn(\n"
     ]
    }
   ],
   "source": [
    "submisssion_predictions = search_clf.predict_proba(X_submission_data)"
   ]
  },
  {
   "cell_type": "code",
   "execution_count": 73,
   "id": "ac379017",
   "metadata": {},
   "outputs": [],
   "source": [
    "submisssion_predictions = pd.DataFrame(submisssion_predictions)"
   ]
  },
  {
   "cell_type": "code",
   "execution_count": 74,
   "id": "992653d0",
   "metadata": {},
   "outputs": [],
   "source": [
    "C1_submission = pd.read_csv('data/submission_features.csv')"
   ]
  },
  {
   "cell_type": "code",
   "execution_count": 75,
   "id": "e7ce51a4",
   "metadata": {},
   "outputs": [],
   "source": [
    "C1_submission = pd.merge(C1_submission, submisssion_predictions[1], left_index=True, right_index=True)"
   ]
  },
  {
   "cell_type": "code",
   "execution_count": 76,
   "id": "06bb3fc7",
   "metadata": {},
   "outputs": [],
   "source": [
    "C1_submission = C1_submission.rename(columns={1: \"probabilities\"})"
   ]
  },
  {
   "cell_type": "markdown",
   "id": "d7bfdf30",
   "metadata": {},
   "source": [
    "Exporting the probabilities obtained."
   ]
  },
  {
   "cell_type": "code",
   "execution_count": 77,
   "id": "d74f4ba6",
   "metadata": {},
   "outputs": [],
   "source": [
    "C1_submission[['ID','probabilities']].to_csv(\"HerreraPaulino_C1_submission.csv\",index=False)"
   ]
  },
  {
   "cell_type": "markdown",
   "id": "63d6bce1",
   "metadata": {},
   "source": [
    "### **Question 2**\n",
    "\n",
    "(1 point)"
   ]
  },
  {
   "cell_type": "code",
   "execution_count": 78,
   "id": "6ac7914c",
   "metadata": {},
   "outputs": [
    {
     "data": {
      "text/html": [
       "<div>\n",
       "<style scoped>\n",
       "    .dataframe tbody tr th:only-of-type {\n",
       "        vertical-align: middle;\n",
       "    }\n",
       "\n",
       "    .dataframe tbody tr th {\n",
       "        vertical-align: top;\n",
       "    }\n",
       "\n",
       "    .dataframe thead th {\n",
       "        text-align: right;\n",
       "    }\n",
       "</style>\n",
       "<table border=\"1\" class=\"dataframe\">\n",
       "  <thead>\n",
       "    <tr style=\"text-align: right;\">\n",
       "      <th></th>\n",
       "      <th>ID</th>\n",
       "      <th>probabilities</th>\n",
       "    </tr>\n",
       "  </thead>\n",
       "  <tbody>\n",
       "    <tr>\n",
       "      <th>862</th>\n",
       "      <td>488</td>\n",
       "      <td>0.021008</td>\n",
       "    </tr>\n",
       "    <tr>\n",
       "      <th>269</th>\n",
       "      <td>16242</td>\n",
       "      <td>0.027880</td>\n",
       "    </tr>\n",
       "    <tr>\n",
       "      <th>914</th>\n",
       "      <td>26872</td>\n",
       "      <td>0.027945</td>\n",
       "    </tr>\n",
       "    <tr>\n",
       "      <th>472</th>\n",
       "      <td>5428</td>\n",
       "      <td>0.028885</td>\n",
       "    </tr>\n",
       "    <tr>\n",
       "      <th>792</th>\n",
       "      <td>20297</td>\n",
       "      <td>0.029875</td>\n",
       "    </tr>\n",
       "  </tbody>\n",
       "</table>\n",
       "</div>"
      ],
      "text/plain": [
       "        ID  probabilities\n",
       "862    488       0.021008\n",
       "269  16242       0.027880\n",
       "914  26872       0.027945\n",
       "472   5428       0.028885\n",
       "792  20297       0.029875"
      ]
     },
     "execution_count": 78,
     "metadata": {},
     "output_type": "execute_result"
    }
   ],
   "source": [
    "C1_submission[['ID','probabilities']].sort_values(by=['probabilities']).head(5)"
   ]
  },
  {
   "cell_type": "markdown",
   "id": "7005ce2b-4a35-4905-8743-0b9ee42f9c77",
   "metadata": {},
   "source": [
    "### **Question 3**\n",
    "\n",
    "(2.5 points)"
   ]
  },
  {
   "cell_type": "markdown",
   "id": "9072bcec",
   "metadata": {},
   "source": [
    "Now the bank wants to optimize the decision-making process by establishing the optimal threshold for the model in order to effectively take the decision about when to issue the credit and when not. So, taking into account the following numbers:\n",
    "\n",
    "- A customer who receives a loan but doesn't repay costs 5000 to the bank\n",
    "- A customer who receives a loan and repays, make a profit of 1000 to the bank\n",
    "- If the credit is not issued, then there is no profit or loss"
   ]
  },
  {
   "cell_type": "markdown",
   "id": "d845dcb6",
   "metadata": {},
   "source": [
    "Obtaning the probabilties of the randiom model on the est data set, which will be the one to evalutethe best threshold."
   ]
  },
  {
   "cell_type": "code",
   "execution_count": 79,
   "id": "82be3ba3",
   "metadata": {},
   "outputs": [
    {
     "name": "stderr",
     "output_type": "stream",
     "text": [
      "C:\\Users\\Pulin\\anaconda3\\lib\\site-packages\\sklearn\\utils\\validation.py:1688: FutureWarning: Feature names only support names that are all strings. Got feature names with dtypes: ['int', 'str']. An error will be raised in 1.2.\n",
      "  warnings.warn(\n"
     ]
    }
   ],
   "source": [
    "probabilities = pd.DataFrame(search_clf.predict_proba(X_test_data))"
   ]
  },
  {
   "cell_type": "code",
   "execution_count": 80,
   "id": "d616e02b",
   "metadata": {},
   "outputs": [],
   "source": [
    "probabilities = probabilities.rename(columns={1: \"probabilities\"})"
   ]
  },
  {
   "cell_type": "code",
   "execution_count": 81,
   "id": "0554529c",
   "metadata": {},
   "outputs": [],
   "source": [
    "probabilities = probabilities['probabilities']"
   ]
  },
  {
   "cell_type": "code",
   "execution_count": 82,
   "id": "2da86e0d",
   "metadata": {},
   "outputs": [],
   "source": [
    "y_test_data = y_test_data.reset_index()"
   ]
  },
  {
   "cell_type": "code",
   "execution_count": 83,
   "id": "eccd1b13",
   "metadata": {},
   "outputs": [],
   "source": [
    "probabilities = pd.merge(y_test_data['DEFAULT_JULY'], probabilities, left_index=True, right_index=True)"
   ]
  },
  {
   "cell_type": "markdown",
   "id": "cd095a91",
   "metadata": {},
   "source": [
    "Through a loop it's evaluated the different considerated thresholds. Note that in this case a limited range has been settle from previous attempts. Note: also a lambda function can be implemented to obtain the same results."
   ]
  },
  {
   "cell_type": "code",
   "execution_count": 84,
   "id": "4d4e5579",
   "metadata": {},
   "outputs": [],
   "source": [
    "results = {}\n",
    "for prob in range(18750, 19130):\n",
    "    profits = 0\n",
    "    threshold = prob/100000\n",
    "    for ind in probabilities.index:\n",
    "        if  probabilities.loc[ind, 'probabilities'] <= threshold and probabilities.loc[ind, 'DEFAULT_JULY'] == 0:\n",
    "            profits += 1000\n",
    "        elif probabilities.loc[ind, 'probabilities'] <= threshold and probabilities.loc[ind, 'DEFAULT_JULY'] == 1:\n",
    "            profits += -5000\n",
    "        else:\n",
    "            profits += 0\n",
    "    results[threshold] = [profits]"
   ]
  },
  {
   "cell_type": "markdown",
   "id": "ae0d5fb8",
   "metadata": {},
   "source": [
    "Sorting the results to obtain the best threshold"
   ]
  },
  {
   "cell_type": "code",
   "execution_count": 85,
   "id": "355af571",
   "metadata": {},
   "outputs": [],
   "source": [
    "sort_results = sorted(results.items(), key=lambda x: x[1], reverse=True)"
   ]
  },
  {
   "cell_type": "code",
   "execution_count": 86,
   "id": "c8f812f7",
   "metadata": {},
   "outputs": [
    {
     "name": "stdout",
     "output_type": "stream",
     "text": [
      "The best result obtained is through a threshold of 0.19052\n"
     ]
    }
   ],
   "source": [
    "print(f'The best result obtained is through a threshold of {sort_results[0][0]}')"
   ]
  },
  {
   "cell_type": "code",
   "execution_count": 87,
   "id": "1d8a7f58",
   "metadata": {},
   "outputs": [
    {
     "data": {
      "text/plain": [
       "[(0.19052, [1969000]),\n",
       " (0.19053, [1969000]),\n",
       " (0.19054, [1969000]),\n",
       " (0.19055, [1969000]),\n",
       " (0.1905, [1968000]),\n",
       " (0.19051, [1968000]),\n",
       " (0.19044, [1967000]),\n",
       " (0.19045, [1967000]),\n",
       " (0.19046, [1967000]),\n",
       " (0.19047, [1967000]),\n",
       " (0.19048, [1967000]),\n",
       " (0.19049, [1967000]),\n",
       " (0.19043, [1966000]),\n",
       " (0.19038, [1965000]),\n",
       " (0.19039, [1965000]),\n",
       " (0.1904, [1965000]),\n",
       " (0.19041, [1965000]),\n",
       " (0.19042, [1965000]),\n",
       " (0.19033, [1964000]),\n",
       " (0.19034, [1964000]),\n",
       " (0.19035, [1964000]),\n",
       " (0.19036, [1964000]),\n",
       " (0.19037, [1964000]),\n",
       " (0.19056, [1964000]),\n",
       " (0.19057, [1964000]),\n",
       " (0.19058, [1964000]),\n",
       " (0.19028, [1963000]),\n",
       " (0.19029, [1963000]),\n",
       " (0.1903, [1963000]),\n",
       " (0.19031, [1963000]),\n",
       " (0.19032, [1963000]),\n",
       " (0.1912, [1963000]),\n",
       " (0.19023, [1962000]),\n",
       " (0.19024, [1962000]),\n",
       " (0.19025, [1962000]),\n",
       " (0.19026, [1962000]),\n",
       " (0.19027, [1962000]),\n",
       " (0.19015, [1961000]),\n",
       " (0.19016, [1961000]),\n",
       " (0.19017, [1961000]),\n",
       " (0.19018, [1961000]),\n",
       " (0.19019, [1961000]),\n",
       " (0.1902, [1961000]),\n",
       " (0.19021, [1961000]),\n",
       " (0.19022, [1961000]),\n",
       " (0.19119, [1961000]),\n",
       " (0.19014, [1960000]),\n",
       " (0.19059, [1960000]),\n",
       " (0.1906, [1960000]),\n",
       " (0.19061, [1960000]),\n",
       " (0.19062, [1960000]),\n",
       " (0.19063, [1960000]),\n",
       " (0.19064, [1960000]),\n",
       " (0.19078, [1960000]),\n",
       " (0.19079, [1960000]),\n",
       " (0.19116, [1960000]),\n",
       " (0.19117, [1960000]),\n",
       " (0.19118, [1960000]),\n",
       " (0.19073, [1959000]),\n",
       " (0.19074, [1959000]),\n",
       " (0.19075, [1959000]),\n",
       " (0.19076, [1959000]),\n",
       " (0.19077, [1959000]),\n",
       " (0.19114, [1959000]),\n",
       " (0.19115, [1959000]),\n",
       " (0.18958, [1958000]),\n",
       " (0.18959, [1958000]),\n",
       " (0.19071, [1958000]),\n",
       " (0.19072, [1958000]),\n",
       " (0.19081, [1958000]),\n",
       " (0.19082, [1958000]),\n",
       " (0.19106, [1958000]),\n",
       " (0.19107, [1958000]),\n",
       " (0.19108, [1958000]),\n",
       " (0.19109, [1958000]),\n",
       " (0.1911, [1958000]),\n",
       " (0.19111, [1958000]),\n",
       " (0.19112, [1958000]),\n",
       " (0.19113, [1958000]),\n",
       " (0.19121, [1958000]),\n",
       " (0.19122, [1958000]),\n",
       " (0.19123, [1958000]),\n",
       " (0.19124, [1958000]),\n",
       " (0.18944, [1957000]),\n",
       " (0.18945, [1957000]),\n",
       " (0.18946, [1957000]),\n",
       " (0.18947, [1957000]),\n",
       " (0.18948, [1957000]),\n",
       " (0.18949, [1957000]),\n",
       " (0.1895, [1957000]),\n",
       " (0.18951, [1957000]),\n",
       " (0.18952, [1957000]),\n",
       " (0.18953, [1957000]),\n",
       " (0.18954, [1957000]),\n",
       " (0.18955, [1957000]),\n",
       " (0.18956, [1957000]),\n",
       " (0.18957, [1957000]),\n",
       " (0.19004, [1957000]),\n",
       " (0.19005, [1957000]),\n",
       " (0.19006, [1957000]),\n",
       " (0.19007, [1957000]),\n",
       " (0.19008, [1957000]),\n",
       " (0.19009, [1957000]),\n",
       " (0.1901, [1957000]),\n",
       " (0.19011, [1957000]),\n",
       " (0.19012, [1957000]),\n",
       " (0.19013, [1957000]),\n",
       " (0.19067, [1957000]),\n",
       " (0.19068, [1957000]),\n",
       " (0.19069, [1957000]),\n",
       " (0.1907, [1957000]),\n",
       " (0.1908, [1957000]),\n",
       " (0.19094, [1957000]),\n",
       " (0.19095, [1957000]),\n",
       " (0.19096, [1957000]),\n",
       " (0.19097, [1957000]),\n",
       " (0.19098, [1957000]),\n",
       " (0.19099, [1957000]),\n",
       " (0.191, [1957000]),\n",
       " (0.19101, [1957000]),\n",
       " (0.19102, [1957000]),\n",
       " (0.19103, [1957000]),\n",
       " (0.19104, [1957000]),\n",
       " (0.19105, [1957000]),\n",
       " (0.18938, [1956000]),\n",
       " (0.18939, [1956000]),\n",
       " (0.1894, [1956000]),\n",
       " (0.18941, [1956000]),\n",
       " (0.18942, [1956000]),\n",
       " (0.18943, [1956000]),\n",
       " (0.19002, [1956000]),\n",
       " (0.19003, [1956000]),\n",
       " (0.19066, [1956000]),\n",
       " (0.19088, [1956000]),\n",
       " (0.19089, [1956000]),\n",
       " (0.1909, [1956000]),\n",
       " (0.19091, [1956000]),\n",
       " (0.19092, [1956000]),\n",
       " (0.19093, [1956000]),\n",
       " (0.18937, [1955000]),\n",
       " (0.19, [1955000]),\n",
       " (0.19001, [1955000]),\n",
       " (0.19065, [1955000]),\n",
       " (0.19085, [1955000]),\n",
       " (0.19086, [1955000]),\n",
       " (0.19087, [1955000]),\n",
       " (0.18935, [1954000]),\n",
       " (0.18936, [1954000]),\n",
       " (0.18964, [1954000]),\n",
       " (0.18996, [1954000]),\n",
       " (0.18997, [1954000]),\n",
       " (0.18998, [1954000]),\n",
       " (0.18999, [1954000]),\n",
       " (0.19084, [1954000]),\n",
       " (0.18773, [1953000]),\n",
       " (0.18774, [1953000]),\n",
       " (0.18775, [1953000]),\n",
       " (0.18776, [1953000]),\n",
       " (0.18777, [1953000]),\n",
       " (0.18933, [1953000]),\n",
       " (0.18934, [1953000]),\n",
       " (0.1896, [1953000]),\n",
       " (0.18961, [1953000]),\n",
       " (0.18962, [1953000]),\n",
       " (0.18963, [1953000]),\n",
       " (0.18979, [1953000]),\n",
       " (0.1898, [1953000]),\n",
       " (0.18981, [1953000]),\n",
       " (0.18982, [1953000]),\n",
       " (0.18983, [1953000]),\n",
       " (0.18984, [1953000]),\n",
       " (0.18985, [1953000]),\n",
       " (0.18986, [1953000]),\n",
       " (0.18987, [1953000]),\n",
       " (0.18988, [1953000]),\n",
       " (0.18989, [1953000]),\n",
       " (0.1899, [1953000]),\n",
       " (0.18991, [1953000]),\n",
       " (0.18992, [1953000]),\n",
       " (0.18993, [1953000]),\n",
       " (0.18994, [1953000]),\n",
       " (0.18995, [1953000]),\n",
       " (0.19083, [1953000]),\n",
       " (0.19125, [1953000]),\n",
       " (0.19126, [1953000]),\n",
       " (0.19127, [1953000]),\n",
       " (0.19128, [1953000]),\n",
       " (0.18756, [1952000]),\n",
       " (0.18757, [1952000]),\n",
       " (0.18758, [1952000]),\n",
       " (0.18759, [1952000]),\n",
       " (0.1876, [1952000]),\n",
       " (0.18761, [1952000]),\n",
       " (0.18762, [1952000]),\n",
       " (0.18763, [1952000]),\n",
       " (0.18764, [1952000]),\n",
       " (0.18765, [1952000]),\n",
       " (0.18766, [1952000]),\n",
       " (0.18767, [1952000]),\n",
       " (0.18768, [1952000]),\n",
       " (0.18769, [1952000]),\n",
       " (0.1877, [1952000]),\n",
       " (0.18771, [1952000]),\n",
       " (0.18772, [1952000]),\n",
       " (0.18884, [1952000]),\n",
       " (0.18885, [1952000]),\n",
       " (0.18886, [1952000]),\n",
       " (0.18924, [1952000]),\n",
       " (0.18925, [1952000]),\n",
       " (0.18926, [1952000]),\n",
       " (0.18927, [1952000]),\n",
       " (0.18928, [1952000]),\n",
       " (0.18929, [1952000]),\n",
       " (0.1893, [1952000]),\n",
       " (0.18931, [1952000]),\n",
       " (0.18932, [1952000]),\n",
       " (0.18976, [1952000]),\n",
       " (0.18977, [1952000]),\n",
       " (0.18978, [1952000]),\n",
       " (0.18754, [1951000]),\n",
       " (0.18755, [1951000]),\n",
       " (0.18882, [1951000]),\n",
       " (0.18883, [1951000]),\n",
       " (0.18922, [1951000]),\n",
       " (0.18923, [1951000]),\n",
       " (0.1897, [1951000]),\n",
       " (0.18971, [1951000]),\n",
       " (0.18972, [1951000]),\n",
       " (0.18973, [1951000]),\n",
       " (0.18974, [1951000]),\n",
       " (0.18975, [1951000]),\n",
       " (0.1875, [1950000]),\n",
       " (0.18751, [1950000]),\n",
       " (0.18752, [1950000]),\n",
       " (0.18753, [1950000]),\n",
       " (0.18783, [1950000]),\n",
       " (0.18784, [1950000]),\n",
       " (0.18785, [1950000]),\n",
       " (0.18786, [1950000]),\n",
       " (0.18787, [1950000]),\n",
       " (0.18788, [1950000]),\n",
       " (0.18872, [1950000]),\n",
       " (0.18873, [1950000]),\n",
       " (0.18874, [1950000]),\n",
       " (0.18875, [1950000]),\n",
       " (0.18876, [1950000]),\n",
       " (0.18877, [1950000]),\n",
       " (0.18878, [1950000]),\n",
       " (0.18879, [1950000]),\n",
       " (0.1888, [1950000]),\n",
       " (0.18881, [1950000]),\n",
       " (0.18914, [1950000]),\n",
       " (0.18915, [1950000]),\n",
       " (0.18916, [1950000]),\n",
       " (0.18917, [1950000]),\n",
       " (0.18918, [1950000]),\n",
       " (0.18919, [1950000]),\n",
       " (0.1892, [1950000]),\n",
       " (0.18921, [1950000]),\n",
       " (0.18779, [1949000]),\n",
       " (0.1878, [1949000]),\n",
       " (0.18781, [1949000]),\n",
       " (0.18782, [1949000]),\n",
       " (0.18804, [1949000]),\n",
       " (0.18805, [1949000]),\n",
       " (0.18806, [1949000]),\n",
       " (0.1887, [1949000]),\n",
       " (0.18871, [1949000]),\n",
       " (0.18911, [1949000]),\n",
       " (0.18912, [1949000]),\n",
       " (0.18913, [1949000]),\n",
       " (0.18965, [1949000]),\n",
       " (0.18966, [1949000]),\n",
       " (0.18967, [1949000]),\n",
       " (0.18968, [1949000]),\n",
       " (0.18969, [1949000]),\n",
       " (0.18778, [1948000]),\n",
       " (0.18797, [1948000]),\n",
       " (0.18798, [1948000]),\n",
       " (0.18799, [1948000]),\n",
       " (0.188, [1948000]),\n",
       " (0.18801, [1948000]),\n",
       " (0.18802, [1948000]),\n",
       " (0.18803, [1948000]),\n",
       " (0.18856, [1948000]),\n",
       " (0.18857, [1948000]),\n",
       " (0.18858, [1948000]),\n",
       " (0.18864, [1948000]),\n",
       " (0.18865, [1948000]),\n",
       " (0.18866, [1948000]),\n",
       " (0.18867, [1948000]),\n",
       " (0.18868, [1948000]),\n",
       " (0.18869, [1948000]),\n",
       " (0.18892, [1948000]),\n",
       " (0.18893, [1948000]),\n",
       " (0.18894, [1948000]),\n",
       " (0.18895, [1948000]),\n",
       " (0.18896, [1948000]),\n",
       " (0.18897, [1948000]),\n",
       " (0.18898, [1948000]),\n",
       " (0.18899, [1948000]),\n",
       " (0.189, [1948000]),\n",
       " (0.18901, [1948000]),\n",
       " (0.18902, [1948000]),\n",
       " (0.18903, [1948000]),\n",
       " (0.18904, [1948000]),\n",
       " (0.18905, [1948000]),\n",
       " (0.18906, [1948000]),\n",
       " (0.18907, [1948000]),\n",
       " (0.18908, [1948000]),\n",
       " (0.18909, [1948000]),\n",
       " (0.1891, [1948000]),\n",
       " (0.19129, [1948000]),\n",
       " (0.18796, [1947000]),\n",
       " (0.18852, [1947000]),\n",
       " (0.18853, [1947000]),\n",
       " (0.18854, [1947000]),\n",
       " (0.18855, [1947000]),\n",
       " (0.18887, [1947000]),\n",
       " (0.18888, [1947000]),\n",
       " (0.18889, [1947000]),\n",
       " (0.1889, [1947000]),\n",
       " (0.18891, [1947000]),\n",
       " (0.18795, [1946000]),\n",
       " (0.18818, [1946000]),\n",
       " (0.18819, [1946000]),\n",
       " (0.18843, [1946000]),\n",
       " (0.18844, [1946000]),\n",
       " (0.18845, [1946000]),\n",
       " (0.18846, [1946000]),\n",
       " (0.18847, [1946000]),\n",
       " (0.18848, [1946000]),\n",
       " (0.18849, [1946000]),\n",
       " (0.1885, [1946000]),\n",
       " (0.18851, [1946000]),\n",
       " (0.18863, [1946000]),\n",
       " (0.18789, [1945000]),\n",
       " (0.1879, [1945000]),\n",
       " (0.18791, [1945000]),\n",
       " (0.18792, [1945000]),\n",
       " (0.18793, [1945000]),\n",
       " (0.18794, [1945000]),\n",
       " (0.18817, [1945000]),\n",
       " (0.18841, [1945000]),\n",
       " (0.18842, [1945000]),\n",
       " (0.1886, [1945000]),\n",
       " (0.18861, [1945000]),\n",
       " (0.18862, [1945000]),\n",
       " (0.18807, [1944000]),\n",
       " (0.18808, [1944000]),\n",
       " (0.18809, [1944000]),\n",
       " (0.1881, [1944000]),\n",
       " (0.18811, [1944000]),\n",
       " (0.18812, [1944000]),\n",
       " (0.18813, [1944000]),\n",
       " (0.18814, [1944000]),\n",
       " (0.18815, [1944000]),\n",
       " (0.18816, [1944000]),\n",
       " (0.1884, [1944000]),\n",
       " (0.18859, [1944000]),\n",
       " (0.18831, [1943000]),\n",
       " (0.18832, [1943000]),\n",
       " (0.18833, [1943000]),\n",
       " (0.18834, [1943000]),\n",
       " (0.18835, [1943000]),\n",
       " (0.18836, [1943000]),\n",
       " (0.18837, [1943000]),\n",
       " (0.18838, [1943000]),\n",
       " (0.18839, [1943000]),\n",
       " (0.1882, [1942000]),\n",
       " (0.18821, [1942000]),\n",
       " (0.18822, [1942000]),\n",
       " (0.18823, [1942000]),\n",
       " (0.18824, [1942000]),\n",
       " (0.18825, [1942000]),\n",
       " (0.18826, [1942000]),\n",
       " (0.18827, [1942000]),\n",
       " (0.18828, [1942000]),\n",
       " (0.18829, [1942000]),\n",
       " (0.1883, [1942000])]"
      ]
     },
     "execution_count": 87,
     "metadata": {},
     "output_type": "execute_result"
    }
   ],
   "source": [
    "sort_results"
   ]
  }
 ],
 "metadata": {
  "kernelspec": {
   "display_name": "Python 3 (ipykernel)",
   "language": "python",
   "name": "python3"
  },
  "language_info": {
   "codemirror_mode": {
    "name": "ipython",
    "version": 3
   },
   "file_extension": ".py",
   "mimetype": "text/x-python",
   "name": "python",
   "nbconvert_exporter": "python",
   "pygments_lexer": "ipython3",
   "version": "3.9.12"
  }
 },
 "nbformat": 4,
 "nbformat_minor": 5
}
