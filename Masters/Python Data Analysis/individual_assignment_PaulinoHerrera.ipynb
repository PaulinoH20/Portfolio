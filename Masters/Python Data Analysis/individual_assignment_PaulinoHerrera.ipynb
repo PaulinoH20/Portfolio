{
 "cells": [
  {
   "cell_type": "markdown",
   "metadata": {},
   "source": [
    "## Individual assignment\n",
    "\n",
    "**Humanity has finally reached Mars. There are 4 colonies, and the humans are more or less adapting to life there**\n",
    "\n",
    "The 4 cities are called `Yharnam`, `Marsdrid`, `Ironforge` and `Churroland`. Each city has its own `population`.\n",
    "```python\n",
    "population = {\n",
    "    'Yharnam': 1000,\n",
    "    'Marsdrid': 2000,\n",
    "    'Ironforge': 3000,\n",
    "    'Churroland': 4000,\n",
    "}\n",
    "``` \n",
    "\n",
    "The cities are all connected to each other, with different `distances` between them (see attached PDF). There are also important points for life, like the three water sources, or wells. There's also a volcano that the Mars Geological Survey is monitoring. All these landmarks are defined by their coordinates, which are given in the `landmarks` dictionary. \n",
    "    \n",
    "```python\n",
    "# coordinates in kilometers\n",
    "landmarks = {\n",
    "    'Yharnam': (0, 0),\n",
    "    'Marsdrid': (0, 150),\n",
    "    'Ironforge': (100, 50),\n",
    "    'Churroland': (150, 100),\n",
    "    'Well 1': (0, 50),\n",
    "    'Well 2': (0, 100),\n",
    "    'Well 3': (100, 100),\n",
    "    'Volcano': (50, 100),\n",
    "}\n",
    "```\n",
    "\n",
    "Rules:\n",
    "* You can use any of the tools we have seen in class, nothing else.\n",
    "* You can't share your code with anyone else.\n",
    "* 1 point per correctly solved exercise.\n",
    "* No points deducted from incorrect answers.\n",
    "* **SUBMISSION:**\n",
    "  * ONE (1) JUPYTER NOTEBOOK, based on this one, with your name as the filename:\n",
    "    * `individual_assignment_daniel_garcia_hernandez.ipynb`\n",
    "  * No submission will be accepted after the deadline.\n",
    "  * No submission will be accepted if the description of the exercises is changed\n",
    "  * No submission will be accepted if the order of the exervises is changed"
   ]
  },
  {
   "cell_type": "code",
   "execution_count": 1,
   "metadata": {},
   "outputs": [],
   "source": [
    "population = {\n",
    "    'Yharnam': 1000,\n",
    "    'Marsdrid': 2000,\n",
    "    'Ironforge': 3000,\n",
    "    'Churroland': 4000,\n",
    "}\n",
    "\n",
    "landmarks = {\n",
    "    'Yharnam': (0, 0),\n",
    "    'Marsdrid': (0, 150),\n",
    "    'Ironforge': (100, 50),\n",
    "    'Churroland': (150, 100),\n",
    "    'Well 1': (0, 50),\n",
    "    'Well 2': (0, 100),\n",
    "    'Well 3': (100, 100),\n",
    "    'Volcano': (50, 100),\n",
    "}\n",
    "\n",
    "#Cities list for easier for an easier usage purpose. \n",
    "cities = []\n",
    "    \n",
    "for city in landmarks:\n",
    "    for pop in population:\n",
    "        if city == pop:\n",
    "            cities.append(city)\n",
    "\n",
    "#Wells list for easier pourpose\n",
    "wells = ['Well 1', 'Well 2', 'Well 3']\n",
    "\n",
    "#Volcano data for easier usage\n",
    "volcano = 'Volcano'\n"
   ]
  },
  {
   "cell_type": "markdown",
   "metadata": {},
   "source": [
    "### Exercise 1\n",
    "\n",
    "Knowing that we can calculate the distance between two points in 2-dimensional space using the formula:\n",
    "$$d = \\sqrt{(x_2 - x_1)^2 + (y_2 - y_1)^2}$$\n",
    "write a function that takes two points as input and returns the distance between them.\n",
    "\n",
    "Each point should be a tuple of two numbers `(x, y)` representing the two coordinates --horizontal and vertical-- of the point.\n",
    "\n",
    "```python\n",
    "def distance(point1, point2):\n",
    "    distance = ((point2[0]-point1[0])**2 + (point2[1]-point1[1])**2)**(1/2) # Your code here \n",
    "    return distance\n",
    "```"
   ]
  },
  {
   "cell_type": "code",
   "execution_count": 2,
   "metadata": {},
   "outputs": [],
   "source": [
    "def distance(point1, point2):\n",
    "       \n",
    "    distance = ((point2[0]-point1[0])**2 + (point2[1]-point1[1])**2)**(1/2)\n",
    "    \n",
    "    return distance"
   ]
  },
  {
   "cell_type": "code",
   "execution_count": 3,
   "metadata": {},
   "outputs": [
    {
     "data": {
      "text/plain": [
       "150.0"
      ]
     },
     "execution_count": 3,
     "metadata": {},
     "output_type": "execute_result"
    }
   ],
   "source": [
    "distance((0,0),(0,150)) #Testing the result of the function "
   ]
  },
  {
   "cell_type": "markdown",
   "metadata": {},
   "source": [
    "### Exercise 2\n",
    "\n",
    "Now that we know how to calculate the distance between two points, we can calculate the distance between two landmarks. \n",
    "\n",
    "Write a function that takes the followning arguments:\n",
    "* `landmarks`: a dictionary with the coordinates of the landmarks\n",
    "* `landmarks_list`: a list of the landmarks we want to calculate the distance between. It should be a list of 2 strings, where each string is the name of a landmark.\n",
    "\n",
    "and returns the distance between them, using the function you wrote in the previous exercise.\n",
    "\n",
    "```python\n",
    "def distance_between_landmarks(landmarks, landmarks_list):\n",
    "    distance_cities = distance(landmarks[landmarks_list[0]], landmarks[landmarks_list[1]]) \n",
    "    #The distance function is called from the excercise 1.\n",
    "    return distance\n",
    "```"
   ]
  },
  {
   "cell_type": "code",
   "execution_count": 4,
   "metadata": {},
   "outputs": [],
   "source": [
    "def distance_between_landmarks(landmarks, landmarks_list): \n",
    "    \n",
    "    distance_cities = distance(landmarks[landmarks_list[0]], landmarks[landmarks_list[1]]) \n",
    "    \n",
    "    return distance_cities"
   ]
  },
  {
   "cell_type": "code",
   "execution_count": 5,
   "metadata": {},
   "outputs": [
    {
     "name": "stdout",
     "output_type": "stream",
     "text": [
      "150.0\n",
      "158.11388300841898\n"
     ]
    }
   ],
   "source": [
    "landmarks_list1 =['Yharnam', 'Marsdrid'] #Here we test the function with Yharnam and Marsdrid\n",
    "\n",
    "print(distance_between_landmarks(landmarks, landmarks_list1))\n",
    "\n",
    "landmarks_list1 =['Well 1', 'Churroland'] #Here we test the function with Well 1 and Churroland\n",
    "print(distance_between_landmarks(landmarks, landmarks_list1))"
   ]
  },
  {
   "cell_type": "markdown",
   "metadata": {},
   "source": [
    "### Exercise 3\n",
    "\n",
    "Let's analyze which city has a better access to water. To do so, we need to calculate the distance between each city and each well, and then average the distances.\n",
    "\n",
    "We can do this by using a double `for` loop:\n",
    "\n",
    "```python\n",
    "dict_of_avg_distances = {}\n",
    "\n",
    "for city in cities:\n",
    "\n",
    "    distances_to_wells = []\n",
    "\n",
    "    for well in wells:\n",
    "        \n",
    "        distances_to_wells.append(distance_between_landmarks(landmarks, (city, well))) \n",
    "        \n",
    "    dict_of_avg_distances[city] = sum(distances_to_wells)/3\n",
    "\n",
    "\n",
    "dict_of_avg_distances\n",
    "        # Calculate distance between city and well\n",
    "        # save the distance in a list with append\n",
    "\n",
    "    # sum the 3 distances in the list and divide by 3 to calculate the average\n",
    "    # add the average distance to a dictionary where the key is the city and the value is the average distance to water.\n",
    "```\n"
   ]
  },
  {
   "cell_type": "code",
   "execution_count": 6,
   "metadata": {},
   "outputs": [
    {
     "data": {
      "text/plain": [
       "{'Yharnam': 97.14045207910317,\n",
       " 'Marsdrid': 87.2677996249965,\n",
       " 'Ironforge': 87.2677996249965,\n",
       " 'Churroland': 119.37129433613966}"
      ]
     },
     "execution_count": 6,
     "metadata": {},
     "output_type": "execute_result"
    }
   ],
   "source": [
    "dict_of_avg_distances = {}\n",
    "\n",
    "for city in cities:\n",
    "\n",
    "    distances_to_wells = []\n",
    "\n",
    "    for well in wells:\n",
    "        \n",
    "        distances_to_wells.append(distance_between_landmarks(landmarks, (city, well))) \n",
    "        \n",
    "    dict_of_avg_distances[city] = sum(distances_to_wells)/3\n",
    "\n",
    "\n",
    "dict_of_avg_distances #Here we obtain the average distance from every city to the wells.   "
   ]
  },
  {
   "cell_type": "markdown",
   "metadata": {},
   "source": [
    "### Exercise 4\n",
    "\n",
    "Which city or cities have the best access to water? Which city or cities has the worst access to water?\n",
    "\n",
    "Hint: you can use the `min` and `max` functions to find the minimum and maximum values in a dictionary, passing the dictionary as an argument, and using the `key` argument to specify which value to use to find the minimum or maximum.\n",
    "\n",
    "```python\n",
    "dummy_dict = {\n",
    "    'city1': 10,\n",
    "    'city2': 20,\n",
    "    'city3': 30,\n",
    "}\n",
    "\n",
    "min_value = min(dummy_dict, key=dummy_dict.get)\n",
    "max_value = max(dummy_dict, key=dummy_dict.get)\n",
    "```\n",
    "Keep in mind that these functions will return the first key found with the minimum or maximum value, so if there are repeated values, it might not be the one you want."
   ]
  },
  {
   "cell_type": "code",
   "execution_count": 7,
   "metadata": {},
   "outputs": [
    {
     "name": "stdout",
     "output_type": "stream",
     "text": [
      " The city with the worst access to the wells is Churroland\n",
      " The city with the best access to the wells are Marsdrid and Ironforge\n"
     ]
    }
   ],
   "source": [
    "#\n",
    "min_distance = min(dict_of_avg_distances, key=dict_of_avg_distances.get) \n",
    "max_distance = max(dict_of_avg_distances, key=dict_of_avg_distances.get)\n",
    "\n",
    "max_city = []\n",
    "min_city = []\n",
    "\n",
    "for city in cities:\n",
    "    if dict_of_avg_distances[city] == dict_of_avg_distances[min_distance]:\n",
    "        min_city.append(city)\n",
    "    elif dict_of_avg_distances[city] == dict_of_avg_distances[max_distance]:\n",
    "        max_city.append(city)\n",
    "    else:\n",
    "        pass\n",
    "\n",
    "    #We print the results obtained.    \n",
    "print(f\" The city with the worst access to the wells is {max_city[0]}\")\n",
    "print(f\" The city with the best access to the wells are {min_city[0]} and {min_city[1]}\")"
   ]
  },
  {
   "cell_type": "markdown",
   "metadata": {},
   "source": [
    "### Exercise 5\n",
    "\n",
    "Now that we know which city has the best access to water, create a dictionary with the cities as keys and their distance to the volcano as values"
   ]
  },
  {
   "cell_type": "code",
   "execution_count": 8,
   "metadata": {},
   "outputs": [
    {
     "data": {
      "text/plain": [
       "{'Yharnam': 111.80339887498948,\n",
       " 'Marsdrid': 70.71067811865476,\n",
       " 'Ironforge': 70.71067811865476,\n",
       " 'Churroland': 100.0}"
      ]
     },
     "execution_count": 8,
     "metadata": {},
     "output_type": "execute_result"
    }
   ],
   "source": [
    "dict_dis_volcano = {}\n",
    "\n",
    "for city in cities:\n",
    "     \n",
    "    dict_dis_volcano[city] = distance_between_landmarks(landmarks, (city,volcano))\n",
    "\n",
    "#We print the results of the distance of each city to the volcano.\n",
    "dict_dis_volcano  "
   ]
  },
  {
   "cell_type": "markdown",
   "metadata": {},
   "source": [
    "### Exercise 6\n",
    "\n",
    "The Geological Survey found that in case of an eruption, the explosion will have a radius between 75 and 110 km.\n",
    "* In the best case scenario, the explosion will be 75 km away from the volcano.\n",
    "* In the worst case scenario, the explosion will be 110 km away from the volcano.\n",
    "\n",
    "Knowing this, which city or cities are at risk of being destroyed by the volcano in the best case scenario? Which city or cities are at risk of being destroyed by the volcano in the worst case scenario?\n",
    "\n",
    "Write a function that takes in the `landmarks` and the explosion radii in each scenario, and returns which cities are at rist of being destroyed.\n",
    "\n",
    "```python\n",
    "def cities_at_risk(landmarks, [best_case_radius, worst_case_radius]):\n",
    "    # Your code here\n",
    "    best_case_radius = cases_radius_b_w[0] \n",
    "    worst_case_radius = cases_radius_b_w[1]\n",
    "    cities_at_risk_best_case = []\n",
    "    cities_at_risk_worst_case = []\n",
    "    \n",
    "    cities = []\n",
    "    \n",
    "    for city in landmarks:\n",
    "        for pop in population:\n",
    "            if city == pop:\n",
    "                cities.append(city)\n",
    "    \n",
    "    \n",
    "    for city in cities:\n",
    "        if distance_between_landmarks(landmarks, (city,volcano)) <= best_case_radius:\n",
    "            cities_at_risk_best_case.append(city)\n",
    "            cities_at_risk_worst_case.append(city)\n",
    "        elif distance_between_landmarks(landmarks, (city,volcano)) <= worst_case_radius:\n",
    "            cities_at_risk_worst_case.append(city)\n",
    "        else:\n",
    "            pass\n",
    "    return cities_at_risk_best_case, cities_at_risk_worst_case\n",
    "```"
   ]
  },
  {
   "cell_type": "code",
   "execution_count": 9,
   "metadata": {},
   "outputs": [],
   "source": [
    "def cities_at_risk(landmarks, cases_radius_b_w):\n",
    "           \n",
    "    best_case_radius = cases_radius_b_w[0] \n",
    "    worst_case_radius = cases_radius_b_w[1]\n",
    "    cities_at_risk_best_case = []\n",
    "    cities_at_risk_worst_case = []\n",
    "    \n",
    "    cities = []\n",
    "    \n",
    "    for city in landmarks:\n",
    "        for pop in population:\n",
    "            if city == pop:\n",
    "                cities.append(city)\n",
    "    \n",
    "    \n",
    "    for city in cities:\n",
    "        if distance_between_landmarks(landmarks, (city,volcano)) <= best_case_radius:\n",
    "            cities_at_risk_best_case.append(city)\n",
    "            cities_at_risk_worst_case.append(city)\n",
    "        elif distance_between_landmarks(landmarks, (city,volcano)) <= worst_case_radius:\n",
    "            cities_at_risk_worst_case.append(city)\n",
    "        else:\n",
    "            pass\n",
    "    return cities_at_risk_best_case, cities_at_risk_worst_case        "
   ]
  },
  {
   "cell_type": "code",
   "execution_count": 10,
   "metadata": {},
   "outputs": [
    {
     "name": "stdout",
     "output_type": "stream",
     "text": [
      "The cities at risk in the best case scenario are Marsdrid and Ironforge\n",
      "The cities at risk in the worst case scenario are Marsdrid, Ironforge and Churroland\n"
     ]
    }
   ],
   "source": [
    "cities_at_risks = cities_at_risk(landmarks, (75, 110)) \n",
    "print(f\"The cities at risk in the best case scenario are {cities_at_risks[0][0]} and {cities_at_risks[0][1]}\")\n",
    "print(f\"The cities at risk in the worst case scenario are {cities_at_risks[1][0]}, {cities_at_risks[1][1]} and {cities_at_risks[1][2]}\")"
   ]
  },
  {
   "cell_type": "markdown",
   "metadata": {},
   "source": [
    "### Exercise 7\n",
    "\n",
    "Our worst fears have come true. The volcano has increased its activity and our geologist have estimated the radius of explosion: 90 km.\n",
    "\n",
    "We need to evacuate the cities at risk. How many people will we have to evacuate?\n",
    "\n",
    "Adapt the previous function to return the number of people at risk, passing the `population` dictionary as an argument, as well as `landmarks` and the explosion radius.\n",
    "\n",
    "```python\n",
    "def population_to_evacuate(landmarks, population, explosion_radius):\n",
    "    # Your code here\n",
    "    def population_to_evacuate(landmarks, population, explosion_radius):\n",
    "    # Your code here\n",
    "    cities = []\n",
    "    \n",
    "    for city in landmarks:\n",
    "        for pop in population:\n",
    "            if city == pop:\n",
    "                cities.append(city)\n",
    "    \n",
    "    cities_at_risk = []\n",
    "    \n",
    "    for city in cities:\n",
    "        if distance_between_landmarks(landmarks, (city,volcano)) <= explosion_radius:\n",
    "            cities_at_risk.append(city)\n",
    "        else:\n",
    "            pass\n",
    "        \n",
    "    people_at_risk = {}\n",
    "    total = 0\n",
    "    for city in cities_at_risk:\n",
    "        people_at_risk[city] = (population[city])\n",
    "        total += population[city]\n",
    "        \n",
    "    \n",
    "    people_at_risk['Total'] = total\n",
    "    \n",
    "    return people_at_risk\n",
    "```"
   ]
  },
  {
   "cell_type": "code",
   "execution_count": 11,
   "metadata": {},
   "outputs": [],
   "source": [
    "def population_to_evacuate(landmarks, population, explosion_radius):\n",
    "    cities = []\n",
    "    \n",
    "    for city in landmarks:\n",
    "        for pop in population:\n",
    "            if city == pop:\n",
    "                cities.append(city)\n",
    "    \n",
    "    cities_at_risk = []\n",
    "    \n",
    "    for city in cities:\n",
    "        if distance_between_landmarks(landmarks, (city,volcano)) <= explosion_radius:\n",
    "            cities_at_risk.append(city)\n",
    "        else:\n",
    "            pass\n",
    "        \n",
    "    people_at_risk = {}\n",
    "    total = 0\n",
    "    for city in cities_at_risk:\n",
    "        people_at_risk[city] = (population[city])\n",
    "        total += population[city]\n",
    "        \n",
    "    \n",
    "    people_at_risk['Total_Pop_at_risk'] = total\n",
    "    \n",
    "    return people_at_risk"
   ]
  },
  {
   "cell_type": "code",
   "execution_count": 12,
   "metadata": {},
   "outputs": [
    {
     "name": "stdout",
     "output_type": "stream",
     "text": [
      "The result of the analys brought the following results {'Marsdrid': 2000, 'Ironforge': 3000, 'Total_Pop_at_risk': 5000}\n"
     ]
    }
   ],
   "source": [
    "pop_at_risk = population_to_evacuate(landmarks, population, 90)\n",
    "print(f\"The result of the analys brought the following results {pop_at_risk}\")"
   ]
  },
  {
   "cell_type": "markdown",
   "metadata": {},
   "source": [
    "### Exercise 8\n",
    "\n",
    "Which cities are the ones we need to evacuate? Which cities are the ones we can keep?\n",
    "\n",
    "Reuse the previous function to return a dictionary with `keep` and `evacuate` as keys, and the cities as values.\n",
    "\n",
    "```python\n",
    "dict_status = {\n",
    "    'keep': [city1, city2, city3],\n",
    "    'evacuate': [city4, city5, city6],\n",
    "}\n",
    "```\n",
    "\n",
    "```python\n",
    "def status_of_cities(landmarks, explosion_radius):\n",
    "    # Your code here\n",
    "    return dict_status\n",
    "```"
   ]
  },
  {
   "cell_type": "code",
   "execution_count": 13,
   "metadata": {},
   "outputs": [],
   "source": [
    "def status_of_cities(landmarks, explosion_radius):\n",
    "    \n",
    "    pop_at_risk = population_to_evacuate(landmarks, population, explosion_radius)\n",
    "    \n",
    "    dict_status = {'keep': list(), 'evacuate': list()}\n",
    "    for city in cities:\n",
    "        if city in pop_at_risk:\n",
    "            dict_status['evacuate'].append(city)\n",
    "        else:\n",
    "            dict_status['keep'].append(city)\n",
    "    \n",
    "    \n",
    "    return dict_status"
   ]
  },
  {
   "cell_type": "code",
   "execution_count": 14,
   "metadata": {},
   "outputs": [
    {
     "name": "stdout",
     "output_type": "stream",
     "text": [
      "The status of the cities is the follwing keep ['Yharnam', 'Churroland'] and evacuate ['Marsdrid', 'Ironforge']\n"
     ]
    }
   ],
   "source": [
    "status = status_of_cities(landmarks, 90)\n",
    "print(f\"The status of the cities is the follwing keep {status['keep']} and evacuate {status['evacuate']}\")"
   ]
  },
  {
   "cell_type": "markdown",
   "metadata": {},
   "source": [
    "### Exercise 9: open-ended\n",
    "\n",
    "What's the best way to evacuate the cities? Let's think of the difficulty for the evacuation as the product of the population to be evacuated and the distance to which they're being evacuated.\n",
    "\n",
    "```python\n",
    "difficulty = population_to_evacuate * distance_to_safety\n",
    "```\n",
    "\n",
    "We can evacuate all the population to the same city, or we can split the population between the cities, according to the distance between their original city and the city they're being evacuated to.\n",
    "\n",
    "Use code to back your decision."
   ]
  },
  {
   "cell_type": "code",
   "execution_count": 15,
   "metadata": {},
   "outputs": [],
   "source": [
    "def diff_eva(landmarks, explosion_radius):\n",
    "    \n",
    "    dict_difficutly = {}\n",
    "    \n",
    "    evacuation = population_to_evacuate(landmarks, population, explosion_radius)\n",
    "    \n",
    "    safe_cities = []\n",
    "    eva_cities = []\n",
    "    for city in cities:\n",
    "        if city not in evacuation:\n",
    "            safe_cities.append(city)\n",
    "        else:\n",
    "            eva_cities.append(city)\n",
    "    \n",
    "    for eva in eva_cities:\n",
    "        difficulty = 0\n",
    "        for safe in safe_cities:\n",
    "            if difficulty == 0:\n",
    "                dict_difficutly[f\"{eva}\"] = [safe, distance_between_landmarks(landmarks,(eva, safe))*evacuation[eva]]\n",
    "                difficulty = distance_between_landmarks(landmarks,(eva, safe))*evacuation[eva]\n",
    "            elif difficulty >= distance_between_landmarks(landmarks,(eva, safe))*evacuation[eva]:\n",
    "                dict_difficutly[f\"{eva}\"] = [safe, distance_between_landmarks(landmarks,(eva, safe))*evacuation[eva]]\n",
    "            else:\n",
    "                pass  \n",
    "    \n",
    "    return dict_difficutly"
   ]
  },
  {
   "cell_type": "code",
   "execution_count": 16,
   "metadata": {},
   "outputs": [
    {
     "name": "stdout",
     "output_type": "stream",
     "text": [
      "The best plan of evacuaion based on difficulty to evacuate the cities are the following: {'Marsdrid': ['Yharnam', 300000.0], 'Ironforge': ['Churroland', 212132.03435596428]} \n"
     ]
    }
   ],
   "source": [
    "points = diff_eva(landmarks, 90)\n",
    "print(f\"The best plan of evacuaion based on difficulty to evacuate the cities are the following: {points} \")"
   ]
  }
 ],
 "metadata": {
  "kernelspec": {
   "display_name": "Python 3 (ipykernel)",
   "language": "python",
   "name": "python3"
  },
  "language_info": {
   "codemirror_mode": {
    "name": "ipython",
    "version": 3
   },
   "file_extension": ".py",
   "mimetype": "text/x-python",
   "name": "python",
   "nbconvert_exporter": "python",
   "pygments_lexer": "ipython3",
   "version": "3.9.12"
  },
  "vscode": {
   "interpreter": {
    "hash": "a9f295c814a5ce7ff0b0a20f2b13117bfaf008fc7980e281f2c2bfa8e9ec0fbf"
   }
  }
 },
 "nbformat": 4,
 "nbformat_minor": 2
}
